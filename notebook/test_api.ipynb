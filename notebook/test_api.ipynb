{
 "cells": [
  {
   "cell_type": "code",
   "execution_count": 1,
   "metadata": {},
   "outputs": [
    {
     "name": "stdout",
     "output_type": "stream",
     "text": [
      "/workspaces/street_tree\n"
     ]
    },
    {
     "name": "stderr",
     "output_type": "stream",
     "text": [
      "2025-03-28 03:16:35,343 - src.utils - INFO - Logger is ready\n",
      "2025-03-28 03:16:35,345 - src.utils - INFO - This is a test log message.\n",
      "2025-03-28 03:16:35,347 - src.utils - INFO - PROJECT_DIR: /workspaces/street_tree\n",
      "2025-03-28 03:16:35,347 - src.utils - INFO - PATH_LOGS: /workspaces/street_tree/logs\n",
      "2025-03-28 03:16:35,349 - src.utils - INFO - PATH_DATA: /workspaces/street_tree/data\n",
      "2025-03-28 03:16:35,350 - src.utils - INFO - PATH_RAW: /workspaces/street_tree/data/raw\n",
      "2025-03-28 03:16:35,351 - src.utils - INFO - PATH_PROCESSED: /workspaces/street_tree/data/processed\n",
      "2025-03-28 03:16:35,351 - src.utils - INFO - PATH_MODELS: /workspaces/street_tree/models\n",
      "2025-03-28 03:16:35,353 - src.utils - INFO - PATH_REPORTS: /workspaces/street_tree/reports\n",
      "2025-03-28 03:16:35,354 - src.utils - INFO - PATH_DOCS: /workspaces/street_tree/docs\n",
      "2025-03-28 03:16:35,355 - src.utils - INFO - PATH_SRC: /workspaces/street_tree/src\n",
      "2025-03-28 03:16:35,356 - src.utils - INFO - output_path: /workspaces/street_tree/data/raw/2015-street-tree-census-tree-data.zip\n"
     ]
    }
   ],
   "source": [
    "import os, sys\n",
    "\n",
    "PROJECT_DIR = os.path.abspath(os.path.join(os.getcwd(), '..'))\n",
    "print(PROJECT_DIR)\n",
    "sys.path.append(PROJECT_DIR)\n",
    "import pandas as pd\n",
    "from src.model import TreeData\n",
    "from src.config import PATH_PROCESSED\n",
    "import json\n",
    "\n",
    "import requests\n",
    "import json\n",
    "from src.model import TreeData\n",
    "from src.config import PATH_PROCESSED\n",
    "import pandas as pd\n",
    "from sklearn.metrics import roc_auc_score\n",
    "from sklearn.preprocessing import LabelBinarizer\n",
    "import numpy as np"
   ]
  },
  {
   "cell_type": "code",
   "execution_count": 2,
   "metadata": {},
   "outputs": [
    {
     "name": "stderr",
     "output_type": "stream",
     "text": [
      "/tmp/ipykernel_66786/2633686050.py:11: PydanticDeprecatedSince20: The `dict` method is deprecated; use `model_dump` instead. Deprecated in Pydantic V2.0 to be removed in V3.0. See Pydantic V2 Migration Guide at https://errors.pydantic.dev/2.10/migration/\n",
      "  data = [tree_data.dict() for tree_data in tree_data_list]\n"
     ]
    },
    {
     "name": "stdout",
     "output_type": "stream",
     "text": [
      "<Response [200]>\n"
     ]
    }
   ],
   "source": [
    "# Пример использования:\n",
    "data1 = pd.read_csv(f\"{PATH_PROCESSED}/test.csv\")\n",
    "df = data1.drop('health', axis=1)\n",
    "df.columns = [col.lower().replace(' ', '_') for col in df.columns]\n",
    "data_json = df.to_dict(orient='records')\n",
    "json_data = json.dumps(data_json)\n",
    "\n",
    "tree_data_list = TreeData.from_dataframe(json_data)\n",
    "\n",
    "# Convert list of TreeData objects to list of dictionaries\n",
    "data = [tree_data.dict() for tree_data in tree_data_list]\n",
    "\n",
    "# Convert list of dictionaries to JSON\n",
    "json_data = json.dumps(data)\n",
    "\n",
    "\n",
    "# Send POST request to the endpoint\n",
    "url = \"http://localhost:8000/predict_health/\"\n",
    "headers = {\"Content-Type\": \"application/json\"}\n",
    "response = requests.post(url, data=json_data, headers=headers)\n",
    "print(response) # <Response [200]>"
   ]
  },
  {
   "cell_type": "code",
   "execution_count": 3,
   "metadata": {},
   "outputs": [
    {
     "name": "stdout",
     "output_type": "stream",
     "text": [
      "[{\"tree_id\": 536325, \"block_id\": 415591, \"tree_dbh\": 56, \"curb_loc\": 0, \"spc_latin\": \"Fraxinus\", \"steward\": \"None\", \"guards\": \"Unsure\", \"sidewalk\": 0, \"user_type\": \"NYC Parks Staff\", \"problems\": \"NoProblem\", \"root_stone\": 0, \"root_grate\": 0, \"root_other\": 0, \"trunk_wire\": 0, \"trnk_light\": 0, \"trnk_other\": 0, \"brch_light\": 0, \"brch_shoe\": 0, \"brch_other\": 0, \"postcode\": 10306, \"borough\": \"Staten Island\", \"cncldist\": 50, \"st_assem\": 62, \"st_senate\": 24, \"nta\": \"SI24\", \"boro_ct\": 5027900, \"latitude\": 40.571808, \"longitude\": -74.14425163}, {\"tree_id\": 247341, \"block_id\": 335158, \"tree_dbh\": 16, \"curb_loc\": 1, \"spc_latin\": \"Acer platanoides\", \"steward\": \"None\", \"guards\": \"Unsure\", \"sidewalk\": 0, \"user_type\": \"NYC Parks Staff\", \"problems\": \"RootOther,TrunkOther,BranchOther\", \"root_stone\": 0, \"root_grate\": 0, \"root_other\": 1, \"trunk_wire\": 0, \"trnk_light\": 0, \"trnk_other\": 1, \"brch_light\": 0, \"brch_shoe\": 0, \"brch_other\": 1, \"postcode\": 11426, \"borough\": \"Queens\", \"cncldist\": 23, \"st_assem\": \n"
     ]
    }
   ],
   "source": [
    "print(json_data[:1000])"
   ]
  },
  {
   "cell_type": "code",
   "execution_count": 4,
   "metadata": {},
   "outputs": [
    {
     "name": "stdout",
     "output_type": "stream",
     "text": [
      "AUC-ROC: 0.7031976956450178\n"
     ]
    }
   ],
   "source": [
    "from sklearn.metrics import roc_auc_score\n",
    "import numpy as np\n",
    "\n",
    "# Истинные метки\n",
    "true_labels = data1['health'].map({'Poor': 0, 'Fair': 1, 'Good': 2}).tolist()\n",
    "\n",
    "# Извлекаем вероятности из ответа API\n",
    "predicted_probabilities = np.array([item['probably'] for item in response.json()])\n",
    "\n",
    "# Рассчитываем AUC-ROC\n",
    "roc_auc = roc_auc_score(true_labels, predicted_probabilities, multi_class='ovr')\n",
    "\n",
    "# Выводим результат\n",
    "print(f\"AUC-ROC: {roc_auc}\")"
   ]
  }
 ],
 "metadata": {
  "kernelspec": {
   "display_name": ".venv",
   "language": "python",
   "name": "python3"
  },
  "language_info": {
   "codemirror_mode": {
    "name": "ipython",
    "version": 3
   },
   "file_extension": ".py",
   "mimetype": "text/x-python",
   "name": "python",
   "nbconvert_exporter": "python",
   "pygments_lexer": "ipython3",
   "version": "3.12.1"
  }
 },
 "nbformat": 4,
 "nbformat_minor": 2
}
