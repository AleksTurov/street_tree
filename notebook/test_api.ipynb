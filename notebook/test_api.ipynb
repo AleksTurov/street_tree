{
 "cells": [
  {
   "cell_type": "code",
   "execution_count": 1,
   "metadata": {},
   "outputs": [
    {
     "name": "stdout",
     "output_type": "stream",
     "text": [
      "/workspaces/street_tree\n"
     ]
    },
    {
     "name": "stderr",
     "output_type": "stream",
     "text": [
      "2025-03-27 16:15:49,712 - src.utils - INFO - Logger is ready\n",
      "2025-03-27 16:15:49,716 - src.utils - INFO - This is a test log message.\n",
      "2025-03-27 16:15:49,717 - src.utils - INFO - PROJECT_DIR: /workspaces/street_tree\n",
      "2025-03-27 16:15:49,718 - src.utils - INFO - PATH_LOGS: /workspaces/street_tree/logs\n",
      "2025-03-27 16:15:49,719 - src.utils - INFO - PATH_DATA: /workspaces/street_tree/data\n",
      "2025-03-27 16:15:49,719 - src.utils - INFO - PATH_RAW: /workspaces/street_tree/data/raw\n",
      "2025-03-27 16:15:49,721 - src.utils - INFO - PATH_PROCESSED: /workspaces/street_tree/data/processed\n",
      "2025-03-27 16:15:49,722 - src.utils - INFO - PATH_MODELS: /workspaces/street_tree/models\n",
      "2025-03-27 16:15:49,723 - src.utils - INFO - PATH_REPORTS: /workspaces/street_tree/reports\n",
      "2025-03-27 16:15:49,724 - src.utils - INFO - PATH_DOCS: /workspaces/street_tree/docs\n",
      "2025-03-27 16:15:49,725 - src.utils - INFO - PATH_SRC: /workspaces/street_tree/src\n",
      "2025-03-27 16:15:49,728 - src.utils - INFO - output_path: /workspaces/street_tree/data/raw/2015-street-tree-census-tree-data.zip\n"
     ]
    }
   ],
   "source": [
    "import os, sys\n",
    "\n",
    "PROJECT_DIR = os.path.abspath(os.path.join(os.getcwd(), '..'))\n",
    "print(PROJECT_DIR)\n",
    "sys.path.append(PROJECT_DIR)\n",
    "import pandas as pd\n",
    "from src.model import TreeData\n",
    "from src.config import PATH_PROCESSED\n",
    "import json\n",
    "\n",
    "import requests\n",
    "import json\n",
    "from src.model import TreeData\n",
    "from src.config import PATH_PROCESSED\n",
    "import pandas as pd\n",
    "from sklearn.metrics import roc_auc_score\n",
    "from sklearn.preprocessing import LabelBinarizer\n",
    "import numpy as np"
   ]
  },
  {
   "cell_type": "code",
   "execution_count": 8,
   "metadata": {},
   "outputs": [
    {
     "name": "stdout",
     "output_type": "stream",
     "text": [
      "<Response [200]>\n",
      "[{'block_id': 0.887674596352714, 'tree_dbh': 5.14471676575259, 'curb_loc': -4.936958023201885, 'spc_latin': -0.7258585469296979, 'steward': 0.5742726692892303, 'guards': 0.3305316081585995, 'sidewalk': -0.6335220038581744, 'user_type': -1.428921333440281, 'root_stone': -0.5219897319788671, 'root_grate': -0.07395164199771398, 'root_other': -0.22098425430836127, 'trunk_wire': -0.144507236604864, 'trnk_light': -0.039943861718546025, 'trnk_other': -0.2293275200446903, 'brch_light': -0.32590706239722994, 'brch_shoe': -0.024987477418603535, 'brch_other': -0.19692728234462126, 'postcode': -0.9246083360097102, 'borough': 1.3990457447300773, 'cncldist': 1.3943731486851907, 'st_assem': 0.5904014950686023, 'st_senate': 0.45754090899292926, 'nta': 1.2895339323209067, 'boro_ct': 1.376859703860297, 'latitude': -1.4304242896456099, 'longitude': -1.7730282839105151, 'num_problems': -0.29773605548404763, 'predicted_health': 'Good'}, {'block_id': 0.18740877789741833, 'tree_dbh': 0.49907864653145817, 'curb_loc': 0.2025538793930126, 'spc_latin': -1.8958404391049382, 'steward': 0.5742726692892303, 'guards': 0.3305316081585995, 'sidewalk': -0.6335220038581744, 'user_type': -1.428921333440281, 'root_stone': -0.5219897319788671, 'root_grate': -0.07395164199771398, 'root_other': 4.525209287556755, 'trunk_wire': -0.144507236604864, 'trnk_light': -0.039943861718546025, 'trnk_other': 4.36057565095164, 'brch_light': -0.32590706239722994, 'brch_shoe': -0.024987477418603535, 'brch_other': 5.078016555623855, 'postcode': 0.778722164313892, 'borough': 0.6350401798520802, 'cncldist': -0.48686815490442376, 'st_assem': -0.9420796302196156, 'st_senate': -1.3033534440179602, 'nta': 0.7165837620691736, 'boro_ct': 0.6410723899041558, 'latitude': 0.30319579692121623, 'longitude': 1.726559498486067, 'num_problems': 4.438153764175369, 'predicted_health': 'Poor'}, {'block_id': -0.9667547995021767, 'tree_dbh': -1.126894695195938, 'curb_loc': 0.2025538793930126, 'spc_latin': -1.5318460726504188, 'steward': 0.5742726692892303, 'guards': 0.3305316081585995, 'sidewalk': -0.6335220038581744, 'user_type': -1.428921333440281, 'root_stone': -0.5219897319788671, 'root_grate': -0.07395164199771398, 'root_other': -0.22098425430836127, 'trunk_wire': -0.144507236604864, 'trnk_light': -0.039943861718546025, 'trnk_other': -0.2293275200446903, 'brch_light': -0.32590706239722994, 'brch_shoe': -0.024987477418603535, 'brch_other': -0.19692728234462126, 'postcode': 0.4471810490723337, 'borough': -0.8929709499039139, 'cncldist': 0.48859029880870963, 'st_assem': 0.16764808119599045, 'st_senate': -0.3551795616274812, 'nta': -1.0717152541710842, 'boro_ct': -0.24481145877381655, 'latitude': -0.22928982285584273, 'longitude': 0.47527216886433904, 'num_problems': -0.29773605548404763, 'predicted_health': 'Poor'}, {'block_id': 1.6381838974370984, 'tree_dbh': 0.3829376935509299, 'curb_loc': 0.2025538793930126, 'spc_latin': -0.621860156514121, 'steward': 0.5742726692892303, 'guards': 0.3305316081585995, 'sidewalk': 1.578477138773335, 'user_type': -0.09401909206389714, 'root_stone': 1.915746496025875, 'root_grate': -0.07395164199771398, 'root_other': -0.22098425430836127, 'trunk_wire': -0.144507236604864, 'trnk_light': -0.039943861718546025, 'trnk_other': -0.2293275200446903, 'brch_light': -0.32590706239722994, 'brch_shoe': -0.024987477418603535, 'brch_other': -0.19692728234462126, 'postcode': -0.6919212230190752, 'borough': -1.656976514781911, 'cncldist': -0.904921777924338, 'st_assem': 1.8058175599523612, 'st_senate': 1.5411682031534766, 'nta': -0.7071106003745268, 'boro_ct': -1.1843792400940358, 'latitude': 1.3909219520988132, 'longitude': 0.2532432027716352, 'num_problems': -0.29773605548404763, 'predicted_health': 'Good'}, {'block_id': -0.06171914714700726, 'tree_dbh': 2.3573338942199107, 'curb_loc': 0.2025538793930126, 'spc_latin': 0.7301189188883787, 'steward': 0.5742726692892303, 'guards': 0.3305316081585995, 'sidewalk': 1.578477138773335, 'user_type': 1.240883149312487, 'root_stone': 1.915746496025875, 'root_grate': -0.07395164199771398, 'root_other': -0.22098425430836127, 'trunk_wire': -0.144507236604864, 'trnk_light': -0.039943861718546025, 'trnk_other': -0.2293275200446903, 'brch_light': -0.32590706239722994, 'brch_shoe': -0.024987477418603535, 'brch_other': -0.19692728234462126, 'postcode': 0.6889931468861308, 'borough': 0.6350401798520802, 'cncldist': -0.41719255106777137, 'st_assem': -1.2591446906240744, 'st_senate': -0.626086385167618, 'nta': 0.6471352565841151, 'boro_ct': 0.5724374153397871, 'latitude': 0.3477956086976016, 'longitude': 0.8638223146510786, 'num_problems': -0.29773605548404763, 'predicted_health': 'Good'}, {'block_id': 1.6966808580652128, 'tree_dbh': -1.0107537422154098, 'curb_loc': 0.2025538793930126, 'spc_latin': 1.1721120781545806, 'steward': -1.8123135730724715, 'guards': -2.004227004299679, 'sidewalk': -0.6335220038581744, 'user_type': -0.09401909206389714, 'root_stone': -0.5219897319788671, 'root_grate': -0.07395164199771398, 'root_other': -0.22098425430836127, 'trunk_wire': -0.144507236604864, 'trnk_light': -0.039943861718546025, 'trnk_other': -0.2293275200446903, 'brch_light': -0.32590706239722994, 'brch_shoe': -0.024987477418603535, 'brch_other': -0.19692728234462126, 'postcode': -0.6873587306074941, 'borough': -1.656976514781911, 'cncldist': -0.8352461740876858, 'st_assem': 1.9115059134205141, 'st_senate': 1.8120750266936134, 'nta': -0.3772301993204986, 'boro_ct': -1.1873531391775736, 'latitude': 1.4481085765559851, 'longitude': 0.5829470501938162, 'num_problems': -0.29773605548404763, 'predicted_health': 'Good'}, {'block_id': 1.7495884380231013, 'tree_dbh': 0.3829376935509299, 'curb_loc': 0.2025538793930126, 'spc_latin': -0.6478597541180152, 'steward': 0.5742726692892303, 'guards': 0.3305316081585995, 'sidewalk': 1.578477138773335, 'user_type': 1.240883149312487, 'root_stone': -0.5219897319788671, 'root_grate': -0.07395164199771398, 'root_other': -0.22098425430836127, 'trunk_wire': -0.144507236604864, 'trnk_light': -0.039943861718546025, 'trnk_other': -0.2293275200446903, 'brch_light': 3.068359404808344, 'brch_shoe': -0.024987477418603535, 'brch_other': -0.19692728234462126, 'postcode': -0.6675879301573094, 'borough': -1.656976514781911, 'cncldist': -1.1836241932709477, 'st_assem': 1.6472850297501318, 'st_senate': 1.8120750266936134, 'nta': -0.9154561168297025, 'boro_ct': -1.1564334229134272, 'latitude': 2.057869010662279, 'longitude': 0.8655023066970594, 'num_problems': -0.29773605548404763, 'predicted_health': 'Good'}, {'block_id': 1.7390539355137966, 'tree_dbh': -1.0107537422154098, 'curb_loc': 0.2025538793930126, 'spc_latin': 1.1721120781545806, 'steward': -1.8123135730724715, 'guards': -2.004227004299679, 'sidewalk': 1.578477138773335, 'user_type': -0.09401909206389714, 'root_stone': -0.5219897319788671, 'root_grate': -0.07395164199771398, 'root_other': -0.22098425430836127, 'trunk_wire': -0.144507236604864, 'trnk_light': -0.039943861718546025, 'trnk_other': -0.2293275200446903, 'brch_light': -0.32590706239722994, 'brch_shoe': -0.024987477418603535, 'brch_other': -0.19692728234462126, 'postcode': -0.6797545765881924, 'borough': -1.656976514781911, 'cncldist': -1.2532997971076, 'st_assem': 1.7001292064842084, 'st_senate': 2.0829818502337503, 'nta': -0.8633697377159085, 'boro_ct': -1.1662869588657376, 'latitude': 1.8849878984123551, 'longitude': 0.5064667280722529, 'num_problems': -0.29773605548404763, 'predicted_health': 'Good'}, {'block_id': 1.7061880289248499, 'tree_dbh': -0.7784718362543531, 'curb_loc': 0.2025538793930126, 'spc_latin': -0.9338553277608517, 'steward': 0.5742726692892303, 'guards': 0.3305316081585995, 'sidewalk': -0.6335220038581744, 'user_type': -0.09401909206389714, 'root_stone': 1.915746496025875, 'root_grate': -0.07395164199771398, 'root_other': -0.22098425430836127, 'trunk_wire': -0.144507236604864, 'trnk_light': -0.039943861718546025, 'trnk_other': -0.2293275200446903, 'brch_light': -0.32590706239722994, 'brch_shoe': -0.024987477418603535, 'brch_other': -0.19692728234462126, 'postcode': -0.6827962381959131, 'borough': -1.656976514781911, 'cncldist': -1.1836241932709477, 'st_assem': 1.6472850297501318, 'st_senate': 1.8120750266936134, 'nta': -0.41195445206302794, 'boro_ct': -1.1822564826505164, 'latitude': 1.4015863085113522, 'longitude': 0.7880626003036529, 'num_problems': -0.29773605548404763, 'predicted_health': 'Fair'}, {'block_id': 0.0635282521082472, 'tree_dbh': -0.19776707135171165, 'curb_loc': 0.2025538793930126, 'spc_latin': 0.28812575962217685, 'steward': 0.5742726692892303, 'guards': 0.3305316081585995, 'sidewalk': 1.578477138773335, 'user_type': -0.09401909206389714, 'root_stone': 1.915746496025875, 'root_grate': -0.07395164199771398, 'root_other': -0.22098425430836127, 'trunk_wire': -0.144507236604864, 'trnk_light': -0.039943861718546025, 'trnk_other': -0.2293275200446903, 'brch_light': -0.32590706239722994, 'brch_shoe': -0.024987477418603535, 'brch_other': -0.19692728234462126, 'postcode': 0.681388992866829, 'borough': 0.6350401798520802, 'cncldist': -0.48686815490442376, 'st_assem': -1.3119888673581508, 'st_senate': -1.3033534440179602, 'nta': 0.751308014811703, 'boro_ct': 0.6335989925499811, 'latitude': 0.579069766155643, 'longitude': 1.5975826538178945, 'num_problems': -0.29773605548404763, 'predicted_health': 'Good'}]\n"
     ]
    },
    {
     "name": "stderr",
     "output_type": "stream",
     "text": [
      "/tmp/ipykernel_93435/2316699879.py:11: PydanticDeprecatedSince20: The `dict` method is deprecated; use `model_dump` instead. Deprecated in Pydantic V2.0 to be removed in V3.0. See Pydantic V2 Migration Guide at https://errors.pydantic.dev/2.10/migration/\n",
      "  data = [tree_data.dict() for tree_data in tree_data_list]\n"
     ]
    }
   ],
   "source": [
    "# Пример использования:\n",
    "df = pd.read_csv(f\"{PATH_PROCESSED}/test.csv\").head(10)\n",
    "df = df.drop('health', axis=1)\n",
    "df.columns = [col.lower().replace(' ', '_') for col in df.columns]\n",
    "data_json = df.to_dict(orient='records')\n",
    "json_data = json.dumps(data_json)\n",
    "\n",
    "tree_data_list = TreeData.from_dataframe(json_data)\n",
    "\n",
    "# Convert list of TreeData objects to list of dictionaries\n",
    "data = [tree_data.dict() for tree_data in tree_data_list]\n",
    "\n",
    "# Convert list of dictionaries to JSON\n",
    "json_data = json.dumps(data)\n",
    "\n",
    "\n",
    "# Send POST request to the endpoint\n",
    "url = \"http://localhost:8000/predict_health/\"\n",
    "headers = {\"Content-Type\": \"application/json\"}\n",
    "response = requests.post(url, data=json_data, headers=headers)\n",
    "print(response) \n",
    "# Print the response\n",
    "print(response.json())"
   ]
  }
 ],
 "metadata": {
  "kernelspec": {
   "display_name": ".venv",
   "language": "python",
   "name": "python3"
  },
  "language_info": {
   "codemirror_mode": {
    "name": "ipython",
    "version": 3
   },
   "file_extension": ".py",
   "mimetype": "text/x-python",
   "name": "python",
   "nbconvert_exporter": "python",
   "pygments_lexer": "ipython3",
   "version": "3.12.1"
  }
 },
 "nbformat": 4,
 "nbformat_minor": 2
}
