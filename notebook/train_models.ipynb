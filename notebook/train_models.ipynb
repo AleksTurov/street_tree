{
 "cells": [
  {
   "cell_type": "markdown",
   "metadata": {},
   "source": [
    "# Обучение моделей"
   ]
  },
  {
   "cell_type": "markdown",
   "metadata": {},
   "source": [
    "## Импорт библиотек"
   ]
  },
  {
   "cell_type": "code",
   "execution_count": 1,
   "metadata": {},
   "outputs": [
    {
     "name": "stdout",
     "output_type": "stream",
     "text": [
      "/workspaces/street_tree\n"
     ]
    }
   ],
   "source": [
    "import os, sys\n",
    "\n",
    "PROJECT_DIR = os.path.abspath(os.path.join(os.getcwd(), '..'))\n",
    "print(PROJECT_DIR)\n",
    "sys.path.append(PROJECT_DIR)"
   ]
  },
  {
   "cell_type": "code",
   "execution_count": 2,
   "metadata": {},
   "outputs": [
    {
     "name": "stderr",
     "output_type": "stream",
     "text": [
      "2025-03-23 06:21:13,956 - src.utils - INFO - Logger is ready\n",
      "2025-03-23 06:21:13,971 - src.utils - INFO - This is a test log message.\n",
      "2025-03-23 06:21:13,973 - src.utils - INFO - PROJECT_DIR: /workspaces/street_tree\n",
      "2025-03-23 06:21:13,977 - src.utils - INFO - PATH_LOGS: /workspaces/street_tree/logs\n",
      "2025-03-23 06:21:13,981 - src.utils - INFO - PATH_DATA: /workspaces/street_tree/data\n",
      "2025-03-23 06:21:13,983 - src.utils - INFO - PATH_RAW: /workspaces/street_tree/data/raw\n",
      "2025-03-23 06:21:13,986 - src.utils - INFO - PATH_PROCESSED: /workspaces/street_tree/data/processed\n",
      "2025-03-23 06:21:13,988 - src.utils - INFO - PATH_MODELS: /workspaces/street_tree/models\n",
      "2025-03-23 06:21:13,993 - src.utils - INFO - PATH_REPORTS: /workspaces/street_tree/reports\n",
      "2025-03-23 06:21:13,996 - src.utils - INFO - PATH_DOCS: /workspaces/street_tree/docs\n",
      "2025-03-23 06:21:14,001 - src.utils - INFO - PATH_SRC: /workspaces/street_tree/src\n",
      "2025-03-23 06:21:14,005 - src.utils - INFO - output_path: /workspaces/street_tree/data/raw/2015-street-tree-census-tree-data.zip\n"
     ]
    }
   ],
   "source": [
    "import pandas as pd \n",
    "from src.config import PATH_RAW, PATH_PROCESSED, URL, NAME_DATASET, PATH_MODELS, output_path\n",
    "from src.dowload_datafraime import download_file\n",
    "from src.visualization import plot_corr_matrix\n",
    "from src.preprocessing import (df_fillna, split_problems, convert_to_bool, encode_and_save_categorical, \n",
    "                               load_and_encode_categorical, split_and_save)\n"
   ]
  },
  {
   "cell_type": "markdown",
   "metadata": {},
   "source": [
    "## Предобработка"
   ]
  },
  {
   "cell_type": "code",
   "execution_count": 3,
   "metadata": {},
   "outputs": [
    {
     "data": {
      "text/html": [
       "<div>\n",
       "<style scoped>\n",
       "    .dataframe tbody tr th:only-of-type {\n",
       "        vertical-align: middle;\n",
       "    }\n",
       "\n",
       "    .dataframe tbody tr th {\n",
       "        vertical-align: top;\n",
       "    }\n",
       "\n",
       "    .dataframe thead th {\n",
       "        text-align: right;\n",
       "    }\n",
       "</style>\n",
       "<table border=\"1\" class=\"dataframe\">\n",
       "  <thead>\n",
       "    <tr style=\"text-align: right;\">\n",
       "      <th></th>\n",
       "      <th>tree_id</th>\n",
       "      <th>block_id</th>\n",
       "      <th>created_at</th>\n",
       "      <th>tree_dbh</th>\n",
       "      <th>stump_diam</th>\n",
       "      <th>curb_loc</th>\n",
       "      <th>status</th>\n",
       "      <th>health</th>\n",
       "      <th>spc_latin</th>\n",
       "      <th>spc_common</th>\n",
       "      <th>...</th>\n",
       "      <th>boro_ct</th>\n",
       "      <th>state</th>\n",
       "      <th>latitude</th>\n",
       "      <th>longitude</th>\n",
       "      <th>x_sp</th>\n",
       "      <th>y_sp</th>\n",
       "      <th>council district</th>\n",
       "      <th>census tract</th>\n",
       "      <th>bin</th>\n",
       "      <th>bbl</th>\n",
       "    </tr>\n",
       "  </thead>\n",
       "  <tbody>\n",
       "    <tr>\n",
       "      <th>0</th>\n",
       "      <td>180683</td>\n",
       "      <td>348711</td>\n",
       "      <td>2015-08-27T00:00:00.000</td>\n",
       "      <td>3</td>\n",
       "      <td>0</td>\n",
       "      <td>OnCurb</td>\n",
       "      <td>Alive</td>\n",
       "      <td>Fair</td>\n",
       "      <td>Acer rubrum</td>\n",
       "      <td>red maple</td>\n",
       "      <td>...</td>\n",
       "      <td>4073900</td>\n",
       "      <td>New York</td>\n",
       "      <td>40.723092</td>\n",
       "      <td>-73.844215</td>\n",
       "      <td>1027431.148</td>\n",
       "      <td>202756.7687</td>\n",
       "      <td>29.0</td>\n",
       "      <td>739.0</td>\n",
       "      <td>4052307.0</td>\n",
       "      <td>4.022210e+09</td>\n",
       "    </tr>\n",
       "    <tr>\n",
       "      <th>1</th>\n",
       "      <td>200540</td>\n",
       "      <td>315986</td>\n",
       "      <td>2015-09-03T00:00:00.000</td>\n",
       "      <td>21</td>\n",
       "      <td>0</td>\n",
       "      <td>OnCurb</td>\n",
       "      <td>Alive</td>\n",
       "      <td>Fair</td>\n",
       "      <td>Quercus palustris</td>\n",
       "      <td>pin oak</td>\n",
       "      <td>...</td>\n",
       "      <td>4097300</td>\n",
       "      <td>New York</td>\n",
       "      <td>40.794111</td>\n",
       "      <td>-73.818679</td>\n",
       "      <td>1034455.701</td>\n",
       "      <td>228644.8374</td>\n",
       "      <td>19.0</td>\n",
       "      <td>973.0</td>\n",
       "      <td>4101931.0</td>\n",
       "      <td>4.044750e+09</td>\n",
       "    </tr>\n",
       "    <tr>\n",
       "      <th>2</th>\n",
       "      <td>204026</td>\n",
       "      <td>218365</td>\n",
       "      <td>2015-09-05T00:00:00.000</td>\n",
       "      <td>3</td>\n",
       "      <td>0</td>\n",
       "      <td>OnCurb</td>\n",
       "      <td>Alive</td>\n",
       "      <td>Good</td>\n",
       "      <td>Gleditsia triacanthos var. inermis</td>\n",
       "      <td>honeylocust</td>\n",
       "      <td>...</td>\n",
       "      <td>3044900</td>\n",
       "      <td>New York</td>\n",
       "      <td>40.717581</td>\n",
       "      <td>-73.936608</td>\n",
       "      <td>1001822.831</td>\n",
       "      <td>200716.8913</td>\n",
       "      <td>34.0</td>\n",
       "      <td>449.0</td>\n",
       "      <td>3338310.0</td>\n",
       "      <td>3.028870e+09</td>\n",
       "    </tr>\n",
       "  </tbody>\n",
       "</table>\n",
       "<p>3 rows × 45 columns</p>\n",
       "</div>"
      ],
      "text/plain": [
       "   tree_id  block_id               created_at  tree_dbh  stump_diam curb_loc  \\\n",
       "0   180683    348711  2015-08-27T00:00:00.000         3           0   OnCurb   \n",
       "1   200540    315986  2015-09-03T00:00:00.000        21           0   OnCurb   \n",
       "2   204026    218365  2015-09-05T00:00:00.000         3           0   OnCurb   \n",
       "\n",
       "  status health                           spc_latin   spc_common  ...  \\\n",
       "0  Alive   Fair                         Acer rubrum    red maple  ...   \n",
       "1  Alive   Fair                   Quercus palustris      pin oak  ...   \n",
       "2  Alive   Good  Gleditsia triacanthos var. inermis  honeylocust  ...   \n",
       "\n",
       "   boro_ct     state   latitude  longitude         x_sp         y_sp  \\\n",
       "0  4073900  New York  40.723092 -73.844215  1027431.148  202756.7687   \n",
       "1  4097300  New York  40.794111 -73.818679  1034455.701  228644.8374   \n",
       "2  3044900  New York  40.717581 -73.936608  1001822.831  200716.8913   \n",
       "\n",
       "  council district census tract        bin           bbl  \n",
       "0             29.0        739.0  4052307.0  4.022210e+09  \n",
       "1             19.0        973.0  4101931.0  4.044750e+09  \n",
       "2             34.0        449.0  3338310.0  3.028870e+09  \n",
       "\n",
       "[3 rows x 45 columns]"
      ]
     },
     "execution_count": 3,
     "metadata": {},
     "output_type": "execute_result"
    }
   ],
   "source": [
    "df = pd.read_csv(f'{PATH_RAW}/{NAME_DATASET}.csv')\n",
    "df.head(3)"
   ]
  },
  {
   "cell_type": "code",
   "execution_count": 4,
   "metadata": {},
   "outputs": [
    {
     "data": {
      "text/plain": [
       "(652172, 28)"
      ]
     },
     "execution_count": 4,
     "metadata": {},
     "output_type": "execute_result"
    }
   ],
   "source": [
    "df.columns = [col.lower().replace(' ', '_') for col in df.columns]\n",
    "df_drop_columns = ['status', 'state', 'tree_id', 'created_at', 'stump_diam', 'address', 'spc_common',\n",
    "                   'borocode', 'x_sp', 'y_sp', 'council_district', 'census_tract', 'nta_name',\n",
    "                   'bin', 'zip_city', 'community_board', 'bbl']\n",
    "df = df.drop(columns=df_drop_columns)\n",
    "df.dropna(subset=['health'], inplace=True)\n",
    "df.shape\n"
   ]
  },
  {
   "cell_type": "code",
   "execution_count": 5,
   "metadata": {},
   "outputs": [
    {
     "name": "stderr",
     "output_type": "stream",
     "text": [
      "/workspaces/street_tree/src/preprocessing.py:15: FutureWarning: A value is trying to be set on a copy of a DataFrame or Series through chained assignment using an inplace method.\n",
      "The behavior will change in pandas 3.0. This inplace method will never work because the intermediate object on which we are setting values always behaves as a copy.\n",
      "\n",
      "For example, when doing 'df[col].method(value, inplace=True)', try using 'df.method({col: value}, inplace=True)' or df[col] = df[col].method(value) instead, to perform the operation inplace on the original object.\n",
      "\n",
      "\n",
      "  df['spc_latin'].fillna('No observation',inplace=True)\n",
      "/workspaces/street_tree/src/preprocessing.py:16: FutureWarning: A value is trying to be set on a copy of a DataFrame or Series through chained assignment using an inplace method.\n",
      "The behavior will change in pandas 3.0. This inplace method will never work because the intermediate object on which we are setting values always behaves as a copy.\n",
      "\n",
      "For example, when doing 'df[col].method(value, inplace=True)', try using 'df.method({col: value}, inplace=True)' or df[col] = df[col].method(value) instead, to perform the operation inplace on the original object.\n",
      "\n",
      "\n",
      "  df['sidewalk'].fillna('NoDamage',inplace=True)\n",
      "/workspaces/street_tree/src/preprocessing.py:17: FutureWarning: A value is trying to be set on a copy of a DataFrame or Series through chained assignment using an inplace method.\n",
      "The behavior will change in pandas 3.0. This inplace method will never work because the intermediate object on which we are setting values always behaves as a copy.\n",
      "\n",
      "For example, when doing 'df[col].method(value, inplace=True)', try using 'df.method({col: value}, inplace=True)' or df[col] = df[col].method(value) instead, to perform the operation inplace on the original object.\n",
      "\n",
      "\n",
      "  df['problems'].fillna('NoProblem',inplace=True)\n",
      "/workspaces/street_tree/src/preprocessing.py:18: FutureWarning: A value is trying to be set on a copy of a DataFrame or Series through chained assignment using an inplace method.\n",
      "The behavior will change in pandas 3.0. This inplace method will never work because the intermediate object on which we are setting values always behaves as a copy.\n",
      "\n",
      "For example, when doing 'df[col].method(value, inplace=True)', try using 'df.method({col: value}, inplace=True)' or df[col] = df[col].method(value) instead, to perform the operation inplace on the original object.\n",
      "\n",
      "\n",
      "  df['steward'].fillna('None',inplace=True)\n",
      "/workspaces/street_tree/src/preprocessing.py:19: FutureWarning: A value is trying to be set on a copy of a DataFrame or Series through chained assignment using an inplace method.\n",
      "The behavior will change in pandas 3.0. This inplace method will never work because the intermediate object on which we are setting values always behaves as a copy.\n",
      "\n",
      "For example, when doing 'df[col].method(value, inplace=True)', try using 'df.method({col: value}, inplace=True)' or df[col] = df[col].method(value) instead, to perform the operation inplace on the original object.\n",
      "\n",
      "\n",
      "  df['guards'].fillna('Unsure',inplace=True)\n",
      "2025-03-23 06:21:21,485 - src.utils - INFO - Пропуски заполнены\n"
     ]
    },
    {
     "data": {
      "text/plain": [
       "(652172, 28)"
      ]
     },
     "execution_count": 5,
     "metadata": {},
     "output_type": "execute_result"
    }
   ],
   "source": [
    "df = df_fillna(df)\n",
    "df.shape"
   ]
  },
  {
   "cell_type": "code",
   "execution_count": 6,
   "metadata": {},
   "outputs": [
    {
     "name": "stderr",
     "output_type": "stream",
     "text": [
      "2025-03-23 06:21:22,352 - src.utils - INFO - {'trunklights', 'branchother', 'rootother', 'stones', 'wiresrope', 'branchlights', 'trunkother', 'metalgrates', 'noproblem', 'sneakers'} - уникальные проблемы\n"
     ]
    },
    {
     "data": {
      "text/plain": [
       "(652172, 38)"
      ]
     },
     "execution_count": 6,
     "metadata": {},
     "output_type": "execute_result"
    }
   ],
   "source": [
    "df = split_problems(df)\n",
    "df.shape"
   ]
  },
  {
   "cell_type": "code",
   "execution_count": 7,
   "metadata": {},
   "outputs": [
    {
     "name": "stderr",
     "output_type": "stream",
     "text": [
      "2025-03-23 06:21:26,974 - src.utils - INFO - Значения преобразованы в булевые\n"
     ]
    },
    {
     "data": {
      "text/plain": [
       "(652172, 38)"
      ]
     },
     "execution_count": 7,
     "metadata": {},
     "output_type": "execute_result"
    }
   ],
   "source": [
    "df = convert_to_bool(df)\n",
    "df.shape"
   ]
  },
  {
   "cell_type": "code",
   "execution_count": 8,
   "metadata": {},
   "outputs": [
    {
     "data": {
      "text/plain": [
       "(652172, 28)"
      ]
     },
     "execution_count": 8,
     "metadata": {},
     "output_type": "execute_result"
    }
   ],
   "source": [
    "drop_columns = ['trunklights', 'metalgrates', 'branchother', 'sneakers', 'wiresrope', \n",
    "    'branchlights', 'noproblem', 'rootother', 'stones', 'trunkother']\n",
    "df = df.drop(columns=drop_columns)\n",
    "df.shape"
   ]
  },
  {
   "cell_type": "code",
   "execution_count": 9,
   "metadata": {},
   "outputs": [
    {
     "data": {
      "text/plain": [
       "['health', 'spc_latin', 'steward', 'guards', 'user_type', 'borough', 'nta']"
      ]
     },
     "execution_count": 9,
     "metadata": {},
     "output_type": "execute_result"
    }
   ],
   "source": [
    "categorical_columns = df.select_dtypes(include='object').columns.tolist()\n",
    "categorical_columns"
   ]
  },
  {
   "cell_type": "code",
   "execution_count": 10,
   "metadata": {},
   "outputs": [
    {
     "data": {
      "text/plain": [
       "(652172, 28)"
      ]
     },
     "execution_count": 10,
     "metadata": {},
     "output_type": "execute_result"
    }
   ],
   "source": [
    "df, label_encoders = encode_and_save_categorical(df, categorical_columns, PATH_MODELS)\n",
    "df.shape"
   ]
  },
  {
   "cell_type": "code",
   "execution_count": 11,
   "metadata": {},
   "outputs": [
    {
     "name": "stdout",
     "output_type": "stream",
     "text": [
      "  Health  Code\n",
      "0   Fair     0\n",
      "1   Good     1\n",
      "2   Poor     2\n"
     ]
    }
   ],
   "source": [
    "# Вывод значений, закодированных энкодером для столбца 'health', вместе с соответствующими им числовыми кодами\n",
    "health_classes = label_encoders['health'].classes_\n",
    "health_codes = label_encoders['health'].transform(health_classes)\n",
    "\n",
    "# Создание DataFrame для удобного отображения\n",
    "health_mapping = pd.DataFrame({'Health': health_classes, 'Code': health_codes})\n",
    "print(health_mapping)"
   ]
  },
  {
   "cell_type": "markdown",
   "metadata": {},
   "source": [
    "## Разделим на выборки"
   ]
  },
  {
   "cell_type": "code",
   "execution_count": 12,
   "metadata": {},
   "outputs": [
    {
     "name": "stderr",
     "output_type": "stream",
     "text": [
      "2025-03-23 06:21:36,334 - src.utils - INFO - Data successfully saved to: /workspaces/street_tree/data/processed\n"
     ]
    }
   ],
   "source": [
    "\n",
    "X_train, X_val, X_test, y_train, y_val, y_test = split_and_save(df, PATH_PROCESSED)"
   ]
  },
  {
   "cell_type": "markdown",
   "metadata": {},
   "source": [
    "## Обучим модели"
   ]
  },
  {
   "cell_type": "code",
   "execution_count": 13,
   "metadata": {},
   "outputs": [
    {
     "data": {
      "text/plain": [
       "array([1, 2, 0])"
      ]
     },
     "execution_count": 13,
     "metadata": {},
     "output_type": "execute_result"
    }
   ],
   "source": [
    "y_train.unique()"
   ]
  },
  {
   "cell_type": "code",
   "execution_count": 14,
   "metadata": {},
   "outputs": [
    {
     "name": "stderr",
     "output_type": "stream",
     "text": [
      "2025-03-23 06:21:40.646485: E external/local_xla/xla/stream_executor/cuda/cuda_fft.cc:467] Unable to register cuFFT factory: Attempting to register factory for plugin cuFFT when one has already been registered\n",
      "WARNING: All log messages before absl::InitializeLog() is called are written to STDERR\n",
      "E0000 00:00:1742710900.765099   44239 cuda_dnn.cc:8579] Unable to register cuDNN factory: Attempting to register factory for plugin cuDNN when one has already been registered\n",
      "E0000 00:00:1742710900.814826   44239 cuda_blas.cc:1407] Unable to register cuBLAS factory: Attempting to register factory for plugin cuBLAS when one has already been registered\n",
      "W0000 00:00:1742710901.513774   44239 computation_placer.cc:177] computation placer already registered. Please check linkage and avoid linking the same target more than once.\n",
      "W0000 00:00:1742710901.513807   44239 computation_placer.cc:177] computation placer already registered. Please check linkage and avoid linking the same target more than once.\n",
      "W0000 00:00:1742710901.513811   44239 computation_placer.cc:177] computation placer already registered. Please check linkage and avoid linking the same target more than once.\n",
      "W0000 00:00:1742710901.513813   44239 computation_placer.cc:177] computation placer already registered. Please check linkage and avoid linking the same target more than once.\n",
      "2025-03-23 06:21:41.583487: I tensorflow/core/platform/cpu_feature_guard.cc:210] This TensorFlow binary is optimized to use available CPU instructions in performance-critical operations.\n",
      "To enable the following instructions: AVX2 FMA, in other operations, rebuild TensorFlow with the appropriate compiler flags.\n"
     ]
    },
    {
     "ename": "ImportError",
     "evalue": "cannot import name 'FocalLoss' from 'focal_loss' (/workspaces/street_tree/.venv/lib/python3.12/site-packages/focal_loss/__init__.py)",
     "output_type": "error",
     "traceback": [
      "\u001b[31m---------------------------------------------------------------------------\u001b[39m",
      "\u001b[31mImportError\u001b[39m                               Traceback (most recent call last)",
      "\u001b[36mCell\u001b[39m\u001b[36m \u001b[39m\u001b[32mIn[14]\u001b[39m\u001b[32m, line 1\u001b[39m\n\u001b[32m----> \u001b[39m\u001b[32m1\u001b[39m \u001b[38;5;28;01mfrom\u001b[39;00m\u001b[38;5;250m \u001b[39m\u001b[34;01msrc\u001b[39;00m\u001b[34;01m.\u001b[39;00m\u001b[34;01mmodeling\u001b[39;00m\u001b[38;5;250m \u001b[39m\u001b[38;5;28;01mimport\u001b[39;00m DeepLearningModel\n\u001b[32m      3\u001b[39m model = DeepLearningModel(\n\u001b[32m      4\u001b[39m     input_size=X_train.shape[\u001b[32m1\u001b[39m],\n\u001b[32m      5\u001b[39m     hidden_layers=[\u001b[32m512\u001b[39m, \u001b[32m256\u001b[39m, \u001b[32m128\u001b[39m, \u001b[32m64\u001b[39m], \n\u001b[32m   (...)\u001b[39m\u001b[32m      8\u001b[39m     y_train=y_train\n\u001b[32m      9\u001b[39m )\n\u001b[32m     11\u001b[39m model.train(X_train, y_train, X_val, y_val, num_epochs=\u001b[32m5\u001b[39m)\n",
      "\u001b[36mFile \u001b[39m\u001b[32m/workspaces/street_tree/src/modeling.py:8\u001b[39m\n\u001b[32m      6\u001b[39m \u001b[38;5;28;01mimport\u001b[39;00m\u001b[38;5;250m \u001b[39m\u001b[34;01mos\u001b[39;00m\n\u001b[32m      7\u001b[39m \u001b[38;5;28;01mimport\u001b[39;00m\u001b[38;5;250m \u001b[39m\u001b[34;01mnumpy\u001b[39;00m\u001b[38;5;250m \u001b[39m\u001b[38;5;28;01mas\u001b[39;00m\u001b[38;5;250m \u001b[39m\u001b[34;01mnp\u001b[39;00m\n\u001b[32m----> \u001b[39m\u001b[32m8\u001b[39m \u001b[38;5;28;01mfrom\u001b[39;00m\u001b[38;5;250m \u001b[39m\u001b[34;01mfocal_loss\u001b[39;00m\u001b[38;5;250m \u001b[39m\u001b[38;5;28;01mimport\u001b[39;00m FocalLoss\n\u001b[32m     10\u001b[39m \u001b[38;5;28;01mclass\u001b[39;00m\u001b[38;5;250m \u001b[39m\u001b[34;01mDeepLearningModel\u001b[39;00m:\n\u001b[32m     11\u001b[39m \u001b[38;5;250m    \u001b[39m\u001b[33;03m\"\"\"\u001b[39;00m\n\u001b[32m     12\u001b[39m \u001b[33;03m    📊 Обоснование выбора архитектуры:\u001b[39;00m\n\u001b[32m     13\u001b[39m \n\u001b[32m   (...)\u001b[39m\u001b[32m     36\u001b[39m \u001b[33;03m    - ReduceLROnPlateau – снижает learning_rate, если модель перестает улучшаться (на val_loss).\u001b[39;00m\n\u001b[32m     37\u001b[39m \u001b[33;03m    \"\"\"\u001b[39;00m\n",
      "\u001b[31mImportError\u001b[39m: cannot import name 'FocalLoss' from 'focal_loss' (/workspaces/street_tree/.venv/lib/python3.12/site-packages/focal_loss/__init__.py)"
     ]
    }
   ],
   "source": [
    "from src.modeling import DeepLearningModel\n",
    "\n",
    "model = DeepLearningModel(\n",
    "    input_size=X_train.shape[1],\n",
    "    hidden_layers=[512, 256, 128, 64], \n",
    "    learning_rate=0.0001,              \n",
    "    model_dir=PATH_MODELS,\n",
    "    y_train=y_train\n",
    ")\n",
    "\n",
    "model.train(X_train, y_train, X_val, y_val, num_epochs=5)"
   ]
  }
 ],
 "metadata": {
  "kernelspec": {
   "display_name": ".venv",
   "language": "python",
   "name": "python3"
  },
  "language_info": {
   "codemirror_mode": {
    "name": "ipython",
    "version": 3
   },
   "file_extension": ".py",
   "mimetype": "text/x-python",
   "name": "python",
   "nbconvert_exporter": "python",
   "pygments_lexer": "ipython3",
   "version": "3.12.1"
  }
 },
 "nbformat": 4,
 "nbformat_minor": 2
}
