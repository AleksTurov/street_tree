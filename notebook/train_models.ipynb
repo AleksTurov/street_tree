{
 "cells": [
  {
   "cell_type": "markdown",
   "metadata": {},
   "source": [
    "# Обучение моделей"
   ]
  },
  {
   "cell_type": "markdown",
   "metadata": {},
   "source": [
    "## Импорт библиотек"
   ]
  },
  {
   "cell_type": "code",
   "execution_count": 1,
   "metadata": {},
   "outputs": [
    {
     "name": "stdout",
     "output_type": "stream",
     "text": [
      "/workspaces/street_tree\n"
     ]
    }
   ],
   "source": [
    "import os, sys\n",
    "\n",
    "PROJECT_DIR = os.path.abspath(os.path.join(os.getcwd(), '..'))\n",
    "print(PROJECT_DIR)\n",
    "sys.path.append(PROJECT_DIR)"
   ]
  },
  {
   "cell_type": "code",
   "execution_count": 2,
   "metadata": {},
   "outputs": [
    {
     "name": "stderr",
     "output_type": "stream",
     "text": [
      "2025-03-23 08:44:25,774 - src.utils - INFO - Logger is ready\n",
      "2025-03-23 08:44:25,775 - src.utils - INFO - This is a test log message.\n",
      "2025-03-23 08:44:25,776 - src.utils - INFO - PROJECT_DIR: /workspaces/street_tree\n",
      "2025-03-23 08:44:25,777 - src.utils - INFO - PATH_LOGS: /workspaces/street_tree/logs\n",
      "2025-03-23 08:44:25,778 - src.utils - INFO - PATH_DATA: /workspaces/street_tree/data\n",
      "2025-03-23 08:44:25,778 - src.utils - INFO - PATH_RAW: /workspaces/street_tree/data/raw\n",
      "2025-03-23 08:44:25,779 - src.utils - INFO - PATH_PROCESSED: /workspaces/street_tree/data/processed\n",
      "2025-03-23 08:44:25,779 - src.utils - INFO - PATH_MODELS: /workspaces/street_tree/models\n",
      "2025-03-23 08:44:25,780 - src.utils - INFO - PATH_REPORTS: /workspaces/street_tree/reports\n",
      "2025-03-23 08:44:25,781 - src.utils - INFO - PATH_DOCS: /workspaces/street_tree/docs\n",
      "2025-03-23 08:44:25,782 - src.utils - INFO - PATH_SRC: /workspaces/street_tree/src\n",
      "2025-03-23 08:44:25,782 - src.utils - INFO - output_path: /workspaces/street_tree/data/raw/2015-street-tree-census-tree-data.zip\n"
     ]
    }
   ],
   "source": [
    "import pandas as pd \n",
    "from src.config import PATH_RAW, PATH_PROCESSED, URL, NAME_DATASET, PATH_MODELS, output_path\n",
    "from src.dowload_datafraime import download_file\n",
    "from src.visualization import plot_corr_matrix\n",
    "from src.preprocessing import (df_fillna, split_problems, convert_to_bool, encode_and_save_categorical, \n",
    "                               load_and_encode_categorical, split_and_save)\n"
   ]
  },
  {
   "cell_type": "markdown",
   "metadata": {},
   "source": [
    "## Предобработка"
   ]
  },
  {
   "cell_type": "code",
   "execution_count": 3,
   "metadata": {},
   "outputs": [
    {
     "data": {
      "text/html": [
       "<div>\n",
       "<style scoped>\n",
       "    .dataframe tbody tr th:only-of-type {\n",
       "        vertical-align: middle;\n",
       "    }\n",
       "\n",
       "    .dataframe tbody tr th {\n",
       "        vertical-align: top;\n",
       "    }\n",
       "\n",
       "    .dataframe thead th {\n",
       "        text-align: right;\n",
       "    }\n",
       "</style>\n",
       "<table border=\"1\" class=\"dataframe\">\n",
       "  <thead>\n",
       "    <tr style=\"text-align: right;\">\n",
       "      <th></th>\n",
       "      <th>tree_id</th>\n",
       "      <th>block_id</th>\n",
       "      <th>created_at</th>\n",
       "      <th>tree_dbh</th>\n",
       "      <th>stump_diam</th>\n",
       "      <th>curb_loc</th>\n",
       "      <th>status</th>\n",
       "      <th>health</th>\n",
       "      <th>spc_latin</th>\n",
       "      <th>spc_common</th>\n",
       "      <th>...</th>\n",
       "      <th>boro_ct</th>\n",
       "      <th>state</th>\n",
       "      <th>latitude</th>\n",
       "      <th>longitude</th>\n",
       "      <th>x_sp</th>\n",
       "      <th>y_sp</th>\n",
       "      <th>council district</th>\n",
       "      <th>census tract</th>\n",
       "      <th>bin</th>\n",
       "      <th>bbl</th>\n",
       "    </tr>\n",
       "  </thead>\n",
       "  <tbody>\n",
       "    <tr>\n",
       "      <th>0</th>\n",
       "      <td>180683</td>\n",
       "      <td>348711</td>\n",
       "      <td>2015-08-27T00:00:00.000</td>\n",
       "      <td>3</td>\n",
       "      <td>0</td>\n",
       "      <td>OnCurb</td>\n",
       "      <td>Alive</td>\n",
       "      <td>Fair</td>\n",
       "      <td>Acer rubrum</td>\n",
       "      <td>red maple</td>\n",
       "      <td>...</td>\n",
       "      <td>4073900</td>\n",
       "      <td>New York</td>\n",
       "      <td>40.723092</td>\n",
       "      <td>-73.844215</td>\n",
       "      <td>1027431.148</td>\n",
       "      <td>202756.7687</td>\n",
       "      <td>29.0</td>\n",
       "      <td>739.0</td>\n",
       "      <td>4052307.0</td>\n",
       "      <td>4.022210e+09</td>\n",
       "    </tr>\n",
       "    <tr>\n",
       "      <th>1</th>\n",
       "      <td>200540</td>\n",
       "      <td>315986</td>\n",
       "      <td>2015-09-03T00:00:00.000</td>\n",
       "      <td>21</td>\n",
       "      <td>0</td>\n",
       "      <td>OnCurb</td>\n",
       "      <td>Alive</td>\n",
       "      <td>Fair</td>\n",
       "      <td>Quercus palustris</td>\n",
       "      <td>pin oak</td>\n",
       "      <td>...</td>\n",
       "      <td>4097300</td>\n",
       "      <td>New York</td>\n",
       "      <td>40.794111</td>\n",
       "      <td>-73.818679</td>\n",
       "      <td>1034455.701</td>\n",
       "      <td>228644.8374</td>\n",
       "      <td>19.0</td>\n",
       "      <td>973.0</td>\n",
       "      <td>4101931.0</td>\n",
       "      <td>4.044750e+09</td>\n",
       "    </tr>\n",
       "    <tr>\n",
       "      <th>2</th>\n",
       "      <td>204026</td>\n",
       "      <td>218365</td>\n",
       "      <td>2015-09-05T00:00:00.000</td>\n",
       "      <td>3</td>\n",
       "      <td>0</td>\n",
       "      <td>OnCurb</td>\n",
       "      <td>Alive</td>\n",
       "      <td>Good</td>\n",
       "      <td>Gleditsia triacanthos var. inermis</td>\n",
       "      <td>honeylocust</td>\n",
       "      <td>...</td>\n",
       "      <td>3044900</td>\n",
       "      <td>New York</td>\n",
       "      <td>40.717581</td>\n",
       "      <td>-73.936608</td>\n",
       "      <td>1001822.831</td>\n",
       "      <td>200716.8913</td>\n",
       "      <td>34.0</td>\n",
       "      <td>449.0</td>\n",
       "      <td>3338310.0</td>\n",
       "      <td>3.028870e+09</td>\n",
       "    </tr>\n",
       "  </tbody>\n",
       "</table>\n",
       "<p>3 rows × 45 columns</p>\n",
       "</div>"
      ],
      "text/plain": [
       "   tree_id  block_id               created_at  tree_dbh  stump_diam curb_loc  \\\n",
       "0   180683    348711  2015-08-27T00:00:00.000         3           0   OnCurb   \n",
       "1   200540    315986  2015-09-03T00:00:00.000        21           0   OnCurb   \n",
       "2   204026    218365  2015-09-05T00:00:00.000         3           0   OnCurb   \n",
       "\n",
       "  status health                           spc_latin   spc_common  ...  \\\n",
       "0  Alive   Fair                         Acer rubrum    red maple  ...   \n",
       "1  Alive   Fair                   Quercus palustris      pin oak  ...   \n",
       "2  Alive   Good  Gleditsia triacanthos var. inermis  honeylocust  ...   \n",
       "\n",
       "   boro_ct     state   latitude  longitude         x_sp         y_sp  \\\n",
       "0  4073900  New York  40.723092 -73.844215  1027431.148  202756.7687   \n",
       "1  4097300  New York  40.794111 -73.818679  1034455.701  228644.8374   \n",
       "2  3044900  New York  40.717581 -73.936608  1001822.831  200716.8913   \n",
       "\n",
       "  council district census tract        bin           bbl  \n",
       "0             29.0        739.0  4052307.0  4.022210e+09  \n",
       "1             19.0        973.0  4101931.0  4.044750e+09  \n",
       "2             34.0        449.0  3338310.0  3.028870e+09  \n",
       "\n",
       "[3 rows x 45 columns]"
      ]
     },
     "execution_count": 3,
     "metadata": {},
     "output_type": "execute_result"
    }
   ],
   "source": [
    "df = pd.read_csv(f'{PATH_RAW}/{NAME_DATASET}.csv')\n",
    "df.head(3)"
   ]
  },
  {
   "cell_type": "code",
   "execution_count": 4,
   "metadata": {},
   "outputs": [
    {
     "data": {
      "text/plain": [
       "(652172, 28)"
      ]
     },
     "execution_count": 4,
     "metadata": {},
     "output_type": "execute_result"
    }
   ],
   "source": [
    "df.columns = [col.lower().replace(' ', '_') for col in df.columns]\n",
    "df_drop_columns = ['status', 'state', 'tree_id', 'created_at', 'stump_diam', 'address', 'spc_common',\n",
    "                   'borocode', 'x_sp', 'y_sp', 'council_district', 'census_tract', 'nta_name',\n",
    "                   'bin', 'zip_city', 'community_board', 'bbl']\n",
    "df = df.drop(columns=df_drop_columns)\n",
    "df.dropna(subset=['health'], inplace=True)\n",
    "df.shape\n"
   ]
  },
  {
   "cell_type": "code",
   "execution_count": 5,
   "metadata": {},
   "outputs": [
    {
     "name": "stderr",
     "output_type": "stream",
     "text": [
      "/workspaces/street_tree/src/preprocessing.py:15: FutureWarning: A value is trying to be set on a copy of a DataFrame or Series through chained assignment using an inplace method.\n",
      "The behavior will change in pandas 3.0. This inplace method will never work because the intermediate object on which we are setting values always behaves as a copy.\n",
      "\n",
      "For example, when doing 'df[col].method(value, inplace=True)', try using 'df.method({col: value}, inplace=True)' or df[col] = df[col].method(value) instead, to perform the operation inplace on the original object.\n",
      "\n",
      "\n",
      "  df['spc_latin'].fillna('No observation',inplace=True)\n",
      "/workspaces/street_tree/src/preprocessing.py:16: FutureWarning: A value is trying to be set on a copy of a DataFrame or Series through chained assignment using an inplace method.\n",
      "The behavior will change in pandas 3.0. This inplace method will never work because the intermediate object on which we are setting values always behaves as a copy.\n",
      "\n",
      "For example, when doing 'df[col].method(value, inplace=True)', try using 'df.method({col: value}, inplace=True)' or df[col] = df[col].method(value) instead, to perform the operation inplace on the original object.\n",
      "\n",
      "\n",
      "  df['sidewalk'].fillna('NoDamage',inplace=True)\n",
      "/workspaces/street_tree/src/preprocessing.py:17: FutureWarning: A value is trying to be set on a copy of a DataFrame or Series through chained assignment using an inplace method.\n",
      "The behavior will change in pandas 3.0. This inplace method will never work because the intermediate object on which we are setting values always behaves as a copy.\n",
      "\n",
      "For example, when doing 'df[col].method(value, inplace=True)', try using 'df.method({col: value}, inplace=True)' or df[col] = df[col].method(value) instead, to perform the operation inplace on the original object.\n",
      "\n",
      "\n",
      "  df['problems'].fillna('NoProblem',inplace=True)\n",
      "/workspaces/street_tree/src/preprocessing.py:18: FutureWarning: A value is trying to be set on a copy of a DataFrame or Series through chained assignment using an inplace method.\n",
      "The behavior will change in pandas 3.0. This inplace method will never work because the intermediate object on which we are setting values always behaves as a copy.\n",
      "\n",
      "For example, when doing 'df[col].method(value, inplace=True)', try using 'df.method({col: value}, inplace=True)' or df[col] = df[col].method(value) instead, to perform the operation inplace on the original object.\n",
      "\n",
      "\n",
      "  df['steward'].fillna('None',inplace=True)\n",
      "/workspaces/street_tree/src/preprocessing.py:19: FutureWarning: A value is trying to be set on a copy of a DataFrame or Series through chained assignment using an inplace method.\n",
      "The behavior will change in pandas 3.0. This inplace method will never work because the intermediate object on which we are setting values always behaves as a copy.\n",
      "\n",
      "For example, when doing 'df[col].method(value, inplace=True)', try using 'df.method({col: value}, inplace=True)' or df[col] = df[col].method(value) instead, to perform the operation inplace on the original object.\n",
      "\n",
      "\n",
      "  df['guards'].fillna('Unsure',inplace=True)\n",
      "2025-03-23 08:44:29,688 - src.utils - INFO - Пропуски заполнены\n"
     ]
    },
    {
     "data": {
      "text/plain": [
       "(652172, 28)"
      ]
     },
     "execution_count": 5,
     "metadata": {},
     "output_type": "execute_result"
    }
   ],
   "source": [
    "df = df_fillna(df)\n",
    "df.shape"
   ]
  },
  {
   "cell_type": "code",
   "execution_count": 6,
   "metadata": {},
   "outputs": [
    {
     "name": "stderr",
     "output_type": "stream",
     "text": [
      "2025-03-23 08:44:30,535 - src.utils - INFO - {'rootother', 'branchlights', 'stones', 'trunklights', 'wiresrope', 'branchother', 'metalgrates', 'noproblem', 'trunkother', 'sneakers'} - уникальные проблемы\n"
     ]
    },
    {
     "data": {
      "text/plain": [
       "(652172, 38)"
      ]
     },
     "execution_count": 6,
     "metadata": {},
     "output_type": "execute_result"
    }
   ],
   "source": [
    "df = split_problems(df)\n",
    "df.shape"
   ]
  },
  {
   "cell_type": "code",
   "execution_count": 7,
   "metadata": {},
   "outputs": [
    {
     "name": "stderr",
     "output_type": "stream",
     "text": [
      "2025-03-23 08:44:34,715 - src.utils - INFO - Значения преобразованы в булевые\n"
     ]
    },
    {
     "data": {
      "text/plain": [
       "(652172, 38)"
      ]
     },
     "execution_count": 7,
     "metadata": {},
     "output_type": "execute_result"
    }
   ],
   "source": [
    "df = convert_to_bool(df)\n",
    "df.shape"
   ]
  },
  {
   "cell_type": "code",
   "execution_count": 8,
   "metadata": {},
   "outputs": [
    {
     "data": {
      "text/plain": [
       "(652172, 28)"
      ]
     },
     "execution_count": 8,
     "metadata": {},
     "output_type": "execute_result"
    }
   ],
   "source": [
    "drop_columns = ['trunklights', 'metalgrates', 'branchother', 'sneakers', 'wiresrope', \n",
    "    'branchlights', 'noproblem', 'rootother', 'stones', 'trunkother']\n",
    "df = df.drop(columns=drop_columns)\n",
    "df.shape"
   ]
  },
  {
   "cell_type": "code",
   "execution_count": 9,
   "metadata": {},
   "outputs": [
    {
     "data": {
      "text/plain": [
       "['health', 'spc_latin', 'steward', 'guards', 'user_type', 'borough', 'nta']"
      ]
     },
     "execution_count": 9,
     "metadata": {},
     "output_type": "execute_result"
    }
   ],
   "source": [
    "categorical_columns = df.select_dtypes(include='object').columns.tolist()\n",
    "categorical_columns"
   ]
  },
  {
   "cell_type": "code",
   "execution_count": 10,
   "metadata": {},
   "outputs": [
    {
     "data": {
      "text/plain": [
       "(652172, 28)"
      ]
     },
     "execution_count": 10,
     "metadata": {},
     "output_type": "execute_result"
    }
   ],
   "source": [
    "df, label_encoders = encode_and_save_categorical(df, categorical_columns, PATH_MODELS)\n",
    "df.shape"
   ]
  },
  {
   "cell_type": "code",
   "execution_count": 11,
   "metadata": {},
   "outputs": [
    {
     "name": "stdout",
     "output_type": "stream",
     "text": [
      "  Health  Code\n",
      "0   Fair     0\n",
      "1   Good     1\n",
      "2   Poor     2\n"
     ]
    }
   ],
   "source": [
    "# Вывод значений, закодированных энкодером для столбца 'health', вместе с соответствующими им числовыми кодами\n",
    "health_classes = label_encoders['health'].classes_\n",
    "health_codes = label_encoders['health'].transform(health_classes)\n",
    "\n",
    "# Создание DataFrame для удобного отображения\n",
    "health_mapping = pd.DataFrame({'Health': health_classes, 'Code': health_codes})\n",
    "print(health_mapping)"
   ]
  },
  {
   "cell_type": "markdown",
   "metadata": {},
   "source": [
    "## Разделим на выборки"
   ]
  },
  {
   "cell_type": "code",
   "execution_count": 12,
   "metadata": {},
   "outputs": [
    {
     "name": "stderr",
     "output_type": "stream",
     "text": [
      "2025-03-23 08:44:40,856 - src.utils - INFO - Data successfully saved to: /workspaces/street_tree/data/processed\n"
     ]
    }
   ],
   "source": [
    "\n",
    "X_train, X_val, X_test, y_train, y_val, y_test = split_and_save(df, PATH_PROCESSED)"
   ]
  },
  {
   "cell_type": "markdown",
   "metadata": {},
   "source": [
    "## Обучим модели"
   ]
  },
  {
   "cell_type": "code",
   "execution_count": 13,
   "metadata": {},
   "outputs": [
    {
     "data": {
      "text/plain": [
       "array([1, 2, 0])"
      ]
     },
     "execution_count": 13,
     "metadata": {},
     "output_type": "execute_result"
    }
   ],
   "source": [
    "y_train.unique()"
   ]
  },
  {
   "cell_type": "code",
   "execution_count": 14,
   "metadata": {},
   "outputs": [
    {
     "name": "stdout",
     "output_type": "stream",
     "text": [
      "Scaler saved to scaler.pkl\n"
     ]
    }
   ],
   "source": [
    "from sklearn.preprocessing import StandardScaler\n",
    "import joblib\n",
    "\n",
    "scaler = StandardScaler()\n",
    "X_train = scaler.fit_transform(X_train)\n",
    "X_val = scaler.transform(X_val)\n",
    "# Save the scaler\n",
    "joblib.dump(scaler, f'{PATH_MODELS}/scaler.pkl')\n",
    "print(\"Scaler saved to scaler.pkl\")"
   ]
  },
  {
   "cell_type": "code",
   "execution_count": 15,
   "metadata": {},
   "outputs": [
    {
     "data": {
      "text/plain": [
       "'/workspaces/street_tree/models'"
      ]
     },
     "execution_count": 15,
     "metadata": {},
     "output_type": "execute_result"
    }
   ],
   "source": [
    "PATH_MODELS"
   ]
  },
  {
   "cell_type": "code",
   "execution_count": 16,
   "metadata": {},
   "outputs": [
    {
     "name": "stderr",
     "output_type": "stream",
     "text": [
      "2025-03-23 08:44:55,977 - src.utils - INFO - Epoch 1/50 - Train Loss: 7639.1787, Val Loss: 1590.4739, LR: 0.000100\n",
      "2025-03-23 08:44:55,978 - src.utils - INFO - Accuracy: 0.6118, F1-Score: 0.6600, AUC-ROC: 0.6456\n",
      "2025-03-23 08:44:55,979 - src.utils - INFO - Confusion Matrix:\n",
      "3047\t7352\t4076\n",
      "10928\t55149\t13251\n",
      "673\t1697\t1653\n",
      "2025-03-23 08:44:55,981 - src.utils - INFO - Best model saved based on highest AUC-ROC.\n",
      "2025-03-23 08:45:08,774 - src.utils - INFO - Epoch 2/50 - Train Loss: 7482.7801, Val Loss: 1579.7830, LR: 0.000100\n",
      "2025-03-23 08:45:08,774 - src.utils - INFO - Accuracy: 0.5799, F1-Score: 0.6401, AUC-ROC: 0.6544\n",
      "2025-03-23 08:45:08,775 - src.utils - INFO - Confusion Matrix:\n",
      "3247\t6541\t4687\n",
      "11826\t51561\t15941\n",
      "698\t1399\t1926\n",
      "2025-03-23 08:45:08,777 - src.utils - INFO - Best model saved based on highest AUC-ROC.\n",
      "2025-03-23 08:45:21,591 - src.utils - INFO - Epoch 3/50 - Train Loss: 7446.8696, Val Loss: 1574.2127, LR: 0.000100\n",
      "2025-03-23 08:45:21,591 - src.utils - INFO - Accuracy: 0.5732, F1-Score: 0.6356, AUC-ROC: 0.6561\n",
      "2025-03-23 08:45:21,592 - src.utils - INFO - Confusion Matrix:\n",
      "3216\t6359\t4900\n",
      "12039\t50852\t16437\n",
      "731\t1291\t2001\n",
      "2025-03-23 08:45:21,594 - src.utils - INFO - Best model saved based on highest AUC-ROC.\n",
      "2025-03-23 08:45:34,258 - src.utils - INFO - Epoch 4/50 - Train Loss: 7422.7445, Val Loss: 1571.0624, LR: 0.000100\n",
      "2025-03-23 08:45:34,259 - src.utils - INFO - Accuracy: 0.6075, F1-Score: 0.6591, AUC-ROC: 0.6619\n",
      "2025-03-23 08:45:34,259 - src.utils - INFO - Confusion Matrix:\n",
      "3080\t6978\t4417\n",
      "10604\t54497\t14227\n",
      "739\t1434\t1850\n",
      "2025-03-23 08:45:34,262 - src.utils - INFO - Best model saved based on highest AUC-ROC.\n",
      "2025-03-23 08:45:47,039 - src.utils - INFO - Epoch 5/50 - Train Loss: 7404.3038, Val Loss: 1569.0517, LR: 0.000100\n",
      "2025-03-23 08:45:47,040 - src.utils - INFO - Accuracy: 0.6012, F1-Score: 0.6550, AUC-ROC: 0.6620\n",
      "2025-03-23 08:45:47,040 - src.utils - INFO - Confusion Matrix:\n",
      "3315\t6758\t4402\n",
      "11751\t53631\t13946\n",
      "743\t1416\t1864\n",
      "2025-03-23 08:45:47,043 - src.utils - INFO - Best model saved based on highest AUC-ROC.\n",
      "2025-03-23 08:45:59,697 - src.utils - INFO - Epoch 6/50 - Train Loss: 7392.4779, Val Loss: 1568.5278, LR: 0.000100\n",
      "2025-03-23 08:45:59,698 - src.utils - INFO - Accuracy: 0.5988, F1-Score: 0.6534, AUC-ROC: 0.6612\n",
      "2025-03-23 08:45:59,699 - src.utils - INFO - Confusion Matrix:\n",
      "3450\t6637\t4388\n",
      "12576\t53286\t13466\n",
      "767\t1410\t1846\n",
      "2025-03-23 08:46:12,362 - src.utils - INFO - Epoch 7/50 - Train Loss: 7386.8502, Val Loss: 1564.9807, LR: 0.000100\n",
      "2025-03-23 08:46:12,362 - src.utils - INFO - Accuracy: 0.5917, F1-Score: 0.6488, AUC-ROC: 0.6665\n",
      "2025-03-23 08:46:12,363 - src.utils - INFO - Confusion Matrix:\n",
      "2954\t6540\t4981\n",
      "10616\t52858\t15854\n",
      "595\t1360\t2068\n",
      "2025-03-23 08:46:12,365 - src.utils - INFO - Best model saved based on highest AUC-ROC.\n",
      "2025-03-23 08:46:25,138 - src.utils - INFO - Epoch 8/50 - Train Loss: 7375.2967, Val Loss: 1564.0226, LR: 0.000100\n",
      "2025-03-23 08:46:25,139 - src.utils - INFO - Accuracy: 0.5618, F1-Score: 0.6286, AUC-ROC: 0.6636\n",
      "2025-03-23 08:46:25,140 - src.utils - INFO - Confusion Matrix:\n",
      "2937\t5976\t5562\n",
      "10858\t49778\t18692\n",
      "587\t1189\t2247\n",
      "2025-03-23 08:46:37,901 - src.utils - INFO - Epoch 9/50 - Train Loss: 7370.0728, Val Loss: 1563.2560, LR: 0.000100\n",
      "2025-03-23 08:46:37,902 - src.utils - INFO - Accuracy: 0.6018, F1-Score: 0.6564, AUC-ROC: 0.6704\n",
      "2025-03-23 08:46:37,902 - src.utils - INFO - Confusion Matrix:\n",
      "3319\t6694\t4462\n",
      "11122\t53656\t14550\n",
      "770\t1354\t1899\n",
      "2025-03-23 08:46:37,905 - src.utils - INFO - Best model saved based on highest AUC-ROC.\n",
      "2025-03-23 08:46:50,571 - src.utils - INFO - Epoch 10/50 - Train Loss: 7359.8429, Val Loss: 1560.2656, LR: 0.000100\n",
      "2025-03-23 08:46:50,571 - src.utils - INFO - Accuracy: 0.6024, F1-Score: 0.6567, AUC-ROC: 0.6681\n",
      "2025-03-23 08:46:50,572 - src.utils - INFO - Confusion Matrix:\n",
      "3686\t6575\t4214\n",
      "12686\t53422\t13220\n",
      "835\t1370\t1818\n",
      "2025-03-23 08:47:03,227 - src.utils - INFO - Epoch 11/50 - Train Loss: 7354.5694, Val Loss: 1560.4617, LR: 0.000100\n",
      "2025-03-23 08:47:03,228 - src.utils - INFO - Accuracy: 0.5990, F1-Score: 0.6540, AUC-ROC: 0.6674\n",
      "2025-03-23 08:47:03,229 - src.utils - INFO - Confusion Matrix:\n",
      "3182\t6611\t4682\n",
      "11282\t53428\t14618\n",
      "673\t1359\t1991\n",
      "2025-03-23 08:47:15,904 - src.utils - INFO - Epoch 12/50 - Train Loss: 7353.9656, Val Loss: 1559.0239, LR: 0.000100\n",
      "2025-03-23 08:47:15,905 - src.utils - INFO - Accuracy: 0.6018, F1-Score: 0.6560, AUC-ROC: 0.6720\n",
      "2025-03-23 08:47:15,905 - src.utils - INFO - Confusion Matrix:\n",
      "3036\t6602\t4837\n",
      "10749\t53810\t14769\n",
      "629\t1370\t2024\n",
      "2025-03-23 08:47:15,908 - src.utils - INFO - Best model saved based on highest AUC-ROC.\n",
      "2025-03-23 08:47:28,433 - src.utils - INFO - Epoch 13/50 - Train Loss: 7346.6016, Val Loss: 1559.0488, LR: 0.000100\n",
      "2025-03-23 08:47:28,433 - src.utils - INFO - Accuracy: 0.6174, F1-Score: 0.6665, AUC-ROC: 0.6710\n",
      "2025-03-23 08:47:28,434 - src.utils - INFO - Confusion Matrix:\n",
      "3180\t6926\t4369\n",
      "10464\t55349\t13515\n",
      "693\t1466\t1864\n",
      "2025-03-23 08:47:41,077 - src.utils - INFO - Epoch 14/50 - Train Loss: 7339.8012, Val Loss: 1557.0416, LR: 0.000100\n",
      "2025-03-23 08:47:41,078 - src.utils - INFO - Accuracy: 0.5906, F1-Score: 0.6489, AUC-ROC: 0.6748\n",
      "2025-03-23 08:47:41,078 - src.utils - INFO - Confusion Matrix:\n",
      "3982\t6232\t4261\n",
      "13982\t51939\t13407\n",
      "897\t1269\t1857\n",
      "2025-03-23 08:47:41,081 - src.utils - INFO - Best model saved based on highest AUC-ROC.\n",
      "2025-03-23 08:47:53,708 - src.utils - INFO - Epoch 15/50 - Train Loss: 7333.4272, Val Loss: 1557.7617, LR: 0.000100\n",
      "2025-03-23 08:47:53,709 - src.utils - INFO - Accuracy: 0.5812, F1-Score: 0.6424, AUC-ROC: 0.6716\n",
      "2025-03-23 08:47:53,710 - src.utils - INFO - Confusion Matrix:\n",
      "2840\t6229\t5406\n",
      "10091\t51798\t17439\n",
      "562\t1242\t2219\n",
      "2025-03-23 08:48:06,384 - src.utils - INFO - Epoch 16/50 - Train Loss: 7329.4316, Val Loss: 1555.5778, LR: 0.000100\n",
      "2025-03-23 08:48:06,384 - src.utils - INFO - Accuracy: 0.5982, F1-Score: 0.6542, AUC-ROC: 0.6722\n",
      "2025-03-23 08:48:06,385 - src.utils - INFO - Confusion Matrix:\n",
      "3125\t6449\t4901\n",
      "10752\t53315\t15261\n",
      "617\t1328\t2078\n",
      "2025-03-23 08:48:19,133 - src.utils - INFO - Epoch 17/50 - Train Loss: 7326.5699, Val Loss: 1557.0739, LR: 0.000100\n",
      "2025-03-23 08:48:19,134 - src.utils - INFO - Accuracy: 0.6139, F1-Score: 0.6645, AUC-ROC: 0.6762\n",
      "2025-03-23 08:48:19,134 - src.utils - INFO - Confusion Matrix:\n",
      "3832\t6690\t3953\n",
      "12911\t54434\t11983\n",
      "847\t1391\t1785\n",
      "2025-03-23 08:48:19,137 - src.utils - INFO - Best model saved based on highest AUC-ROC.\n",
      "2025-03-23 08:48:31,808 - src.utils - INFO - Epoch 18/50 - Train Loss: 7322.4412, Val Loss: 1555.8663, LR: 0.000100\n",
      "2025-03-23 08:48:31,809 - src.utils - INFO - Accuracy: 0.5990, F1-Score: 0.6547, AUC-ROC: 0.6745\n",
      "2025-03-23 08:48:31,809 - src.utils - INFO - Confusion Matrix:\n",
      "3133\t6450\t4892\n",
      "11005\t53416\t14907\n",
      "637\t1334\t2052\n",
      "2025-03-23 08:48:44,527 - src.utils - INFO - Epoch 19/50 - Train Loss: 7314.9112, Val Loss: 1552.7155, LR: 0.000100\n",
      "2025-03-23 08:48:44,528 - src.utils - INFO - Accuracy: 0.5796, F1-Score: 0.6417, AUC-ROC: 0.6750\n",
      "2025-03-23 08:48:44,528 - src.utils - INFO - Confusion Matrix:\n",
      "3395\t6064\t5016\n",
      "12051\t51178\t16099\n",
      "693\t1203\t2127\n",
      "2025-03-23 08:48:57,228 - src.utils - INFO - Epoch 20/50 - Train Loss: 7320.5749, Val Loss: 1553.3913, LR: 0.000100\n",
      "2025-03-23 08:48:57,228 - src.utils - INFO - Accuracy: 0.5800, F1-Score: 0.6418, AUC-ROC: 0.6752\n",
      "2025-03-23 08:48:57,229 - src.utils - INFO - Confusion Matrix:\n",
      "3618\t5987\t4870\n",
      "13084\t51022\t15222\n",
      "730\t1197\t2096\n",
      "2025-03-23 08:49:09,908 - src.utils - INFO - Epoch 21/50 - Train Loss: 7310.2373, Val Loss: 1554.9140, LR: 0.000100\n",
      "2025-03-23 08:49:09,909 - src.utils - INFO - Accuracy: 0.6253, F1-Score: 0.6717, AUC-ROC: 0.6739\n",
      "2025-03-23 08:49:09,909 - src.utils - INFO - Confusion Matrix:\n",
      "3534\t6923\t4018\n",
      "11985\t55838\t11505\n",
      "739\t1490\t1794\n",
      "2025-03-23 08:49:22,541 - src.utils - INFO - Epoch 22/50 - Train Loss: 7310.3946, Val Loss: 1550.6571, LR: 0.000100\n",
      "2025-03-23 08:49:22,542 - src.utils - INFO - Accuracy: 0.5864, F1-Score: 0.6469, AUC-ROC: 0.6781\n",
      "2025-03-23 08:49:22,543 - src.utils - INFO - Confusion Matrix:\n",
      "3884\t6061\t4530\n",
      "13192\t51511\t14625\n",
      "856\t1198\t1969\n",
      "2025-03-23 08:49:22,545 - src.utils - INFO - Best model saved based on highest AUC-ROC.\n",
      "2025-03-23 08:49:35,430 - src.utils - INFO - Epoch 23/50 - Train Loss: 7310.7692, Val Loss: 1553.5785, LR: 0.000100\n",
      "2025-03-23 08:49:35,431 - src.utils - INFO - Accuracy: 0.6086, F1-Score: 0.6610, AUC-ROC: 0.6763\n",
      "2025-03-23 08:49:35,432 - src.utils - INFO - Confusion Matrix:\n",
      "3476\t6572\t4427\n",
      "12006\t54108\t13214\n",
      "686\t1382\t1955\n",
      "2025-03-23 08:49:48,270 - src.utils - INFO - Epoch 24/50 - Train Loss: 7309.6606, Val Loss: 1552.5531, LR: 0.000100\n",
      "2025-03-23 08:49:48,271 - src.utils - INFO - Accuracy: 0.6300, F1-Score: 0.6758, AUC-ROC: 0.6799\n",
      "2025-03-23 08:49:48,272 - src.utils - INFO - Confusion Matrix:\n",
      "3872\t6863\t3740\n",
      "12469\t56032\t10827\n",
      "870\t1426\t1727\n",
      "2025-03-23 08:49:48,274 - src.utils - INFO - Best model saved based on highest AUC-ROC.\n",
      "2025-03-23 08:50:01,006 - src.utils - INFO - Epoch 25/50 - Train Loss: 7309.0785, Val Loss: 1548.9323, LR: 0.000100\n",
      "2025-03-23 08:50:01,007 - src.utils - INFO - Accuracy: 0.5915, F1-Score: 0.6503, AUC-ROC: 0.6769\n",
      "2025-03-23 08:50:01,008 - src.utils - INFO - Confusion Matrix:\n",
      "3534\t6170\t4771\n",
      "12230\t52283\t14815\n",
      "727\t1246\t2050\n",
      "2025-03-23 08:50:13,611 - src.utils - INFO - Epoch 26/50 - Train Loss: 7301.7090, Val Loss: 1550.0440, LR: 0.000100\n",
      "2025-03-23 08:50:13,612 - src.utils - INFO - Accuracy: 0.6090, F1-Score: 0.6620, AUC-ROC: 0.6805\n",
      "2025-03-23 08:50:13,612 - src.utils - INFO - Confusion Matrix:\n",
      "3949\t6476\t4050\n",
      "13014\t53774\t12540\n",
      "860\t1311\t1852\n",
      "2025-03-23 08:50:13,614 - src.utils - INFO - Best model saved based on highest AUC-ROC.\n",
      "2025-03-23 08:50:26,292 - src.utils - INFO - Epoch 27/50 - Train Loss: 7302.2328, Val Loss: 1549.1406, LR: 0.000100\n",
      "2025-03-23 08:50:26,293 - src.utils - INFO - Accuracy: 0.5763, F1-Score: 0.6399, AUC-ROC: 0.6778\n",
      "2025-03-23 08:50:26,293 - src.utils - INFO - Confusion Matrix:\n",
      "3261\t5926\t5288\n",
      "11493\t50915\t16920\n",
      "651\t1170\t2202\n",
      "2025-03-23 08:50:39,023 - src.utils - INFO - Epoch 28/50 - Train Loss: 7295.0119, Val Loss: 1547.3326, LR: 0.000100\n",
      "2025-03-23 08:50:39,024 - src.utils - INFO - Accuracy: 0.5867, F1-Score: 0.6472, AUC-ROC: 0.6809\n",
      "2025-03-23 08:50:39,025 - src.utils - INFO - Confusion Matrix:\n",
      "3814\t6020\t4641\n",
      "12989\t51550\t14789\n",
      "797\t1193\t2033\n",
      "2025-03-23 08:50:39,027 - src.utils - INFO - Best model saved based on highest AUC-ROC.\n",
      "2025-03-23 08:50:51,773 - src.utils - INFO - Epoch 29/50 - Train Loss: 7291.2664, Val Loss: 1547.6940, LR: 0.000100\n",
      "2025-03-23 08:50:51,773 - src.utils - INFO - Accuracy: 0.5957, F1-Score: 0.6531, AUC-ROC: 0.6803\n",
      "2025-03-23 08:50:51,774 - src.utils - INFO - Confusion Matrix:\n",
      "3886\t6183\t4406\n",
      "13217\t52442\t13669\n",
      "830\t1250\t1943\n",
      "2025-03-23 08:51:04,528 - src.utils - INFO - Epoch 30/50 - Train Loss: 7290.6427, Val Loss: 1548.0797, LR: 0.000100\n",
      "2025-03-23 08:51:04,529 - src.utils - INFO - Accuracy: 0.6069, F1-Score: 0.6607, AUC-ROC: 0.6817\n",
      "2025-03-23 08:51:04,529 - src.utils - INFO - Confusion Matrix:\n",
      "3824\t6434\t4217\n",
      "12695\t53670\t12963\n",
      "828\t1314\t1881\n",
      "2025-03-23 08:51:04,532 - src.utils - INFO - Best model saved based on highest AUC-ROC.\n",
      "2025-03-23 08:51:17,163 - src.utils - INFO - Epoch 31/50 - Train Loss: 7288.8887, Val Loss: 1547.0980, LR: 0.000100\n",
      "2025-03-23 08:51:17,164 - src.utils - INFO - Accuracy: 0.5759, F1-Score: 0.6392, AUC-ROC: 0.6796\n",
      "2025-03-23 08:51:17,165 - src.utils - INFO - Confusion Matrix:\n",
      "4019\t5788\t4668\n",
      "14253\t50297\t14778\n",
      "850\t1152\t2021\n",
      "2025-03-23 08:51:29,733 - src.utils - INFO - Epoch 32/50 - Train Loss: 7291.4224, Val Loss: 1548.6591, LR: 0.000100\n",
      "2025-03-23 08:51:29,733 - src.utils - INFO - Accuracy: 0.6045, F1-Score: 0.6591, AUC-ROC: 0.6799\n",
      "2025-03-23 08:51:29,734 - src.utils - INFO - Confusion Matrix:\n",
      "3758\t6381\t4336\n",
      "12590\t53458\t13280\n",
      "799\t1307\t1917\n",
      "2025-03-23 08:51:42,457 - src.utils - INFO - Epoch 33/50 - Train Loss: 7287.8416, Val Loss: 1546.9301, LR: 0.000100\n",
      "2025-03-23 08:51:42,458 - src.utils - INFO - Accuracy: 0.5985, F1-Score: 0.6551, AUC-ROC: 0.6824\n",
      "2025-03-23 08:51:42,459 - src.utils - INFO - Confusion Matrix:\n",
      "3650\t6254\t4571\n",
      "12385\t52882\t14061\n",
      "764\t1246\t2013\n",
      "2025-03-23 08:51:42,461 - src.utils - INFO - Best model saved based on highest AUC-ROC.\n",
      "2025-03-23 08:51:55,152 - src.utils - INFO - Epoch 34/50 - Train Loss: 7283.2721, Val Loss: 1545.9233, LR: 0.000100\n",
      "2025-03-23 08:51:55,153 - src.utils - INFO - Accuracy: 0.5935, F1-Score: 0.6521, AUC-ROC: 0.6853\n",
      "2025-03-23 08:51:55,154 - src.utils - INFO - Confusion Matrix:\n",
      "3773\t6122\t4580\n",
      "12585\t52268\t14475\n",
      "799\t1207\t2017\n",
      "2025-03-23 08:51:55,156 - src.utils - INFO - Best model saved based on highest AUC-ROC.\n",
      "2025-03-23 08:52:07,781 - src.utils - INFO - Epoch 35/50 - Train Loss: 7280.1945, Val Loss: 1548.1393, LR: 0.000100\n",
      "2025-03-23 08:52:07,782 - src.utils - INFO - Accuracy: 0.6298, F1-Score: 0.6760, AUC-ROC: 0.6840\n",
      "2025-03-23 08:52:07,782 - src.utils - INFO - Confusion Matrix:\n",
      "3995\t6757\t3723\n",
      "12738\t55871\t10719\n",
      "875\t1401\t1747\n",
      "2025-03-23 08:52:20,596 - src.utils - INFO - Epoch 36/50 - Train Loss: 7280.5706, Val Loss: 1545.5115, LR: 0.000100\n",
      "2025-03-23 08:52:20,596 - src.utils - INFO - Accuracy: 0.5956, F1-Score: 0.6529, AUC-ROC: 0.6788\n",
      "2025-03-23 08:52:20,597 - src.utils - INFO - Confusion Matrix:\n",
      "3725\t6142\t4608\n",
      "13086\t52531\t13711\n",
      "746\t1269\t2008\n",
      "2025-03-23 08:52:33,286 - src.utils - INFO - Epoch 37/50 - Train Loss: 7277.2126, Val Loss: 1544.6734, LR: 0.000100\n",
      "2025-03-23 08:52:33,287 - src.utils - INFO - Accuracy: 0.5922, F1-Score: 0.6508, AUC-ROC: 0.6813\n",
      "2025-03-23 08:52:33,287 - src.utils - INFO - Confusion Matrix:\n",
      "3890\t6088\t4497\n",
      "13395\t52062\t13871\n",
      "834\t1212\t1977\n",
      "2025-03-23 08:52:45,930 - src.utils - INFO - Epoch 38/50 - Train Loss: 7271.7243, Val Loss: 1544.7283, LR: 0.000100\n",
      "2025-03-23 08:52:45,931 - src.utils - INFO - Accuracy: 0.5815, F1-Score: 0.6435, AUC-ROC: 0.6833\n",
      "2025-03-23 08:52:45,932 - src.utils - INFO - Confusion Matrix:\n",
      "3828\t5889\t4758\n",
      "13269\t50964\t15095\n",
      "783\t1148\t2092\n",
      "2025-03-23 08:52:58,626 - src.utils - INFO - Epoch 39/50 - Train Loss: 7270.0706, Val Loss: 1545.5494, LR: 0.000100\n",
      "2025-03-23 08:52:58,627 - src.utils - INFO - Accuracy: 0.6342, F1-Score: 0.6785, AUC-ROC: 0.6845\n",
      "2025-03-23 08:52:58,628 - src.utils - INFO - Confusion Matrix:\n",
      "3378\t6969\t4128\n",
      "10793\t56781\t11754\n",
      "725\t1416\t1882\n",
      "2025-03-23 08:52:58,628 - src.utils - INFO - Early stopping triggered.\n"
     ]
    },
    {
     "name": "stdout",
     "output_type": "stream",
     "text": [
      "[0 0 0 ... 0 0 0]\n"
     ]
    }
   ],
   "source": [
    "%load_ext autoreload\n",
    "%autoreload 2\n",
    "\n",
    "from src.modeling import TabularNN\n",
    "\n",
    "model = TabularNN(X_train, y_train, X_val, y_val, hidden_dims=[128, 64], model_path=f'{PATH_MODELS}/tabular_model.pth')  # Changed to a file path\n",
    "\n",
    "model.train_model(epochs=50, learning_rate=0.0001, batch_size=64)\n",
    "predictions = model.predict(X_test)\n",
    "print(predictions)\n",
    "\n"
   ]
  },
  {
   "cell_type": "code",
   "execution_count": 17,
   "metadata": {},
   "outputs": [
    {
     "name": "stdout",
     "output_type": "stream",
     "text": [
      "The autoreload extension is already loaded. To reload it, use:\n",
      "  %reload_ext autoreload\n"
     ]
    },
    {
     "name": "stdout",
     "output_type": "stream",
     "text": [
      "0:\tlearn: 1.0665979\ttest: 1.0666219\tbest: 1.0666219 (0)\ttotal: 213ms\tremaining: 3m 32s\n",
      "100:\tlearn: 0.5507534\ttest: 0.5524875\tbest: 0.5524875 (100)\ttotal: 16.8s\tremaining: 2m 29s\n",
      "200:\tlearn: 0.5359341\ttest: 0.5390441\tbest: 0.5390441 (200)\ttotal: 33.5s\tremaining: 2m 13s\n",
      "300:\tlearn: 0.5285785\ttest: 0.5328005\tbest: 0.5328005 (300)\ttotal: 50.3s\tremaining: 1m 56s\n",
      "400:\tlearn: 0.5233058\ttest: 0.5285680\tbest: 0.5285680 (400)\ttotal: 1m 7s\tremaining: 1m 40s\n",
      "500:\tlearn: 0.5189233\ttest: 0.5251466\tbest: 0.5251466 (500)\ttotal: 1m 23s\tremaining: 1m 23s\n",
      "600:\tlearn: 0.5150158\ttest: 0.5223382\tbest: 0.5223382 (600)\ttotal: 1m 40s\tremaining: 1m 6s\n",
      "700:\tlearn: 0.5116505\ttest: 0.5199577\tbest: 0.5199577 (700)\ttotal: 1m 57s\tremaining: 50s\n",
      "800:\tlearn: 0.5087287\ttest: 0.5180628\tbest: 0.5180628 (800)\ttotal: 2m 13s\tremaining: 33.2s\n",
      "900:\tlearn: 0.5060961\ttest: 0.5163754\tbest: 0.5163754 (900)\ttotal: 2m 30s\tremaining: 16.5s\n"
     ]
    },
    {
     "name": "stderr",
     "output_type": "stream",
     "text": [
      "2025-03-23 08:55:46,371 - src.utils - INFO - Сохраняем модель в /workspaces/street_tree/models/catboost_model.cbm\n"
     ]
    },
    {
     "name": "stdout",
     "output_type": "stream",
     "text": [
      "999:\tlearn: 0.5037241\ttest: 0.5149162\tbest: 0.5149162 (999)\ttotal: 2m 47s\tremaining: 0us\n",
      "\n",
      "bestTest = 0.5149161969\n",
      "bestIteration = 999\n",
      "\n"
     ]
    },
    {
     "name": "stderr",
     "output_type": "stream",
     "text": [
      "2025-03-23 08:55:46,735 - src.utils - INFO - CatBoost Accuracy: 0.8163, F1-Score: 0.7480, AUC-ROC: 0.7488\n",
      "2025-03-23 08:55:46,735 - src.utils - INFO - Confusion Matrix:\n",
      "[[  803 13577    95]\n",
      " [  407 78871    50]\n",
      " [  309  3531   183]]\n"
     ]
    }
   ],
   "source": [
    "%load_ext autoreload\n",
    "%autoreload 2\n",
    "from src.modeling_catboost import CatBoostModelTrain\n",
    "\n",
    "catboost_model = CatBoostModelTrain(model_dir=PATH_MODELS)\n",
    "catboost_model.train(X_train, y_train, X_val, y_val)\n"
   ]
  }
 ],
 "metadata": {
  "kernelspec": {
   "display_name": ".venv",
   "language": "python",
   "name": "python3"
  },
  "language_info": {
   "codemirror_mode": {
    "name": "ipython",
    "version": 3
   },
   "file_extension": ".py",
   "mimetype": "text/x-python",
   "name": "python",
   "nbconvert_exporter": "python",
   "pygments_lexer": "ipython3",
   "version": "3.12.1"
  }
 },
 "nbformat": 4,
 "nbformat_minor": 2
}
