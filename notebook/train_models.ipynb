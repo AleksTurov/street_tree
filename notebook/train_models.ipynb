{
 "cells": [
  {
   "cell_type": "markdown",
   "metadata": {},
   "source": [
    "# Обучение моделей"
   ]
  },
  {
   "cell_type": "markdown",
   "metadata": {},
   "source": [
    "## Импорт библиотек"
   ]
  },
  {
   "cell_type": "code",
   "execution_count": 1,
   "metadata": {},
   "outputs": [
    {
     "name": "stdout",
     "output_type": "stream",
     "text": [
      "/workspaces/street_tree\n"
     ]
    }
   ],
   "source": [
    "import os, sys\n",
    "\n",
    "PROJECT_DIR = os.path.abspath(os.path.join(os.getcwd(), '..'))\n",
    "print(PROJECT_DIR)\n",
    "sys.path.append(PROJECT_DIR)"
   ]
  },
  {
   "cell_type": "code",
   "execution_count": 2,
   "metadata": {},
   "outputs": [
    {
     "name": "stderr",
     "output_type": "stream",
     "text": [
      "2025-03-27 23:28:52,107 - src.utils - INFO - Logger is ready\n",
      "2025-03-27 23:28:52,108 - src.utils - INFO - This is a test log message.\n",
      "2025-03-27 23:28:52,109 - src.utils - INFO - PROJECT_DIR: /workspaces/street_tree\n",
      "2025-03-27 23:28:52,110 - src.utils - INFO - PATH_LOGS: /workspaces/street_tree/logs\n",
      "2025-03-27 23:28:52,111 - src.utils - INFO - PATH_DATA: /workspaces/street_tree/data\n",
      "2025-03-27 23:28:52,112 - src.utils - INFO - PATH_RAW: /workspaces/street_tree/data/raw\n",
      "2025-03-27 23:28:52,113 - src.utils - INFO - PATH_PROCESSED: /workspaces/street_tree/data/processed\n",
      "2025-03-27 23:28:52,113 - src.utils - INFO - PATH_MODELS: /workspaces/street_tree/models\n",
      "2025-03-27 23:28:52,114 - src.utils - INFO - PATH_REPORTS: /workspaces/street_tree/reports\n",
      "2025-03-27 23:28:52,114 - src.utils - INFO - PATH_DOCS: /workspaces/street_tree/docs\n",
      "2025-03-27 23:28:52,116 - src.utils - INFO - PATH_SRC: /workspaces/street_tree/src\n",
      "2025-03-27 23:28:52,118 - src.utils - INFO - output_path: /workspaces/street_tree/data/raw/2015-street-tree-census-tree-data.zip\n"
     ]
    }
   ],
   "source": [
    "import pandas as pd \n",
    "from src.config import PATH_RAW, PATH_PROCESSED, URL, NAME_DATASET, PATH_MODELS, output_path\n",
    "from src.dowload_datafraime import download_file\n",
    "from src.visualization import plot_corr_matrix\n",
    "from src.preprocessing import (df_fillna, split_problems, convert_to_bool, encode_and_save_categorical, \n",
    "                               load_and_encode_categorical, split_and_save)\n"
   ]
  },
  {
   "cell_type": "markdown",
   "metadata": {},
   "source": [
    "## Предобработка"
   ]
  },
  {
   "cell_type": "code",
   "execution_count": 3,
   "metadata": {},
   "outputs": [],
   "source": [
    "#download_file(URL,PATH_RAW, output_path)"
   ]
  },
  {
   "cell_type": "code",
   "execution_count": 4,
   "metadata": {},
   "outputs": [
    {
     "name": "stderr",
     "output_type": "stream",
     "text": [
      "2025-03-27 23:29:09,242 - src.utils - INFO - Data successfully saved to: /workspaces/street_tree/data/processed\n",
      "2025-03-27 23:29:09,243 - src.utils - INFO - Train data shape: (586954, 44)\n",
      "2025-03-27 23:29:09,243 - src.utils - INFO - Test data shape: (65218, 44)\n"
     ]
    },
    {
     "data": {
      "text/plain": [
       "(652172, 45)"
      ]
     },
     "execution_count": 4,
     "metadata": {},
     "output_type": "execute_result"
    }
   ],
   "source": [
    "df = pd.read_csv(f'{PATH_RAW}/{NAME_DATASET}.csv')\n",
    "df = df.dropna(subset=['health'])\n",
    "\n",
    "X_train, X_test, y_train, y_test = split_and_save(df.drop('health', axis=1), df.health, output_dir=PATH_PROCESSED, size=0.1, name_train='train.csv', name_test='test.csv')\n",
    "\n",
    "df.shape"
   ]
  },
  {
   "cell_type": "code",
   "execution_count": 5,
   "metadata": {},
   "outputs": [
    {
     "data": {
      "text/plain": [
       "(586954, 27)"
      ]
     },
     "execution_count": 5,
     "metadata": {},
     "output_type": "execute_result"
    }
   ],
   "source": [
    "X_train.columns = [col.lower().replace(' ', '_') for col in X_train.columns]\n",
    "df_drop_columns = ['status', 'state', 'tree_id', 'created_at', 'stump_diam', 'address', 'spc_common',\n",
    "                   'borocode', 'x_sp', 'y_sp', 'council_district', 'census_tract', 'nta_name',\n",
    "                   'bin', 'zip_city', 'community_board', 'bbl']\n",
    "X_train = X_train.drop(columns=df_drop_columns)\n",
    "X_train.shape\n"
   ]
  },
  {
   "cell_type": "code",
   "execution_count": 6,
   "metadata": {},
   "outputs": [
    {
     "name": "stderr",
     "output_type": "stream",
     "text": [
      "/workspaces/street_tree/src/preprocessing.py:15: FutureWarning: A value is trying to be set on a copy of a DataFrame or Series through chained assignment using an inplace method.\n",
      "The behavior will change in pandas 3.0. This inplace method will never work because the intermediate object on which we are setting values always behaves as a copy.\n",
      "\n",
      "For example, when doing 'df[col].method(value, inplace=True)', try using 'df.method({col: value}, inplace=True)' or df[col] = df[col].method(value) instead, to perform the operation inplace on the original object.\n",
      "\n",
      "\n",
      "  df['spc_latin'].fillna('No observation',inplace=True)\n",
      "/workspaces/street_tree/src/preprocessing.py:16: FutureWarning: A value is trying to be set on a copy of a DataFrame or Series through chained assignment using an inplace method.\n",
      "The behavior will change in pandas 3.0. This inplace method will never work because the intermediate object on which we are setting values always behaves as a copy.\n",
      "\n",
      "For example, when doing 'df[col].method(value, inplace=True)', try using 'df.method({col: value}, inplace=True)' or df[col] = df[col].method(value) instead, to perform the operation inplace on the original object.\n",
      "\n",
      "\n",
      "  df['sidewalk'].fillna('NoDamage',inplace=True)\n",
      "/workspaces/street_tree/src/preprocessing.py:17: FutureWarning: A value is trying to be set on a copy of a DataFrame or Series through chained assignment using an inplace method.\n",
      "The behavior will change in pandas 3.0. This inplace method will never work because the intermediate object on which we are setting values always behaves as a copy.\n",
      "\n",
      "For example, when doing 'df[col].method(value, inplace=True)', try using 'df.method({col: value}, inplace=True)' or df[col] = df[col].method(value) instead, to perform the operation inplace on the original object.\n",
      "\n",
      "\n",
      "  df['problems'].fillna('NoProblem',inplace=True)\n",
      "/workspaces/street_tree/src/preprocessing.py:18: FutureWarning: A value is trying to be set on a copy of a DataFrame or Series through chained assignment using an inplace method.\n",
      "The behavior will change in pandas 3.0. This inplace method will never work because the intermediate object on which we are setting values always behaves as a copy.\n",
      "\n",
      "For example, when doing 'df[col].method(value, inplace=True)', try using 'df.method({col: value}, inplace=True)' or df[col] = df[col].method(value) instead, to perform the operation inplace on the original object.\n",
      "\n",
      "\n",
      "  df['steward'].fillna('None',inplace=True)\n",
      "/workspaces/street_tree/src/preprocessing.py:19: FutureWarning: A value is trying to be set on a copy of a DataFrame or Series through chained assignment using an inplace method.\n",
      "The behavior will change in pandas 3.0. This inplace method will never work because the intermediate object on which we are setting values always behaves as a copy.\n",
      "\n",
      "For example, when doing 'df[col].method(value, inplace=True)', try using 'df.method({col: value}, inplace=True)' or df[col] = df[col].method(value) instead, to perform the operation inplace on the original object.\n",
      "\n",
      "\n",
      "  df['guards'].fillna('Unsure',inplace=True)\n",
      "2025-03-27 23:29:10,525 - src.utils - INFO - Пропуски заполнены\n"
     ]
    },
    {
     "data": {
      "text/plain": [
       "(586954, 27)"
      ]
     },
     "execution_count": 6,
     "metadata": {},
     "output_type": "execute_result"
    }
   ],
   "source": [
    "X_train = df_fillna(X_train)\n",
    "X_train.shape"
   ]
  },
  {
   "cell_type": "code",
   "execution_count": 7,
   "metadata": {},
   "outputs": [
    {
     "name": "stderr",
     "output_type": "stream",
     "text": [
      "2025-03-27 23:29:11,343 - src.utils - INFO - {'sneakers', 'wiresrope', 'trunkother', 'stones', 'metalgrates', 'trunklights', 'rootother', 'branchlights', 'noproblem', 'branchother'} - уникальные проблемы\n"
     ]
    },
    {
     "data": {
      "text/plain": [
       "(586954, 27)"
      ]
     },
     "execution_count": 7,
     "metadata": {},
     "output_type": "execute_result"
    }
   ],
   "source": [
    "X_train = split_problems(X_train, created_columns=False)\n",
    "X_train.shape"
   ]
  },
  {
   "cell_type": "code",
   "execution_count": 8,
   "metadata": {},
   "outputs": [
    {
     "name": "stderr",
     "output_type": "stream",
     "text": [
      "2025-03-27 23:29:13,527 - src.utils - INFO - Значения преобразованы в булевые\n"
     ]
    },
    {
     "data": {
      "text/plain": [
       "(586954, 27)"
      ]
     },
     "execution_count": 8,
     "metadata": {},
     "output_type": "execute_result"
    }
   ],
   "source": [
    "X_train = convert_to_bool(X_train)\n",
    "X_train.shape"
   ]
  },
  {
   "cell_type": "code",
   "execution_count": 9,
   "metadata": {},
   "outputs": [
    {
     "data": {
      "text/plain": [
       "['spc_latin', 'steward', 'guards', 'user_type', 'borough', 'nta']"
      ]
     },
     "execution_count": 9,
     "metadata": {},
     "output_type": "execute_result"
    }
   ],
   "source": [
    "categorical_columns = X_train.select_dtypes(include='object').columns.tolist()\n",
    "categorical_columns"
   ]
  },
  {
   "cell_type": "code",
   "execution_count": 10,
   "metadata": {},
   "outputs": [
    {
     "data": {
      "text/plain": [
       "(586954, 27)"
      ]
     },
     "execution_count": 10,
     "metadata": {},
     "output_type": "execute_result"
    }
   ],
   "source": [
    "X_train, label_encoders = encode_and_save_categorical(X_train, categorical_columns, PATH_MODELS, 'label_encoders.pkl')\n",
    "X_train.shape"
   ]
  },
  {
   "cell_type": "code",
   "execution_count": 11,
   "metadata": {},
   "outputs": [
    {
     "name": "stdout",
     "output_type": "stream",
     "text": [
      "             spc_latin  Code\n",
      "0                 Acer     0\n",
      "1    Acer buergerianum     1\n",
      "2       Acer campestre     2\n",
      "3         Acer ginnala     3\n",
      "4         Acer griseum     4\n",
      "..                 ...   ...\n",
      "128   Tsuga canadensis   128\n",
      "129    Ulmus americana   129\n",
      "130   Ulmus parvifolia   130\n",
      "131       Ulmus pumila   131\n",
      "132    Zelkova serrata   132\n",
      "\n",
      "[133 rows x 2 columns]\n"
     ]
    }
   ],
   "source": [
    "# Вывод значений, закодированных энкодером для столбца 'health', вместе с соответствующими им числовыми кодами\n",
    "health_classes = label_encoders['spc_latin'].classes_\n",
    "health_codes = label_encoders['spc_latin'].transform(health_classes)\n",
    "\n",
    "# Создание DataFrame для удобного отображения\n",
    "health_mapping = pd.DataFrame({'spc_latin': health_classes, 'Code': health_codes})\n",
    "print(health_mapping)"
   ]
  },
  {
   "cell_type": "markdown",
   "metadata": {},
   "source": [
    "## Обучим модели"
   ]
  },
  {
   "cell_type": "code",
   "execution_count": 12,
   "metadata": {},
   "outputs": [
    {
     "name": "stderr",
     "output_type": "stream",
     "text": [
      "2025-03-27 23:29:19,670 - src.utils - INFO - Data successfully saved to: /workspaces/street_tree/data/processed\n",
      "2025-03-27 23:29:19,671 - src.utils - INFO - Train data shape: (469563, 27)\n",
      "2025-03-27 23:29:19,672 - src.utils - INFO - Test data shape: (117391, 27)\n"
     ]
    }
   ],
   "source": [
    "# Разделим X_train на обучающую и валидационную выборки и y_train на соответствующие им значения\n",
    "X_train, X_val, y_train, y_val = split_and_save(X_train, y_train, output_dir=PATH_PROCESSED, size=0.2, name_train='train.csv', name_test='valid.csv')"
   ]
  },
  {
   "cell_type": "code",
   "execution_count": 13,
   "metadata": {},
   "outputs": [
    {
     "data": {
      "text/plain": [
       "array(['Poor', 'Good', 'Fair'], dtype=object)"
      ]
     },
     "execution_count": 13,
     "metadata": {},
     "output_type": "execute_result"
    }
   ],
   "source": [
    "y_train.unique()"
   ]
  },
  {
   "cell_type": "code",
   "execution_count": 14,
   "metadata": {},
   "outputs": [
    {
     "name": "stdout",
     "output_type": "stream",
     "text": [
      "Target label encoder saved to label_encoders_target.pkl\n"
     ]
    }
   ],
   "source": [
    "import joblib\n",
    "\n",
    "# Define the mapping\n",
    "target_mapping = {'Poor': 0, 'Fair': 1, 'Good': 2}\n",
    "\n",
    "y_train = y_train.map(target_mapping)\n",
    "y_val = y_val.map(target_mapping)\n",
    "\n",
    "# Save the mapping to a file\n",
    "joblib.dump(target_mapping, f'{PATH_MODELS}/label_encoders_target.pkl')\n",
    "\n",
    "print(\"Target label encoder saved to label_encoders_target.pkl\")"
   ]
  },
  {
   "cell_type": "code",
   "execution_count": 15,
   "metadata": {},
   "outputs": [
    {
     "name": "stdout",
     "output_type": "stream",
     "text": [
      "Scaler saved to scaler.pkl\n"
     ]
    }
   ],
   "source": [
    "from sklearn.preprocessing import StandardScaler\n",
    "import joblib\n",
    "\n",
    "scaler = StandardScaler()\n",
    "X_train = scaler.fit_transform(X_train)\n",
    "X_val = scaler.transform(X_val)\n",
    "# Save the scaler\n",
    "joblib.dump(scaler, f'{PATH_MODELS}/scaler.pkl')\n",
    "print(\"Scaler saved to scaler.pkl\")"
   ]
  },
  {
   "cell_type": "code",
   "execution_count": 16,
   "metadata": {},
   "outputs": [
    {
     "data": {
      "text/plain": [
       "(469563, 27)"
      ]
     },
     "execution_count": 16,
     "metadata": {},
     "output_type": "execute_result"
    }
   ],
   "source": [
    "X_train.shape"
   ]
  },
  {
   "cell_type": "code",
   "execution_count": 17,
   "metadata": {},
   "outputs": [
    {
     "name": "stderr",
     "output_type": "stream",
     "text": [
      "2025-03-27 23:29:21,819 - src.utils - INFO - Unique classes during training: [0 1 2]\n",
      "2025-03-27 23:29:21,820 - src.utils - INFO - Output dimension during training: 3\n",
      "2025-03-27 23:30:17,766 - src.utils - INFO - Epoch 1/5000 - Train Loss: 7802.5699, Val Loss: 1898.0035, LR: 0.000100\n",
      "2025-03-27 23:30:17,767 - src.utils - INFO - Accuracy: 0.5764, F1-Score: 0.6379, AUC-ROC: 0.6517\n",
      "2025-03-27 23:30:17,767 - src.utils - INFO - Confusion Matrix:\n",
      "2455\t700\t1672\n",
      "6176\t3223\t7972\n",
      "22363\t10842\t61988\n",
      "2025-03-27 23:30:17,773 - src.utils - INFO - Best model saved based on highest AUC-ROC.\n",
      "2025-03-27 23:31:11,498 - src.utils - INFO - Epoch 2/5000 - Train Loss: 7641.4754, Val Loss: 1884.5830, LR: 0.000100\n",
      "2025-03-27 23:31:11,499 - src.utils - INFO - Accuracy: 0.5844, F1-Score: 0.6442, AUC-ROC: 0.6633\n",
      "2025-03-27 23:31:11,500 - src.utils - INFO - Confusion Matrix:\n",
      "2311\t1004\t1512\n",
      "5415\t4370\t7586\n",
      "17650\t15620\t61923\n",
      "2025-03-27 23:31:11,506 - src.utils - INFO - Best model saved based on highest AUC-ROC.\n",
      "2025-03-27 23:32:02,606 - src.utils - INFO - Epoch 3/5000 - Train Loss: 7582.4870, Val Loss: 1876.8823, LR: 0.000100\n",
      "2025-03-27 23:32:02,607 - src.utils - INFO - Accuracy: 0.6030, F1-Score: 0.6580, AUC-ROC: 0.6701\n",
      "2025-03-27 23:32:02,607 - src.utils - INFO - Confusion Matrix:\n",
      "2305\t923\t1599\n",
      "5486\t4031\t7854\n",
      "17425\t13313\t64455\n",
      "2025-03-27 23:32:02,617 - src.utils - INFO - Best model saved based on highest AUC-ROC.\n",
      "2025-03-27 23:32:56,142 - src.utils - INFO - Epoch 4/5000 - Train Loss: 7552.9586, Val Loss: 1872.4210, LR: 0.000100\n",
      "2025-03-27 23:32:56,143 - src.utils - INFO - Accuracy: 0.5936, F1-Score: 0.6520, AUC-ROC: 0.6749\n",
      "2025-03-27 23:32:56,144 - src.utils - INFO - Confusion Matrix:\n",
      "2283\t1067\t1477\n",
      "5192\t4805\t7374\n",
      "16635\t15957\t62601\n",
      "2025-03-27 23:32:56,150 - src.utils - INFO - Best model saved based on highest AUC-ROC.\n",
      "2025-03-27 23:33:50,729 - src.utils - INFO - Epoch 5/5000 - Train Loss: 7529.7251, Val Loss: 1867.4888, LR: 0.000100\n",
      "2025-03-27 23:33:50,729 - src.utils - INFO - Accuracy: 0.5954, F1-Score: 0.6538, AUC-ROC: 0.6733\n",
      "2025-03-27 23:33:50,730 - src.utils - INFO - Confusion Matrix:\n",
      "2424\t915\t1488\n",
      "5706\t4254\t7411\n",
      "18093\t13887\t63213\n",
      "2025-03-27 23:34:43,182 - src.utils - INFO - Epoch 6/5000 - Train Loss: 7509.8208, Val Loss: 1866.1722, LR: 0.000100\n",
      "2025-03-27 23:34:43,183 - src.utils - INFO - Accuracy: 0.5851, F1-Score: 0.6464, AUC-ROC: 0.6769\n",
      "2025-03-27 23:34:43,183 - src.utils - INFO - Confusion Matrix:\n",
      "2431\t928\t1468\n",
      "5898\t4332\t7141\n",
      "18193\t15077\t61923\n",
      "2025-03-27 23:34:43,189 - src.utils - INFO - Best model saved based on highest AUC-ROC.\n",
      "2025-03-27 23:35:34,805 - src.utils - INFO - Epoch 7/5000 - Train Loss: 7492.1413, Val Loss: 1865.2880, LR: 0.000100\n",
      "2025-03-27 23:35:34,806 - src.utils - INFO - Accuracy: 0.6075, F1-Score: 0.6619, AUC-ROC: 0.6777\n",
      "2025-03-27 23:35:34,807 - src.utils - INFO - Confusion Matrix:\n",
      "2053\t1226\t1548\n",
      "4550\t5418\t7403\n",
      "14116\t17230\t63847\n",
      "2025-03-27 23:35:34,813 - src.utils - INFO - Best model saved based on highest AUC-ROC.\n",
      "2025-03-27 23:36:28,619 - src.utils - INFO - Epoch 8/5000 - Train Loss: 7481.5561, Val Loss: 1861.4714, LR: 0.000100\n",
      "2025-03-27 23:36:28,620 - src.utils - INFO - Accuracy: 0.5716, F1-Score: 0.6368, AUC-ROC: 0.6797\n",
      "2025-03-27 23:36:28,620 - src.utils - INFO - Confusion Matrix:\n",
      "2377\t1071\t1379\n",
      "5581\t5103\t6687\n",
      "18118\t17453\t59622\n",
      "2025-03-27 23:36:28,627 - src.utils - INFO - Best model saved based on highest AUC-ROC.\n",
      "2025-03-27 23:37:22,563 - src.utils - INFO - Epoch 9/5000 - Train Loss: 7470.6003, Val Loss: 1856.4169, LR: 0.000100\n",
      "2025-03-27 23:37:22,564 - src.utils - INFO - Accuracy: 0.5831, F1-Score: 0.6451, AUC-ROC: 0.6797\n",
      "2025-03-27 23:37:22,565 - src.utils - INFO - Confusion Matrix:\n",
      "2367\t1066\t1394\n",
      "5523\t5005\t6843\n",
      "16864\t17247\t61082\n",
      "2025-03-27 23:38:17,214 - src.utils - INFO - Epoch 10/5000 - Train Loss: 7469.1757, Val Loss: 1857.0443, LR: 0.000100\n",
      "2025-03-27 23:38:17,215 - src.utils - INFO - Accuracy: 0.5812, F1-Score: 0.6439, AUC-ROC: 0.6858\n",
      "2025-03-27 23:38:17,215 - src.utils - INFO - Confusion Matrix:\n",
      "2353\t1136\t1338\n",
      "5391\t5251\t6729\n",
      "16677\t17888\t60628\n",
      "2025-03-27 23:38:17,225 - src.utils - INFO - Best model saved based on highest AUC-ROC.\n",
      "2025-03-27 23:39:11,254 - src.utils - INFO - Epoch 11/5000 - Train Loss: 7453.2065, Val Loss: 1855.2314, LR: 0.000100\n",
      "2025-03-27 23:39:11,255 - src.utils - INFO - Accuracy: 0.6012, F1-Score: 0.6577, AUC-ROC: 0.6860\n",
      "2025-03-27 23:39:11,255 - src.utils - INFO - Confusion Matrix:\n",
      "2086\t1296\t1445\n",
      "4488\t5851\t7032\n",
      "13843\t18717\t62633\n",
      "2025-03-27 23:39:11,262 - src.utils - INFO - Best model saved based on highest AUC-ROC.\n",
      "2025-03-27 23:40:05,089 - src.utils - INFO - Epoch 12/5000 - Train Loss: 7443.4638, Val Loss: 1851.9218, LR: 0.000100\n",
      "2025-03-27 23:40:05,090 - src.utils - INFO - Accuracy: 0.5898, F1-Score: 0.6506, AUC-ROC: 0.6850\n",
      "2025-03-27 23:40:05,090 - src.utils - INFO - Confusion Matrix:\n",
      "2472\t997\t1358\n",
      "5630\t4731\t7010\n",
      "17809\t15348\t62036\n",
      "2025-03-27 23:40:59,379 - src.utils - INFO - Epoch 13/5000 - Train Loss: 7440.4473, Val Loss: 1853.2261, LR: 0.000100\n",
      "2025-03-27 23:40:59,379 - src.utils - INFO - Accuracy: 0.5665, F1-Score: 0.6332, AUC-ROC: 0.6811\n",
      "2025-03-27 23:40:59,380 - src.utils - INFO - Confusion Matrix:\n",
      "2403\t1104\t1320\n",
      "5632\t5464\t6275\n",
      "17362\t19191\t58640\n",
      "2025-03-27 23:41:52,041 - src.utils - INFO - Epoch 14/5000 - Train Loss: 7429.7784, Val Loss: 1850.0339, LR: 0.000100\n",
      "2025-03-27 23:41:52,042 - src.utils - INFO - Accuracy: 0.6012, F1-Score: 0.6585, AUC-ROC: 0.6871\n",
      "2025-03-27 23:41:52,042 - src.utils - INFO - Confusion Matrix:\n",
      "2183\t1229\t1415\n",
      "4794\t5501\t7076\n",
      "15211\t17093\t62889\n",
      "2025-03-27 23:41:52,049 - src.utils - INFO - Best model saved based on highest AUC-ROC.\n",
      "2025-03-27 23:42:45,381 - src.utils - INFO - Epoch 15/5000 - Train Loss: 7427.3088, Val Loss: 1849.9765, LR: 0.000100\n",
      "2025-03-27 23:42:45,381 - src.utils - INFO - Accuracy: 0.6009, F1-Score: 0.6582, AUC-ROC: 0.6867\n",
      "2025-03-27 23:42:45,382 - src.utils - INFO - Confusion Matrix:\n",
      "2344\t1037\t1446\n",
      "5425\t4925\t7021\n",
      "15531\t16395\t63267\n",
      "2025-03-27 23:43:38,443 - src.utils - INFO - Epoch 16/5000 - Train Loss: 7416.9969, Val Loss: 1848.7091, LR: 0.000100\n",
      "2025-03-27 23:43:38,444 - src.utils - INFO - Accuracy: 0.5781, F1-Score: 0.6422, AUC-ROC: 0.6886\n",
      "2025-03-27 23:43:38,444 - src.utils - INFO - Confusion Matrix:\n",
      "2253\t1310\t1264\n",
      "5059\t5770\t6542\n",
      "16987\t18368\t59838\n",
      "2025-03-27 23:43:38,451 - src.utils - INFO - Best model saved based on highest AUC-ROC.\n",
      "2025-03-27 23:44:31,799 - src.utils - INFO - Epoch 17/5000 - Train Loss: 7420.1522, Val Loss: 1846.9743, LR: 0.000100\n",
      "2025-03-27 23:44:31,799 - src.utils - INFO - Accuracy: 0.5772, F1-Score: 0.6418, AUC-ROC: 0.6829\n",
      "2025-03-27 23:44:31,800 - src.utils - INFO - Confusion Matrix:\n",
      "2620\t868\t1339\n",
      "6261\t4481\t6629\n",
      "18987\t15547\t60659\n",
      "2025-03-27 23:45:27,270 - src.utils - INFO - Epoch 18/5000 - Train Loss: 7409.3008, Val Loss: 1847.7806, LR: 0.000100\n",
      "2025-03-27 23:45:27,271 - src.utils - INFO - Accuracy: 0.5882, F1-Score: 0.6496, AUC-ROC: 0.6867\n",
      "2025-03-27 23:45:27,272 - src.utils - INFO - Confusion Matrix:\n",
      "2295\t1168\t1364\n",
      "5208\t5525\t6638\n",
      "16094\t17864\t61235\n",
      "2025-03-27 23:46:19,731 - src.utils - INFO - Epoch 19/5000 - Train Loss: 7400.8050, Val Loss: 1844.2739, LR: 0.000100\n",
      "2025-03-27 23:46:19,732 - src.utils - INFO - Accuracy: 0.5787, F1-Score: 0.6428, AUC-ROC: 0.6896\n",
      "2025-03-27 23:46:19,732 - src.utils - INFO - Confusion Matrix:\n",
      "2450\t1084\t1293\n",
      "5580\t5323\t6468\n",
      "17277\t17749\t60167\n",
      "2025-03-27 23:46:19,739 - src.utils - INFO - Best model saved based on highest AUC-ROC.\n",
      "2025-03-27 23:47:11,295 - src.utils - INFO - Epoch 20/5000 - Train Loss: 7393.8969, Val Loss: 1843.3290, LR: 0.000100\n",
      "2025-03-27 23:47:11,296 - src.utils - INFO - Accuracy: 0.5791, F1-Score: 0.6438, AUC-ROC: 0.6879\n",
      "2025-03-27 23:47:11,296 - src.utils - INFO - Confusion Matrix:\n",
      "2499\t1043\t1285\n",
      "5803\t5114\t6454\n",
      "18145\t16678\t60370\n",
      "2025-03-27 23:48:06,304 - src.utils - INFO - Epoch 21/5000 - Train Loss: 7388.4664, Val Loss: 1842.1899, LR: 0.000100\n",
      "2025-03-27 23:48:06,304 - src.utils - INFO - Accuracy: 0.5825, F1-Score: 0.6458, AUC-ROC: 0.6919\n",
      "2025-03-27 23:48:06,305 - src.utils - INFO - Confusion Matrix:\n",
      "2354\t1174\t1299\n",
      "5338\t5538\t6495\n",
      "16959\t17750\t60484\n",
      "2025-03-27 23:48:06,314 - src.utils - INFO - Best model saved based on highest AUC-ROC.\n",
      "2025-03-27 23:49:00,202 - src.utils - INFO - Epoch 22/5000 - Train Loss: 7388.6824, Val Loss: 1843.9136, LR: 0.000100\n",
      "2025-03-27 23:49:00,203 - src.utils - INFO - Accuracy: 0.5713, F1-Score: 0.6375, AUC-ROC: 0.6882\n",
      "2025-03-27 23:49:00,204 - src.utils - INFO - Confusion Matrix:\n",
      "2488\t1053\t1286\n",
      "5715\t5387\t6269\n",
      "18031\t17972\t59190\n",
      "2025-03-27 23:49:55,217 - src.utils - INFO - Epoch 23/5000 - Train Loss: 7381.4679, Val Loss: 1841.7451, LR: 0.000100\n",
      "2025-03-27 23:49:55,218 - src.utils - INFO - Accuracy: 0.5818, F1-Score: 0.6454, AUC-ROC: 0.6914\n",
      "2025-03-27 23:49:55,219 - src.utils - INFO - Confusion Matrix:\n",
      "2422\t1128\t1277\n",
      "5451\t5387\t6533\n",
      "17513\t17193\t60487\n",
      "2025-03-27 23:50:47,287 - src.utils - INFO - Epoch 24/5000 - Train Loss: 7369.8053, Val Loss: 1840.7915, LR: 0.000100\n",
      "2025-03-27 23:50:47,287 - src.utils - INFO - Accuracy: 0.5979, F1-Score: 0.6567, AUC-ROC: 0.6919\n",
      "2025-03-27 23:50:47,288 - src.utils - INFO - Confusion Matrix:\n",
      "2386\t1053\t1388\n",
      "5366\t5081\t6924\n",
      "16288\t16179\t62726\n",
      "2025-03-27 23:50:47,298 - src.utils - INFO - Best model saved based on highest AUC-ROC.\n",
      "2025-03-27 23:51:40,212 - src.utils - INFO - Epoch 25/5000 - Train Loss: 7370.1943, Val Loss: 1840.3731, LR: 0.000100\n",
      "2025-03-27 23:51:40,213 - src.utils - INFO - Accuracy: 0.5835, F1-Score: 0.6469, AUC-ROC: 0.6900\n",
      "2025-03-27 23:51:40,214 - src.utils - INFO - Confusion Matrix:\n",
      "2494\t1053\t1280\n",
      "5598\t5303\t6470\n",
      "17457\t17030\t60706\n",
      "2025-03-27 23:52:35,300 - src.utils - INFO - Epoch 26/5000 - Train Loss: 7364.2957, Val Loss: 1841.0074, LR: 0.000100\n",
      "2025-03-27 23:52:35,300 - src.utils - INFO - Accuracy: 0.6049, F1-Score: 0.6615, AUC-ROC: 0.6913\n",
      "2025-03-27 23:52:35,301 - src.utils - INFO - Confusion Matrix:\n",
      "2307\t1080\t1440\n",
      "5214\t5132\t7025\n",
      "15314\t16305\t63574\n",
      "2025-03-27 23:53:27,728 - src.utils - INFO - Epoch 27/5000 - Train Loss: 7360.2467, Val Loss: 1840.2088, LR: 0.000100\n",
      "2025-03-27 23:53:27,729 - src.utils - INFO - Accuracy: 0.5919, F1-Score: 0.6522, AUC-ROC: 0.6921\n",
      "2025-03-27 23:53:27,729 - src.utils - INFO - Confusion Matrix:\n",
      "2206\t1284\t1337\n",
      "4861\t5997\t6513\n",
      "14959\t18958\t61276\n",
      "2025-03-27 23:53:27,736 - src.utils - INFO - Best model saved based on highest AUC-ROC.\n",
      "2025-03-27 23:54:20,523 - src.utils - INFO - Epoch 28/5000 - Train Loss: 7355.8627, Val Loss: 1839.3288, LR: 0.000100\n",
      "2025-03-27 23:54:20,524 - src.utils - INFO - Accuracy: 0.5832, F1-Score: 0.6464, AUC-ROC: 0.6922\n",
      "2025-03-27 23:54:20,525 - src.utils - INFO - Confusion Matrix:\n",
      "2368\t1202\t1257\n",
      "5202\t5789\t6380\n",
      "16683\t18208\t60302\n",
      "2025-03-27 23:54:20,532 - src.utils - INFO - Best model saved based on highest AUC-ROC.\n",
      "2025-03-27 23:55:13,860 - src.utils - INFO - Epoch 29/5000 - Train Loss: 7354.8941, Val Loss: 1838.1426, LR: 0.000100\n",
      "2025-03-27 23:55:13,861 - src.utils - INFO - Accuracy: 0.5940, F1-Score: 0.6546, AUC-ROC: 0.6922\n",
      "2025-03-27 23:55:13,862 - src.utils - INFO - Confusion Matrix:\n",
      "2486\t1006\t1335\n",
      "5643\t5013\t6715\n",
      "17120\t15837\t62236\n",
      "2025-03-27 23:56:05,400 - src.utils - INFO - Epoch 30/5000 - Train Loss: 7353.8242, Val Loss: 1839.8210, LR: 0.000100\n",
      "2025-03-27 23:56:05,401 - src.utils - INFO - Accuracy: 0.5842, F1-Score: 0.6472, AUC-ROC: 0.6922\n",
      "2025-03-27 23:56:05,402 - src.utils - INFO - Confusion Matrix:\n",
      "2308\t1222\t1297\n",
      "5207\t5813\t6351\n",
      "16230\t18506\t60457\n",
      "2025-03-27 23:56:58,209 - src.utils - INFO - Epoch 31/5000 - Train Loss: 7345.0867, Val Loss: 1839.5437, LR: 0.000100\n",
      "2025-03-27 23:56:58,210 - src.utils - INFO - Accuracy: 0.5862, F1-Score: 0.6478, AUC-ROC: 0.6934\n",
      "2025-03-27 23:56:58,210 - src.utils - INFO - Confusion Matrix:\n",
      "2258\t1214\t1355\n",
      "4992\t5957\t6422\n",
      "15134\t19456\t60603\n",
      "2025-03-27 23:56:58,217 - src.utils - INFO - Best model saved based on highest AUC-ROC.\n",
      "2025-03-27 23:57:53,090 - src.utils - INFO - Epoch 32/5000 - Train Loss: 7344.7483, Val Loss: 1836.3159, LR: 0.000100\n",
      "2025-03-27 23:57:53,091 - src.utils - INFO - Accuracy: 0.5767, F1-Score: 0.6416, AUC-ROC: 0.6936\n",
      "2025-03-27 23:57:53,092 - src.utils - INFO - Confusion Matrix:\n",
      "2354\t1239\t1234\n",
      "5223\t5989\t6159\n",
      "16679\t19154\t59360\n",
      "2025-03-27 23:57:53,098 - src.utils - INFO - Best model saved based on highest AUC-ROC.\n",
      "2025-03-27 23:58:45,382 - src.utils - INFO - Epoch 33/5000 - Train Loss: 7338.5273, Val Loss: 1834.3756, LR: 0.000100\n",
      "2025-03-27 23:58:45,383 - src.utils - INFO - Accuracy: 0.5844, F1-Score: 0.6474, AUC-ROC: 0.6942\n",
      "2025-03-27 23:58:45,383 - src.utils - INFO - Confusion Matrix:\n",
      "2449\t1093\t1285\n",
      "5553\t5469\t6349\n",
      "16637\t17874\t60682\n",
      "2025-03-27 23:58:45,391 - src.utils - INFO - Best model saved based on highest AUC-ROC.\n",
      "2025-03-27 23:59:38,102 - src.utils - INFO - Epoch 34/5000 - Train Loss: 7337.7252, Val Loss: 1835.0766, LR: 0.000100\n",
      "2025-03-27 23:59:38,103 - src.utils - INFO - Accuracy: 0.5834, F1-Score: 0.6460, AUC-ROC: 0.6949\n",
      "2025-03-27 23:59:38,104 - src.utils - INFO - Confusion Matrix:\n",
      "2318\t1245\t1264\n",
      "5064\t6068\t6239\n",
      "15303\t19793\t60097\n",
      "2025-03-27 23:59:38,110 - src.utils - INFO - Best model saved based on highest AUC-ROC.\n",
      "2025-03-28 00:00:30,832 - src.utils - INFO - Epoch 35/5000 - Train Loss: 7328.3198, Val Loss: 1835.5613, LR: 0.000100\n",
      "2025-03-28 00:00:30,833 - src.utils - INFO - Accuracy: 0.5901, F1-Score: 0.6518, AUC-ROC: 0.6940\n",
      "2025-03-28 00:00:30,833 - src.utils - INFO - Confusion Matrix:\n",
      "2446\t1065\t1316\n",
      "5510\t5366\t6495\n",
      "16758\t16978\t61457\n",
      "2025-03-28 00:01:22,601 - src.utils - INFO - Epoch 36/5000 - Train Loss: 7332.9198, Val Loss: 1835.6346, LR: 0.000100\n",
      "2025-03-28 00:01:22,601 - src.utils - INFO - Accuracy: 0.5817, F1-Score: 0.6461, AUC-ROC: 0.6926\n",
      "2025-03-28 00:01:22,602 - src.utils - INFO - Confusion Matrix:\n",
      "2439\t1103\t1285\n",
      "5614\t5484\t6273\n",
      "17531\t17304\t60358\n",
      "2025-03-28 00:02:14,972 - src.utils - INFO - Epoch 37/5000 - Train Loss: 7316.2485, Val Loss: 1833.4511, LR: 0.000100\n",
      "2025-03-28 00:02:14,973 - src.utils - INFO - Accuracy: 0.5742, F1-Score: 0.6398, AUC-ROC: 0.6914\n",
      "2025-03-28 00:02:14,973 - src.utils - INFO - Confusion Matrix:\n",
      "2512\t1050\t1265\n",
      "5795\t5427\t6149\n",
      "17245\t18478\t59470\n",
      "2025-03-28 00:03:08,045 - src.utils - INFO - Epoch 38/5000 - Train Loss: 7315.5918, Val Loss: 1830.9000, LR: 0.000100\n",
      "2025-03-28 00:03:08,046 - src.utils - INFO - Accuracy: 0.5751, F1-Score: 0.6414, AUC-ROC: 0.6957\n",
      "2025-03-28 00:03:08,046 - src.utils - INFO - Confusion Matrix:\n",
      "2533\t1092\t1202\n",
      "5750\t5522\t6099\n",
      "18080\t17654\t59459\n",
      "2025-03-28 00:03:08,053 - src.utils - INFO - Best model saved based on highest AUC-ROC.\n",
      "2025-03-28 00:04:00,990 - src.utils - INFO - Epoch 39/5000 - Train Loss: 7315.9285, Val Loss: 1834.7667, LR: 0.000100\n",
      "2025-03-28 00:04:00,991 - src.utils - INFO - Accuracy: 0.6006, F1-Score: 0.6590, AUC-ROC: 0.6937\n",
      "2025-03-28 00:04:00,992 - src.utils - INFO - Confusion Matrix:\n",
      "2420\t1015\t1392\n",
      "5466\t5124\t6781\n",
      "15940\t16291\t62962\n",
      "2025-03-28 00:04:54,696 - src.utils - INFO - Epoch 40/5000 - Train Loss: 7311.2433, Val Loss: 1832.9739, LR: 0.000100\n",
      "2025-03-28 00:04:54,696 - src.utils - INFO - Accuracy: 0.5876, F1-Score: 0.6501, AUC-ROC: 0.6925\n",
      "2025-03-28 00:04:54,697 - src.utils - INFO - Confusion Matrix:\n",
      "2543\t981\t1303\n",
      "5848\t5014\t6509\n",
      "17567\t16201\t61425\n",
      "2025-03-28 00:05:46,964 - src.utils - INFO - Epoch 41/5000 - Train Loss: 7309.1870, Val Loss: 1834.1144, LR: 0.000100\n",
      "2025-03-28 00:05:46,965 - src.utils - INFO - Accuracy: 0.6000, F1-Score: 0.6588, AUC-ROC: 0.6951\n",
      "2025-03-28 00:05:46,965 - src.utils - INFO - Confusion Matrix:\n",
      "2406\t1056\t1365\n",
      "5409\t5285\t6677\n",
      "15731\t16714\t62748\n",
      "2025-03-28 00:06:40,346 - src.utils - INFO - Epoch 42/5000 - Train Loss: 7306.6805, Val Loss: 1832.7562, LR: 0.000100\n",
      "2025-03-28 00:06:40,347 - src.utils - INFO - Accuracy: 0.5823, F1-Score: 0.6450, AUC-ROC: 0.6957\n",
      "2025-03-28 00:06:40,348 - src.utils - INFO - Confusion Matrix:\n",
      "2273\t1306\t1248\n",
      "4923\t6342\t6106\n",
      "14678\t20779\t59736\n",
      "2025-03-28 00:06:40,357 - src.utils - INFO - Best model saved based on highest AUC-ROC.\n",
      "2025-03-28 00:07:32,545 - src.utils - INFO - Epoch 43/5000 - Train Loss: 7306.3516, Val Loss: 1835.1529, LR: 0.000100\n",
      "2025-03-28 00:07:32,546 - src.utils - INFO - Accuracy: 0.6040, F1-Score: 0.6614, AUC-ROC: 0.6947\n",
      "2025-03-28 00:07:32,547 - src.utils - INFO - Confusion Matrix:\n",
      "2300\t1128\t1399\n",
      "5107\t5524\t6740\n",
      "14869\t17244\t63080\n",
      "2025-03-28 00:08:25,300 - src.utils - INFO - Epoch 44/5000 - Train Loss: 7300.9938, Val Loss: 1831.7941, LR: 0.000100\n",
      "2025-03-28 00:08:25,300 - src.utils - INFO - Accuracy: 0.5840, F1-Score: 0.6472, AUC-ROC: 0.6961\n",
      "2025-03-28 00:08:25,301 - src.utils - INFO - Confusion Matrix:\n",
      "2375\t1217\t1235\n",
      "5219\t5915\t6237\n",
      "16192\t18729\t60272\n",
      "2025-03-28 00:08:25,307 - src.utils - INFO - Best model saved based on highest AUC-ROC.\n",
      "2025-03-28 00:09:19,127 - src.utils - INFO - Epoch 45/5000 - Train Loss: 7300.9914, Val Loss: 1831.2537, LR: 0.000100\n",
      "2025-03-28 00:09:19,128 - src.utils - INFO - Accuracy: 0.5866, F1-Score: 0.6490, AUC-ROC: 0.6952\n",
      "2025-03-28 00:09:19,128 - src.utils - INFO - Confusion Matrix:\n",
      "2391\t1112\t1324\n",
      "5451\t5652\t6268\n",
      "15885\t18487\t60821\n",
      "2025-03-28 00:10:10,723 - src.utils - INFO - Epoch 46/5000 - Train Loss: 7287.7585, Val Loss: 1832.0754, LR: 0.000100\n",
      "2025-03-28 00:10:10,724 - src.utils - INFO - Accuracy: 0.5772, F1-Score: 0.6424, AUC-ROC: 0.6951\n",
      "2025-03-28 00:10:10,725 - src.utils - INFO - Confusion Matrix:\n",
      "2414\t1212\t1201\n",
      "5328\t5953\t6090\n",
      "16976\t18822\t59395\n",
      "2025-03-28 00:11:02,680 - src.utils - INFO - Epoch 47/5000 - Train Loss: 7294.9978, Val Loss: 1831.3663, LR: 0.000100\n",
      "2025-03-28 00:11:02,681 - src.utils - INFO - Accuracy: 0.5879, F1-Score: 0.6504, AUC-ROC: 0.6971\n",
      "2025-03-28 00:11:02,681 - src.utils - INFO - Confusion Matrix:\n",
      "2417\t1151\t1259\n",
      "5392\t5586\t6393\n",
      "16666\t17511\t61016\n",
      "2025-03-28 00:11:02,688 - src.utils - INFO - Best model saved based on highest AUC-ROC.\n",
      "2025-03-28 00:11:53,621 - src.utils - INFO - Epoch 48/5000 - Train Loss: 7282.3390, Val Loss: 1831.5443, LR: 0.000100\n",
      "2025-03-28 00:11:53,622 - src.utils - INFO - Accuracy: 0.5777, F1-Score: 0.6430, AUC-ROC: 0.6935\n",
      "2025-03-28 00:11:53,622 - src.utils - INFO - Confusion Matrix:\n",
      "2495\t1074\t1258\n",
      "5822\t5410\t6139\n",
      "17402\t17885\t59906\n",
      "2025-03-28 00:12:45,501 - src.utils - INFO - Epoch 49/5000 - Train Loss: 7284.4616, Val Loss: 1832.9730, LR: 0.000100\n",
      "2025-03-28 00:12:45,501 - src.utils - INFO - Accuracy: 0.6069, F1-Score: 0.6636, AUC-ROC: 0.6977\n",
      "2025-03-28 00:12:45,502 - src.utils - INFO - Confusion Matrix:\n",
      "2303\t1111\t1413\n",
      "5161\t5462\t6748\n",
      "14704\t17008\t63481\n",
      "2025-03-28 00:12:45,511 - src.utils - INFO - Best model saved based on highest AUC-ROC.\n",
      "2025-03-28 00:13:37,708 - src.utils - INFO - Epoch 50/5000 - Train Loss: 7281.2087, Val Loss: 1831.7239, LR: 0.000100\n",
      "2025-03-28 00:13:37,709 - src.utils - INFO - Accuracy: 0.5993, F1-Score: 0.6586, AUC-ROC: 0.6967\n",
      "2025-03-28 00:13:37,709 - src.utils - INFO - Confusion Matrix:\n",
      "2445\t1062\t1320\n",
      "5477\t5208\t6686\n",
      "16438\t16058\t62697\n",
      "2025-03-28 00:14:29,561 - src.utils - INFO - Epoch 51/5000 - Train Loss: 7275.3130, Val Loss: 1830.2128, LR: 0.000100\n",
      "2025-03-28 00:14:29,562 - src.utils - INFO - Accuracy: 0.5672, F1-Score: 0.6358, AUC-ROC: 0.6955\n",
      "2025-03-28 00:14:29,563 - src.utils - INFO - Confusion Matrix:\n",
      "2598\t1070\t1159\n",
      "5946\t5514\t5911\n",
      "19164\t17561\t58468\n",
      "2025-03-28 00:15:22,415 - src.utils - INFO - Epoch 52/5000 - Train Loss: 7276.3286, Val Loss: 1831.4076, LR: 0.000100\n",
      "2025-03-28 00:15:22,416 - src.utils - INFO - Accuracy: 0.5996, F1-Score: 0.6585, AUC-ROC: 0.6977\n",
      "2025-03-28 00:15:22,417 - src.utils - INFO - Confusion Matrix:\n",
      "2335\t1146\t1346\n",
      "5151\t5593\t6627\n",
      "15389\t17340\t62464\n",
      "2025-03-28 00:15:22,426 - src.utils - INFO - Best model saved based on highest AUC-ROC.\n",
      "2025-03-28 00:16:15,179 - src.utils - INFO - Epoch 53/5000 - Train Loss: 7273.4632, Val Loss: 1831.9328, LR: 0.000100\n",
      "2025-03-28 00:16:15,179 - src.utils - INFO - Accuracy: 0.5872, F1-Score: 0.6498, AUC-ROC: 0.6948\n",
      "2025-03-28 00:16:15,180 - src.utils - INFO - Confusion Matrix:\n",
      "2410\t1170\t1247\n",
      "5337\t5668\t6366\n",
      "16633\t17711\t60849\n",
      "2025-03-28 00:17:07,606 - src.utils - INFO - Epoch 54/5000 - Train Loss: 7268.3412, Val Loss: 1829.8092, LR: 0.000100\n",
      "2025-03-28 00:17:07,606 - src.utils - INFO - Accuracy: 0.5793, F1-Score: 0.6443, AUC-ROC: 0.6977\n",
      "2025-03-28 00:17:07,607 - src.utils - INFO - Confusion Matrix:\n",
      "2478\t1119\t1230\n",
      "5546\t5638\t6187\n",
      "17600\t17703\t59890\n",
      "2025-03-28 00:17:07,614 - src.utils - INFO - Best model saved based on highest AUC-ROC.\n",
      "2025-03-28 00:17:59,460 - src.utils - INFO - Epoch 55/5000 - Train Loss: 7267.0956, Val Loss: 1827.2998, LR: 0.000100\n",
      "2025-03-28 00:17:59,461 - src.utils - INFO - Accuracy: 0.5950, F1-Score: 0.6554, AUC-ROC: 0.6983\n",
      "2025-03-28 00:17:59,461 - src.utils - INFO - Confusion Matrix:\n",
      "2391\t1096\t1340\n",
      "5339\t5580\t6452\n",
      "15717\t17594\t61882\n",
      "2025-03-28 00:17:59,468 - src.utils - INFO - Best model saved based on highest AUC-ROC.\n",
      "2025-03-28 00:18:51,164 - src.utils - INFO - Epoch 56/5000 - Train Loss: 7262.9807, Val Loss: 1829.0505, LR: 0.000100\n",
      "2025-03-28 00:18:51,164 - src.utils - INFO - Accuracy: 0.5986, F1-Score: 0.6578, AUC-ROC: 0.6980\n",
      "2025-03-28 00:18:51,165 - src.utils - INFO - Confusion Matrix:\n",
      "2334\t1147\t1346\n",
      "5184\t5600\t6587\n",
      "15458\t17397\t62338\n",
      "2025-03-28 00:19:42,931 - src.utils - INFO - Epoch 57/5000 - Train Loss: 7260.1618, Val Loss: 1827.8289, LR: 0.000100\n",
      "2025-03-28 00:19:42,932 - src.utils - INFO - Accuracy: 0.5735, F1-Score: 0.6404, AUC-ROC: 0.6969\n",
      "2025-03-28 00:19:42,932 - src.utils - INFO - Confusion Matrix:\n",
      "2541\t1107\t1179\n",
      "5800\t5608\t5963\n",
      "18114\t17909\t59170\n",
      "2025-03-28 00:20:36,212 - src.utils - INFO - Epoch 58/5000 - Train Loss: 7256.5244, Val Loss: 1830.8884, LR: 0.000100\n",
      "2025-03-28 00:20:36,213 - src.utils - INFO - Accuracy: 0.5892, F1-Score: 0.6517, AUC-ROC: 0.6959\n",
      "2025-03-28 00:20:36,214 - src.utils - INFO - Confusion Matrix:\n",
      "2547\t1030\t1250\n",
      "5824\t5107\t6440\n",
      "17511\t16174\t61508\n",
      "2025-03-28 00:21:27,413 - src.utils - INFO - Epoch 59/5000 - Train Loss: 7254.1301, Val Loss: 1828.6579, LR: 0.000100\n",
      "2025-03-28 00:21:27,414 - src.utils - INFO - Accuracy: 0.5854, F1-Score: 0.6488, AUC-ROC: 0.6982\n",
      "2025-03-28 00:21:27,414 - src.utils - INFO - Confusion Matrix:\n",
      "2436\t1145\t1246\n",
      "5526\t5621\t6224\n",
      "16695\t17829\t60669\n",
      "2025-03-28 00:22:17,913 - src.utils - INFO - Epoch 60/5000 - Train Loss: 7248.1273, Val Loss: 1829.9040, LR: 0.000100\n",
      "2025-03-28 00:22:17,914 - src.utils - INFO - Accuracy: 0.6011, F1-Score: 0.6597, AUC-ROC: 0.6977\n",
      "2025-03-28 00:22:17,915 - src.utils - INFO - Confusion Matrix:\n",
      "2411\t1057\t1359\n",
      "5289\t5526\t6556\n",
      "15310\t17255\t62628\n",
      "2025-03-28 00:22:17,915 - src.utils - INFO - Early stopping triggered.\n"
     ]
    }
   ],
   "source": [
    "%load_ext autoreload\n",
    "%autoreload 2\n",
    "\n",
    "from src.modeling import TabularNN\n",
    "\n",
    "# Instantiate the model\n",
    "model = TabularNN(X_train, y_train, X_val, y_val, hidden_dims=[1024, 524, 128, 64], model_path=f'{PATH_MODELS}/tabular_model.pth')\n",
    "\n",
    "# Train the model\n",
    "model.train_model(epochs=5000, learning_rate=0.0001)\n",
    "\n"
   ]
  },
  {
   "cell_type": "code",
   "execution_count": 18,
   "metadata": {},
   "outputs": [
    {
     "name": "stderr",
     "output_type": "stream",
     "text": [
      "2025-03-28 00:22:17,970 - src.utils - INFO - Unique classes during training: [0 1 2]\n",
      "2025-03-28 00:22:17,971 - src.utils - INFO - Output dimension during training: 3\n"
     ]
    },
    {
     "name": "stdout",
     "output_type": "stream",
     "text": [
      "Model loaded successfully!\n"
     ]
    },
    {
     "data": {
      "text/plain": [
       "TabularNN(\n",
       "  (model): Sequential(\n",
       "    (0): Linear(in_features=27, out_features=1024, bias=True)\n",
       "    (1): BatchNorm1d(1024, eps=1e-05, momentum=0.1, affine=True, track_running_stats=True)\n",
       "    (2): ReLU()\n",
       "    (3): Dropout(p=0.3, inplace=False)\n",
       "    (4): Linear(in_features=1024, out_features=524, bias=True)\n",
       "    (5): BatchNorm1d(524, eps=1e-05, momentum=0.1, affine=True, track_running_stats=True)\n",
       "    (6): ReLU()\n",
       "    (7): Dropout(p=0.3, inplace=False)\n",
       "    (8): Linear(in_features=524, out_features=128, bias=True)\n",
       "    (9): BatchNorm1d(128, eps=1e-05, momentum=0.1, affine=True, track_running_stats=True)\n",
       "    (10): ReLU()\n",
       "    (11): Dropout(p=0.3, inplace=False)\n",
       "    (12): Linear(in_features=128, out_features=64, bias=True)\n",
       "    (13): BatchNorm1d(64, eps=1e-05, momentum=0.1, affine=True, track_running_stats=True)\n",
       "    (14): ReLU()\n",
       "    (15): Dropout(p=0.3, inplace=False)\n",
       "    (16): Linear(in_features=64, out_features=3, bias=True)\n",
       "  )\n",
       ")"
      ]
     },
     "execution_count": 18,
     "metadata": {},
     "output_type": "execute_result"
    }
   ],
   "source": [
    "import pandas as pd\n",
    "import numpy as np\n",
    "from src.modeling import TabularNN\n",
    "from src.config import PATH_MODELS\n",
    "import torch\n",
    "\n",
    "# Define the path to the saved model\n",
    "MODEL_PATH = f\"{PATH_MODELS}/tabular_model.pth\"\n",
    "\n",
    "# Load the checkpoint to get the parameters\n",
    "checkpoint = torch.load(MODEL_PATH)\n",
    "input_dim = checkpoint['input_dim']\n",
    "hidden_dims = checkpoint['hidden_dims']\n",
    "output_dim = checkpoint['output_dim']\n",
    "target_mapping = checkpoint['target_mapping']\n",
    "\n",
    "# Create dummy data with the correct shape\n",
    "dummy_X = pd.DataFrame(np.zeros((3, input_dim)))\n",
    "dummy_y = pd.Series([0, 1, 2]) \n",
    "\n",
    "# Initialize the model using dummy data\n",
    "loaded_model = TabularNN(dummy_X, dummy_y, dummy_X, dummy_y, hidden_dims=hidden_dims)\n",
    "loaded_model.load_state_dict(checkpoint['model_state_dict'])\n",
    "loaded_model.eval()\n",
    "\n",
    "print(\"Model loaded successfully!\")\n",
    "\n",
    "# Получим предсказания для dummy_X\n",
    "loaded_model.predict(dummy_X)\n",
    "\n",
    "loaded_model"
   ]
  },
  {
   "cell_type": "code",
   "execution_count": 19,
   "metadata": {},
   "outputs": [
    {
     "name": "stdout",
     "output_type": "stream",
     "text": [
      "The autoreload extension is already loaded. To reload it, use:\n",
      "  %reload_ext autoreload\n"
     ]
    },
    {
     "name": "stdout",
     "output_type": "stream",
     "text": [
      "0:\tlearn: 1.0665870\ttest: 1.0666001\tbest: 1.0666001 (0)\ttotal: 272ms\tremaining: 4m 31s\n",
      "100:\tlearn: 0.5502277\ttest: 0.5516981\tbest: 0.5516981 (100)\ttotal: 22.6s\tremaining: 3m 20s\n",
      "200:\tlearn: 0.5351898\ttest: 0.5379727\tbest: 0.5379727 (200)\ttotal: 44.6s\tremaining: 2m 57s\n",
      "300:\tlearn: 0.5281540\ttest: 0.5319916\tbest: 0.5319916 (300)\ttotal: 1m 6s\tremaining: 2m 35s\n",
      "400:\tlearn: 0.5230962\ttest: 0.5280030\tbest: 0.5280030 (400)\ttotal: 1m 28s\tremaining: 2m 12s\n",
      "500:\tlearn: 0.5185345\ttest: 0.5245093\tbest: 0.5245093 (500)\ttotal: 1m 50s\tremaining: 1m 50s\n",
      "600:\tlearn: 0.5147071\ttest: 0.5216839\tbest: 0.5216839 (600)\ttotal: 2m 12s\tremaining: 1m 28s\n",
      "700:\tlearn: 0.5113475\ttest: 0.5193132\tbest: 0.5193132 (700)\ttotal: 2m 34s\tremaining: 1m 5s\n",
      "800:\tlearn: 0.5084351\ttest: 0.5173442\tbest: 0.5173442 (800)\ttotal: 2m 56s\tremaining: 43.8s\n",
      "900:\tlearn: 0.5057840\ttest: 0.5156805\tbest: 0.5156805 (900)\ttotal: 3m 18s\tremaining: 21.8s\n"
     ]
    },
    {
     "name": "stderr",
     "output_type": "stream",
     "text": [
      "2025-03-28 00:25:58,808 - src.utils - INFO - Сохраняем модель в /workspaces/street_tree/models/catboost_model.cbm\n"
     ]
    },
    {
     "name": "stdout",
     "output_type": "stream",
     "text": [
      "999:\tlearn: 0.5035322\ttest: 0.5143287\tbest: 0.5143287 (999)\ttotal: 3m 39s\tremaining: 0us\n",
      "\n",
      "bestTest = 0.5143287016\n",
      "bestIteration = 999\n",
      "\n"
     ]
    },
    {
     "name": "stderr",
     "output_type": "stream",
     "text": [
      "2025-03-28 00:25:59,372 - src.utils - INFO - CatBoost Accuracy: 0.8163, F1-Score: 0.7479, AUC-ROC: 0.7500\n",
      "2025-03-28 00:25:59,373 - src.utils - INFO - Confusion Matrix:\n",
      "[[  197   392  4238]\n",
      " [  102   976 16293]\n",
      " [   37   500 94656]]\n"
     ]
    }
   ],
   "source": [
    "%load_ext autoreload\n",
    "%autoreload 2\n",
    "from src.modeling_catboost import CatBoostModelTrain\n",
    "\n",
    "catboost_model = CatBoostModelTrain(model_dir=PATH_MODELS)\n",
    "catboost_model.train(X_train, y_train, X_val, y_val)\n"
   ]
  }
 ],
 "metadata": {
  "kernelspec": {
   "display_name": ".venv",
   "language": "python",
   "name": "python3"
  },
  "language_info": {
   "codemirror_mode": {
    "name": "ipython",
    "version": 3
   },
   "file_extension": ".py",
   "mimetype": "text/x-python",
   "name": "python",
   "nbconvert_exporter": "python",
   "pygments_lexer": "ipython3",
   "version": "3.12.1"
  }
 },
 "nbformat": 4,
 "nbformat_minor": 2
}
