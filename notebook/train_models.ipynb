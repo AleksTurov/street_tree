{
 "cells": [
  {
   "cell_type": "markdown",
   "metadata": {},
   "source": [
    "# Обучение моделей"
   ]
  },
  {
   "cell_type": "markdown",
   "metadata": {},
   "source": [
    "## Импорт библиотек"
   ]
  },
  {
   "cell_type": "code",
   "execution_count": 1,
   "metadata": {},
   "outputs": [
    {
     "name": "stdout",
     "output_type": "stream",
     "text": [
      "/workspaces/street_tree\n"
     ]
    }
   ],
   "source": [
    "import os, sys\n",
    "\n",
    "PROJECT_DIR = os.path.abspath(os.path.join(os.getcwd(), '..'))\n",
    "print(PROJECT_DIR)\n",
    "sys.path.append(PROJECT_DIR)"
   ]
  },
  {
   "cell_type": "code",
   "execution_count": 2,
   "metadata": {},
   "outputs": [
    {
     "name": "stderr",
     "output_type": "stream",
     "text": [
      "2025-03-27 17:12:12,951 - src.utils - INFO - Logger is ready\n",
      "2025-03-27 17:12:12,956 - src.utils - INFO - This is a test log message.\n",
      "2025-03-27 17:12:12,956 - src.utils - INFO - PROJECT_DIR: /workspaces/street_tree\n",
      "2025-03-27 17:12:12,957 - src.utils - INFO - PATH_LOGS: /workspaces/street_tree/logs\n",
      "2025-03-27 17:12:12,958 - src.utils - INFO - PATH_DATA: /workspaces/street_tree/data\n",
      "2025-03-27 17:12:12,959 - src.utils - INFO - PATH_RAW: /workspaces/street_tree/data/raw\n",
      "2025-03-27 17:12:12,959 - src.utils - INFO - PATH_PROCESSED: /workspaces/street_tree/data/processed\n",
      "2025-03-27 17:12:12,960 - src.utils - INFO - PATH_MODELS: /workspaces/street_tree/models\n",
      "2025-03-27 17:12:12,961 - src.utils - INFO - PATH_REPORTS: /workspaces/street_tree/reports\n",
      "2025-03-27 17:12:12,962 - src.utils - INFO - PATH_DOCS: /workspaces/street_tree/docs\n",
      "2025-03-27 17:12:12,962 - src.utils - INFO - PATH_SRC: /workspaces/street_tree/src\n",
      "2025-03-27 17:12:12,963 - src.utils - INFO - output_path: /workspaces/street_tree/data/raw/2015-street-tree-census-tree-data.zip\n"
     ]
    }
   ],
   "source": [
    "import pandas as pd \n",
    "from src.config import PATH_RAW, PATH_PROCESSED, URL, NAME_DATASET, PATH_MODELS, output_path\n",
    "from src.dowload_datafraime import download_file\n",
    "from src.visualization import plot_corr_matrix\n",
    "from src.preprocessing import (df_fillna, split_problems, convert_to_bool, encode_and_save_categorical, \n",
    "                               load_and_encode_categorical, split_and_save)\n"
   ]
  },
  {
   "cell_type": "markdown",
   "metadata": {},
   "source": [
    "## Предобработка"
   ]
  },
  {
   "cell_type": "code",
   "execution_count": 3,
   "metadata": {},
   "outputs": [],
   "source": [
    "#download_file(URL,PATH_RAW, output_path)"
   ]
  },
  {
   "cell_type": "code",
   "execution_count": 4,
   "metadata": {},
   "outputs": [
    {
     "name": "stderr",
     "output_type": "stream",
     "text": [
      "2025-03-27 17:12:33,344 - src.utils - INFO - Data successfully saved to: /workspaces/street_tree/data/processed\n",
      "2025-03-27 17:12:33,347 - src.utils - INFO - Train data shape: (586954, 44)\n",
      "2025-03-27 17:12:33,348 - src.utils - INFO - Test data shape: (65218, 44)\n"
     ]
    },
    {
     "data": {
      "text/plain": [
       "(652172, 45)"
      ]
     },
     "execution_count": 4,
     "metadata": {},
     "output_type": "execute_result"
    }
   ],
   "source": [
    "df = pd.read_csv(f'{PATH_RAW}/{NAME_DATASET}.csv')\n",
    "df = df.dropna(subset=['health'])\n",
    "\n",
    "X_train, X_test, y_train, y_test = split_and_save(df.drop('health', axis=1), df.health, output_dir=PATH_PROCESSED, size=0.1, name_train='train.csv', name_test='test.csv')\n",
    "\n",
    "df.shape"
   ]
  },
  {
   "cell_type": "code",
   "execution_count": 5,
   "metadata": {},
   "outputs": [
    {
     "data": {
      "text/plain": [
       "(586954, 27)"
      ]
     },
     "execution_count": 5,
     "metadata": {},
     "output_type": "execute_result"
    }
   ],
   "source": [
    "X_train.columns = [col.lower().replace(' ', '_') for col in X_train.columns]\n",
    "df_drop_columns = ['status', 'state', 'tree_id', 'created_at', 'stump_diam', 'address', 'spc_common',\n",
    "                   'borocode', 'x_sp', 'y_sp', 'council_district', 'census_tract', 'nta_name',\n",
    "                   'bin', 'zip_city', 'community_board', 'bbl']\n",
    "X_train = X_train.drop(columns=df_drop_columns)\n",
    "X_train.shape\n"
   ]
  },
  {
   "cell_type": "code",
   "execution_count": 6,
   "metadata": {},
   "outputs": [
    {
     "name": "stderr",
     "output_type": "stream",
     "text": [
      "/workspaces/street_tree/src/preprocessing.py:15: FutureWarning: A value is trying to be set on a copy of a DataFrame or Series through chained assignment using an inplace method.\n",
      "The behavior will change in pandas 3.0. This inplace method will never work because the intermediate object on which we are setting values always behaves as a copy.\n",
      "\n",
      "For example, when doing 'df[col].method(value, inplace=True)', try using 'df.method({col: value}, inplace=True)' or df[col] = df[col].method(value) instead, to perform the operation inplace on the original object.\n",
      "\n",
      "\n",
      "  df['spc_latin'].fillna('No observation',inplace=True)\n",
      "/workspaces/street_tree/src/preprocessing.py:16: FutureWarning: A value is trying to be set on a copy of a DataFrame or Series through chained assignment using an inplace method.\n",
      "The behavior will change in pandas 3.0. This inplace method will never work because the intermediate object on which we are setting values always behaves as a copy.\n",
      "\n",
      "For example, when doing 'df[col].method(value, inplace=True)', try using 'df.method({col: value}, inplace=True)' or df[col] = df[col].method(value) instead, to perform the operation inplace on the original object.\n",
      "\n",
      "\n",
      "  df['sidewalk'].fillna('NoDamage',inplace=True)\n",
      "/workspaces/street_tree/src/preprocessing.py:17: FutureWarning: A value is trying to be set on a copy of a DataFrame or Series through chained assignment using an inplace method.\n",
      "The behavior will change in pandas 3.0. This inplace method will never work because the intermediate object on which we are setting values always behaves as a copy.\n",
      "\n",
      "For example, when doing 'df[col].method(value, inplace=True)', try using 'df.method({col: value}, inplace=True)' or df[col] = df[col].method(value) instead, to perform the operation inplace on the original object.\n",
      "\n",
      "\n",
      "  df['problems'].fillna('NoProblem',inplace=True)\n",
      "/workspaces/street_tree/src/preprocessing.py:18: FutureWarning: A value is trying to be set on a copy of a DataFrame or Series through chained assignment using an inplace method.\n",
      "The behavior will change in pandas 3.0. This inplace method will never work because the intermediate object on which we are setting values always behaves as a copy.\n",
      "\n",
      "For example, when doing 'df[col].method(value, inplace=True)', try using 'df.method({col: value}, inplace=True)' or df[col] = df[col].method(value) instead, to perform the operation inplace on the original object.\n",
      "\n",
      "\n",
      "  df['steward'].fillna('None',inplace=True)\n",
      "/workspaces/street_tree/src/preprocessing.py:19: FutureWarning: A value is trying to be set on a copy of a DataFrame or Series through chained assignment using an inplace method.\n",
      "The behavior will change in pandas 3.0. This inplace method will never work because the intermediate object on which we are setting values always behaves as a copy.\n",
      "\n",
      "For example, when doing 'df[col].method(value, inplace=True)', try using 'df.method({col: value}, inplace=True)' or df[col] = df[col].method(value) instead, to perform the operation inplace on the original object.\n",
      "\n",
      "\n",
      "  df['guards'].fillna('Unsure',inplace=True)\n",
      "2025-03-27 17:12:33,747 - src.utils - INFO - Пропуски заполнены\n"
     ]
    },
    {
     "data": {
      "text/plain": [
       "(586954, 27)"
      ]
     },
     "execution_count": 6,
     "metadata": {},
     "output_type": "execute_result"
    }
   ],
   "source": [
    "X_train = df_fillna(X_train)\n",
    "X_train.shape"
   ]
  },
  {
   "cell_type": "code",
   "execution_count": 7,
   "metadata": {},
   "outputs": [
    {
     "name": "stderr",
     "output_type": "stream",
     "text": [
      "2025-03-27 17:12:34,604 - src.utils - INFO - {'stones', 'metalgrates', 'branchlights', 'sneakers', 'rootother', 'branchother', 'trunklights', 'noproblem', 'trunkother', 'wiresrope'} - уникальные проблемы\n"
     ]
    },
    {
     "data": {
      "text/plain": [
       "(586954, 27)"
      ]
     },
     "execution_count": 7,
     "metadata": {},
     "output_type": "execute_result"
    }
   ],
   "source": [
    "X_train = split_problems(X_train, created_columns=False)\n",
    "X_train.shape"
   ]
  },
  {
   "cell_type": "code",
   "execution_count": 8,
   "metadata": {},
   "outputs": [
    {
     "name": "stderr",
     "output_type": "stream",
     "text": [
      "2025-03-27 17:12:37,023 - src.utils - INFO - Значения преобразованы в булевые\n"
     ]
    },
    {
     "data": {
      "text/plain": [
       "(586954, 27)"
      ]
     },
     "execution_count": 8,
     "metadata": {},
     "output_type": "execute_result"
    }
   ],
   "source": [
    "X_train = convert_to_bool(X_train)\n",
    "X_train.shape"
   ]
  },
  {
   "cell_type": "code",
   "execution_count": 9,
   "metadata": {},
   "outputs": [
    {
     "data": {
      "text/plain": [
       "['spc_latin', 'steward', 'guards', 'user_type', 'borough', 'nta']"
      ]
     },
     "execution_count": 9,
     "metadata": {},
     "output_type": "execute_result"
    }
   ],
   "source": [
    "categorical_columns = X_train.select_dtypes(include='object').columns.tolist()\n",
    "categorical_columns"
   ]
  },
  {
   "cell_type": "code",
   "execution_count": 10,
   "metadata": {},
   "outputs": [
    {
     "data": {
      "text/plain": [
       "(586954, 27)"
      ]
     },
     "execution_count": 10,
     "metadata": {},
     "output_type": "execute_result"
    }
   ],
   "source": [
    "X_train, label_encoders = encode_and_save_categorical(X_train, categorical_columns, PATH_MODELS, 'label_encoders.pkl')\n",
    "X_train.shape"
   ]
  },
  {
   "cell_type": "code",
   "execution_count": 11,
   "metadata": {},
   "outputs": [
    {
     "name": "stdout",
     "output_type": "stream",
     "text": [
      "             spc_latin  Code\n",
      "0                 Acer     0\n",
      "1    Acer buergerianum     1\n",
      "2       Acer campestre     2\n",
      "3         Acer ginnala     3\n",
      "4         Acer griseum     4\n",
      "..                 ...   ...\n",
      "128   Tsuga canadensis   128\n",
      "129    Ulmus americana   129\n",
      "130   Ulmus parvifolia   130\n",
      "131       Ulmus pumila   131\n",
      "132    Zelkova serrata   132\n",
      "\n",
      "[133 rows x 2 columns]\n"
     ]
    }
   ],
   "source": [
    "# Вывод значений, закодированных энкодером для столбца 'health', вместе с соответствующими им числовыми кодами\n",
    "health_classes = label_encoders['spc_latin'].classes_\n",
    "health_codes = label_encoders['spc_latin'].transform(health_classes)\n",
    "\n",
    "# Создание DataFrame для удобного отображения\n",
    "health_mapping = pd.DataFrame({'spc_latin': health_classes, 'Code': health_codes})\n",
    "print(health_mapping)"
   ]
  },
  {
   "cell_type": "markdown",
   "metadata": {},
   "source": [
    "## Обучим модели"
   ]
  },
  {
   "cell_type": "code",
   "execution_count": 12,
   "metadata": {},
   "outputs": [
    {
     "name": "stderr",
     "output_type": "stream",
     "text": [
      "2025-03-27 17:12:43,120 - src.utils - INFO - Data successfully saved to: /workspaces/street_tree/data/processed\n",
      "2025-03-27 17:12:43,121 - src.utils - INFO - Train data shape: (469563, 27)\n",
      "2025-03-27 17:12:43,123 - src.utils - INFO - Test data shape: (117391, 27)\n"
     ]
    }
   ],
   "source": [
    "# Разделим X_train на обучающую и валидационную выборки и y_train на соответствующие им значения\n",
    "X_train, X_val, y_train, y_val = split_and_save(X_train, y_train, output_dir=PATH_PROCESSED, size=0.2, name_train='train.csv', name_test='valid.csv')"
   ]
  },
  {
   "cell_type": "code",
   "execution_count": 13,
   "metadata": {},
   "outputs": [
    {
     "data": {
      "text/plain": [
       "array(['Poor', 'Good', 'Fair'], dtype=object)"
      ]
     },
     "execution_count": 13,
     "metadata": {},
     "output_type": "execute_result"
    }
   ],
   "source": [
    "y_train.unique()"
   ]
  },
  {
   "cell_type": "code",
   "execution_count": 14,
   "metadata": {},
   "outputs": [
    {
     "name": "stdout",
     "output_type": "stream",
     "text": [
      "Target label encoder saved to label_encoders_target.pkl\n"
     ]
    }
   ],
   "source": [
    "import joblib\n",
    "\n",
    "# Define the mapping\n",
    "target_mapping = {'Poor': 0, 'Fair': 1, 'Good': 2}\n",
    "\n",
    "y_train = y_train.map(target_mapping)\n",
    "y_val = y_val.map(target_mapping)\n",
    "\n",
    "# Save the mapping to a file\n",
    "joblib.dump(target_mapping, f'{PATH_MODELS}/label_encoders_target.pkl')\n",
    "\n",
    "print(\"Target label encoder saved to label_encoders_target.pkl\")"
   ]
  },
  {
   "cell_type": "code",
   "execution_count": 15,
   "metadata": {},
   "outputs": [
    {
     "name": "stdout",
     "output_type": "stream",
     "text": [
      "Scaler saved to scaler.pkl\n"
     ]
    }
   ],
   "source": [
    "from sklearn.preprocessing import StandardScaler\n",
    "import joblib\n",
    "\n",
    "scaler = StandardScaler()\n",
    "X_train = scaler.fit_transform(X_train)\n",
    "X_val = scaler.transform(X_val)\n",
    "# Save the scaler\n",
    "joblib.dump(scaler, f'{PATH_MODELS}/scaler.pkl')\n",
    "print(\"Scaler saved to scaler.pkl\")"
   ]
  },
  {
   "cell_type": "code",
   "execution_count": 16,
   "metadata": {},
   "outputs": [
    {
     "data": {
      "text/plain": [
       "(469563, 27)"
      ]
     },
     "execution_count": 16,
     "metadata": {},
     "output_type": "execute_result"
    }
   ],
   "source": [
    "X_train.shape"
   ]
  },
  {
   "cell_type": "code",
   "execution_count": 17,
   "metadata": {},
   "outputs": [
    {
     "name": "stderr",
     "output_type": "stream",
     "text": [
      "2025-03-27 17:12:50,247 - src.utils - INFO - Unique classes during training: [0 1 2]\n",
      "2025-03-27 17:12:50,250 - src.utils - INFO - Output dimension during training: 3\n",
      "2025-03-27 17:14:08,687 - src.utils - INFO - Epoch 1/1000 - Train Loss: 7792.5862, Val Loss: 1896.4180, LR: 0.000100\n",
      "2025-03-27 17:14:08,730 - src.utils - INFO - Accuracy: 0.6011, F1-Score: 0.6549, AUC-ROC: 0.6590\n",
      "2025-03-27 17:14:08,732 - src.utils - INFO - Confusion Matrix:\n",
      "2120\t945\t1762\n",
      "5092\t4003\t8276\n",
      "17163\t13585\t64445\n",
      "2025-03-27 17:14:08,887 - src.utils - INFO - Best model saved based on highest AUC-ROC.\n",
      "2025-03-27 17:15:47,931 - src.utils - INFO - Epoch 2/1000 - Train Loss: 7629.7644, Val Loss: 1885.0213, LR: 0.000100\n",
      "2025-03-27 17:15:47,932 - src.utils - INFO - Accuracy: 0.6139, F1-Score: 0.6637, AUC-ROC: 0.6604\n",
      "2025-03-27 17:15:47,933 - src.utils - INFO - Confusion Matrix:\n",
      "2277\t801\t1749\n",
      "5518\t3508\t8345\n",
      "16783\t12123\t66287\n",
      "2025-03-27 17:15:47,943 - src.utils - INFO - Best model saved based on highest AUC-ROC.\n",
      "2025-03-27 17:16:47,632 - src.utils - INFO - Epoch 3/1000 - Train Loss: 7578.5043, Val Loss: 1875.6800, LR: 0.000100\n",
      "2025-03-27 17:16:47,633 - src.utils - INFO - Accuracy: 0.5959, F1-Score: 0.6522, AUC-ROC: 0.6655\n",
      "2025-03-27 17:16:47,634 - src.utils - INFO - Confusion Matrix:\n",
      "2602\t656\t1569\n",
      "6511\t3145\t7715\n",
      "19510\t11477\t64206\n",
      "2025-03-27 17:16:47,641 - src.utils - INFO - Best model saved based on highest AUC-ROC.\n",
      "2025-03-27 17:17:42,804 - src.utils - INFO - Epoch 4/1000 - Train Loss: 7547.4192, Val Loss: 1872.1456, LR: 0.000100\n",
      "2025-03-27 17:17:42,805 - src.utils - INFO - Accuracy: 0.6000, F1-Score: 0.6560, AUC-ROC: 0.6721\n",
      "2025-03-27 17:17:42,806 - src.utils - INFO - Confusion Matrix:\n",
      "2413\t841\t1573\n",
      "5936\t3807\t7628\n",
      "17699\t13277\t64217\n",
      "2025-03-27 17:17:42,812 - src.utils - INFO - Best model saved based on highest AUC-ROC.\n",
      "2025-03-27 17:18:37,569 - src.utils - INFO - Epoch 5/1000 - Train Loss: 7525.0453, Val Loss: 1870.0906, LR: 0.000100\n",
      "2025-03-27 17:18:37,570 - src.utils - INFO - Accuracy: 0.5744, F1-Score: 0.6394, AUC-ROC: 0.6701\n",
      "2025-03-27 17:18:37,570 - src.utils - INFO - Confusion Matrix:\n",
      "2561\t932\t1334\n",
      "6143\t4113\t7115\n",
      "20949\t13485\t60759\n",
      "2025-03-27 17:19:32,343 - src.utils - INFO - Epoch 6/1000 - Train Loss: 7510.8115, Val Loss: 1867.6787, LR: 0.000100\n",
      "2025-03-27 17:19:32,343 - src.utils - INFO - Accuracy: 0.6013, F1-Score: 0.6572, AUC-ROC: 0.6785\n",
      "2025-03-27 17:19:32,344 - src.utils - INFO - Confusion Matrix:\n",
      "2039\t1262\t1526\n",
      "4609\t5364\t7398\n",
      "14540\t17472\t63181\n",
      "2025-03-27 17:19:32,351 - src.utils - INFO - Best model saved based on highest AUC-ROC.\n",
      "2025-03-27 17:20:27,873 - src.utils - INFO - Epoch 7/1000 - Train Loss: 7498.2655, Val Loss: 1862.0729, LR: 0.000100\n",
      "2025-03-27 17:20:27,873 - src.utils - INFO - Accuracy: 0.5814, F1-Score: 0.6440, AUC-ROC: 0.6773\n",
      "2025-03-27 17:20:27,874 - src.utils - INFO - Confusion Matrix:\n",
      "2455\t982\t1390\n",
      "5864\t4426\t7081\n",
      "18717\t15108\t61368\n",
      "2025-03-27 17:21:22,675 - src.utils - INFO - Epoch 8/1000 - Train Loss: 7486.4606, Val Loss: 1860.9507, LR: 0.000100\n",
      "2025-03-27 17:21:22,676 - src.utils - INFO - Accuracy: 0.5927, F1-Score: 0.6518, AUC-ROC: 0.6791\n",
      "2025-03-27 17:21:22,676 - src.utils - INFO - Confusion Matrix:\n",
      "2318\t1054\t1455\n",
      "5442\t4777\t7152\n",
      "16445\t16260\t62488\n",
      "2025-03-27 17:21:22,683 - src.utils - INFO - Best model saved based on highest AUC-ROC.\n",
      "2025-03-27 17:22:18,114 - src.utils - INFO - Epoch 9/1000 - Train Loss: 7475.2999, Val Loss: 1857.9117, LR: 0.000100\n",
      "2025-03-27 17:22:18,115 - src.utils - INFO - Accuracy: 0.5867, F1-Score: 0.6481, AUC-ROC: 0.6814\n",
      "2025-03-27 17:22:18,115 - src.utils - INFO - Confusion Matrix:\n",
      "2439\t984\t1404\n",
      "5704\t4621\t7046\n",
      "18015\t15359\t61819\n",
      "2025-03-27 17:22:18,122 - src.utils - INFO - Best model saved based on highest AUC-ROC.\n",
      "2025-03-27 17:23:13,143 - src.utils - INFO - Epoch 10/1000 - Train Loss: 7462.1234, Val Loss: 1858.0304, LR: 0.000100\n",
      "2025-03-27 17:23:13,144 - src.utils - INFO - Accuracy: 0.5819, F1-Score: 0.6451, AUC-ROC: 0.6844\n",
      "2025-03-27 17:23:13,145 - src.utils - INFO - Confusion Matrix:\n",
      "2454\t1026\t1347\n",
      "5700\t4728\t6943\n",
      "18854\t15209\t61130\n",
      "2025-03-27 17:23:13,151 - src.utils - INFO - Best model saved based on highest AUC-ROC.\n",
      "2025-03-27 17:24:08,203 - src.utils - INFO - Epoch 11/1000 - Train Loss: 7458.0667, Val Loss: 1854.2611, LR: 0.000100\n",
      "2025-03-27 17:24:08,204 - src.utils - INFO - Accuracy: 0.5845, F1-Score: 0.6468, AUC-ROC: 0.6843\n",
      "2025-03-27 17:24:08,206 - src.utils - INFO - Confusion Matrix:\n",
      "2415\t1058\t1354\n",
      "5624\t4894\t6853\n",
      "17624\t16264\t61305\n",
      "2025-03-27 17:25:03,646 - src.utils - INFO - Epoch 12/1000 - Train Loss: 7447.0167, Val Loss: 1854.7057, LR: 0.000100\n",
      "2025-03-27 17:25:03,646 - src.utils - INFO - Accuracy: 0.5935, F1-Score: 0.6524, AUC-ROC: 0.6832\n",
      "2025-03-27 17:25:03,647 - src.utils - INFO - Confusion Matrix:\n",
      "2221\t1169\t1437\n",
      "4978\t5361\t7032\n",
      "15506\t17602\t62085\n",
      "2025-03-27 17:25:59,302 - src.utils - INFO - Epoch 13/1000 - Train Loss: 7439.9393, Val Loss: 1853.4361, LR: 0.000100\n",
      "2025-03-27 17:25:59,303 - src.utils - INFO - Accuracy: 0.6041, F1-Score: 0.6599, AUC-ROC: 0.6863\n",
      "2025-03-27 17:25:59,304 - src.utils - INFO - Confusion Matrix:\n",
      "2327\t1028\t1472\n",
      "5210\t4837\t7324\n",
      "15676\t15761\t63756\n",
      "2025-03-27 17:25:59,314 - src.utils - INFO - Best model saved based on highest AUC-ROC.\n",
      "2025-03-27 17:26:54,775 - src.utils - INFO - Epoch 14/1000 - Train Loss: 7437.5135, Val Loss: 1851.9152, LR: 0.000100\n",
      "2025-03-27 17:26:54,777 - src.utils - INFO - Accuracy: 0.6047, F1-Score: 0.6606, AUC-ROC: 0.6858\n",
      "2025-03-27 17:26:54,778 - src.utils - INFO - Confusion Matrix:\n",
      "2333\t1014\t1480\n",
      "5411\t4670\t7290\n",
      "15808\t15400\t63985\n",
      "2025-03-27 17:27:49,998 - src.utils - INFO - Epoch 15/1000 - Train Loss: 7427.4932, Val Loss: 1848.9885, LR: 0.000100\n",
      "2025-03-27 17:27:49,999 - src.utils - INFO - Accuracy: 0.5862, F1-Score: 0.6477, AUC-ROC: 0.6845\n",
      "2025-03-27 17:27:49,999 - src.utils - INFO - Confusion Matrix:\n",
      "2404\t1031\t1392\n",
      "5578\t4893\t6900\n",
      "17299\t16377\t61517\n",
      "2025-03-27 17:28:45,535 - src.utils - INFO - Epoch 16/1000 - Train Loss: 7416.1559, Val Loss: 1848.1962, LR: 0.000100\n",
      "2025-03-27 17:28:45,536 - src.utils - INFO - Accuracy: 0.5837, F1-Score: 0.6459, AUC-ROC: 0.6865\n",
      "2025-03-27 17:28:45,537 - src.utils - INFO - Confusion Matrix:\n",
      "2411\t1073\t1343\n",
      "5450\t5110\t6811\n",
      "17202\t16991\t61000\n",
      "2025-03-27 17:28:45,543 - src.utils - INFO - Best model saved based on highest AUC-ROC.\n",
      "2025-03-27 17:29:40,903 - src.utils - INFO - Epoch 17/1000 - Train Loss: 7415.7566, Val Loss: 1847.8683, LR: 0.000100\n",
      "2025-03-27 17:29:40,903 - src.utils - INFO - Accuracy: 0.5880, F1-Score: 0.6494, AUC-ROC: 0.6875\n",
      "2025-03-27 17:29:40,904 - src.utils - INFO - Confusion Matrix:\n",
      "2345\t1142\t1340\n",
      "5261\t5305\t6805\n",
      "16807\t17008\t61378\n",
      "2025-03-27 17:29:40,911 - src.utils - INFO - Best model saved based on highest AUC-ROC.\n",
      "2025-03-27 17:30:35,701 - src.utils - INFO - Epoch 18/1000 - Train Loss: 7411.4534, Val Loss: 1848.5961, LR: 0.000100\n",
      "2025-03-27 17:30:35,702 - src.utils - INFO - Accuracy: 0.5705, F1-Score: 0.6369, AUC-ROC: 0.6862\n",
      "2025-03-27 17:30:35,703 - src.utils - INFO - Confusion Matrix:\n",
      "2502\t1033\t1292\n",
      "5839\t5180\t6352\n",
      "18378\t17530\t59285\n",
      "2025-03-27 17:31:30,629 - src.utils - INFO - Epoch 19/1000 - Train Loss: 7405.1853, Val Loss: 1845.0005, LR: 0.000100\n",
      "2025-03-27 17:31:30,630 - src.utils - INFO - Accuracy: 0.5925, F1-Score: 0.6524, AUC-ROC: 0.6894\n",
      "2025-03-27 17:31:30,631 - src.utils - INFO - Confusion Matrix:\n",
      "2331\t1114\t1382\n",
      "5269\t5367\t6735\n",
      "15583\t17751\t61859\n",
      "2025-03-27 17:31:30,638 - src.utils - INFO - Best model saved based on highest AUC-ROC.\n",
      "2025-03-27 17:32:25,674 - src.utils - INFO - Epoch 20/1000 - Train Loss: 7407.3809, Val Loss: 1847.0454, LR: 0.000100\n",
      "2025-03-27 17:32:25,675 - src.utils - INFO - Accuracy: 0.5807, F1-Score: 0.6442, AUC-ROC: 0.6885\n",
      "2025-03-27 17:32:25,676 - src.utils - INFO - Confusion Matrix:\n",
      "2461\t995\t1371\n",
      "5670\t5109\t6592\n",
      "17753\t16845\t60595\n",
      "2025-03-27 17:33:20,478 - src.utils - INFO - Epoch 21/1000 - Train Loss: 7395.0830, Val Loss: 1843.2435, LR: 0.000100\n",
      "2025-03-27 17:33:20,479 - src.utils - INFO - Accuracy: 0.5681, F1-Score: 0.6354, AUC-ROC: 0.6862\n",
      "2025-03-27 17:33:20,480 - src.utils - INFO - Confusion Matrix:\n",
      "2544\t1051\t1232\n",
      "5892\t5258\t6221\n",
      "18556\t17746\t58891\n",
      "2025-03-27 17:34:15,220 - src.utils - INFO - Epoch 22/1000 - Train Loss: 7391.9567, Val Loss: 1844.5208, LR: 0.000100\n",
      "2025-03-27 17:34:15,221 - src.utils - INFO - Accuracy: 0.5822, F1-Score: 0.6457, AUC-ROC: 0.6836\n",
      "2025-03-27 17:34:15,222 - src.utils - INFO - Confusion Matrix:\n",
      "2544\t945\t1338\n",
      "5894\t4921\t6556\n",
      "18099\t16215\t60879\n",
      "2025-03-27 17:35:09,894 - src.utils - INFO - Epoch 23/1000 - Train Loss: 7378.0926, Val Loss: 1843.8937, LR: 0.000100\n",
      "2025-03-27 17:35:09,896 - src.utils - INFO - Accuracy: 0.6053, F1-Score: 0.6617, AUC-ROC: 0.6920\n",
      "2025-03-27 17:35:09,897 - src.utils - INFO - Confusion Matrix:\n",
      "2427\t947\t1453\n",
      "5607\t4677\t7087\n",
      "16081\t15155\t63957\n",
      "2025-03-27 17:35:09,909 - src.utils - INFO - Best model saved based on highest AUC-ROC.\n",
      "2025-03-27 17:36:05,859 - src.utils - INFO - Epoch 24/1000 - Train Loss: 7378.0680, Val Loss: 1840.2645, LR: 0.000100\n",
      "2025-03-27 17:36:05,860 - src.utils - INFO - Accuracy: 0.5931, F1-Score: 0.6532, AUC-ROC: 0.6891\n",
      "2025-03-27 17:36:05,861 - src.utils - INFO - Confusion Matrix:\n",
      "2449\t1012\t1366\n",
      "5565\t5056\t6750\n",
      "16453\t16622\t62118\n",
      "2025-03-27 17:37:01,233 - src.utils - INFO - Epoch 25/1000 - Train Loss: 7369.9556, Val Loss: 1842.9592, LR: 0.000100\n",
      "2025-03-27 17:37:01,233 - src.utils - INFO - Accuracy: 0.5965, F1-Score: 0.6558, AUC-ROC: 0.6898\n",
      "2025-03-27 17:37:01,234 - src.utils - INFO - Confusion Matrix:\n",
      "2378\t1095\t1354\n",
      "5311\t5306\t6754\n",
      "15982\t16877\t62334\n",
      "2025-03-27 17:37:56,491 - src.utils - INFO - Epoch 26/1000 - Train Loss: 7371.9021, Val Loss: 1839.9446, LR: 0.000100\n",
      "2025-03-27 17:37:56,492 - src.utils - INFO - Accuracy: 0.5917, F1-Score: 0.6524, AUC-ROC: 0.6959\n",
      "2025-03-27 17:37:56,492 - src.utils - INFO - Confusion Matrix:\n",
      "2409\t1058\t1360\n",
      "5427\t5328\t6616\n",
      "16196\t17274\t61723\n",
      "2025-03-27 17:37:56,499 - src.utils - INFO - Best model saved based on highest AUC-ROC.\n",
      "2025-03-27 17:38:51,672 - src.utils - INFO - Epoch 27/1000 - Train Loss: 7366.5437, Val Loss: 1839.5822, LR: 0.000100\n",
      "2025-03-27 17:38:51,673 - src.utils - INFO - Accuracy: 0.5910, F1-Score: 0.6519, AUC-ROC: 0.6894\n",
      "2025-03-27 17:38:51,673 - src.utils - INFO - Confusion Matrix:\n",
      "2457\t1002\t1368\n",
      "5572\t5150\t6649\n",
      "16607\t16814\t61772\n",
      "2025-03-27 17:39:46,202 - src.utils - INFO - Epoch 28/1000 - Train Loss: 7355.9848, Val Loss: 1839.0178, LR: 0.000100\n",
      "2025-03-27 17:39:46,203 - src.utils - INFO - Accuracy: 0.5805, F1-Score: 0.6445, AUC-ROC: 0.6889\n",
      "2025-03-27 17:39:46,204 - src.utils - INFO - Confusion Matrix:\n",
      "2517\t1019\t1291\n",
      "5709\t5263\t6399\n",
      "17465\t17361\t60367\n",
      "2025-03-27 17:40:41,529 - src.utils - INFO - Epoch 29/1000 - Train Loss: 7354.0996, Val Loss: 1839.1385, LR: 0.000100\n",
      "2025-03-27 17:40:41,530 - src.utils - INFO - Accuracy: 0.6057, F1-Score: 0.6627, AUC-ROC: 0.6913\n",
      "2025-03-27 17:40:41,530 - src.utils - INFO - Confusion Matrix:\n",
      "2407\t1016\t1404\n",
      "5411\t4974\t6986\n",
      "16312\t15161\t63720\n",
      "2025-03-27 17:41:36,448 - src.utils - INFO - Epoch 30/1000 - Train Loss: 7351.8329, Val Loss: 1837.5538, LR: 0.000100\n",
      "2025-03-27 17:41:36,449 - src.utils - INFO - Accuracy: 0.5716, F1-Score: 0.6386, AUC-ROC: 0.6928\n",
      "2025-03-27 17:41:36,450 - src.utils - INFO - Confusion Matrix:\n",
      "2624\t981\t1222\n",
      "6088\t5171\t6112\n",
      "18629\t17260\t59304\n",
      "2025-03-27 17:42:31,645 - src.utils - INFO - Epoch 31/1000 - Train Loss: 7342.7085, Val Loss: 1837.2649, LR: 0.000100\n",
      "2025-03-27 17:42:31,646 - src.utils - INFO - Accuracy: 0.5933, F1-Score: 0.6535, AUC-ROC: 0.6947\n",
      "2025-03-27 17:42:31,647 - src.utils - INFO - Confusion Matrix:\n",
      "2322\t1179\t1326\n",
      "5088\t5703\t6580\n",
      "15614\t17959\t61620\n",
      "2025-03-27 17:42:31,647 - src.utils - INFO - Early stopping triggered.\n"
     ]
    }
   ],
   "source": [
    "%load_ext autoreload\n",
    "%autoreload 2\n",
    "\n",
    "from src.modeling import TabularNN\n",
    "\n",
    "# Instantiate the model\n",
    "model = TabularNN(X_train, y_train, X_val, y_val, hidden_dims=[1024, 524, 128, 64], model_path=f'{PATH_MODELS}/tabular_model.pth')\n",
    "\n",
    "# Train the model\n",
    "model.train_model(epochs=1000, learning_rate=0.0001)\n",
    "\n"
   ]
  },
  {
   "cell_type": "code",
   "execution_count": 18,
   "metadata": {},
   "outputs": [
    {
     "name": "stderr",
     "output_type": "stream",
     "text": [
      "2025-03-27 17:42:32,010 - src.utils - INFO - Unique classes during training: [0 1 2]\n",
      "2025-03-27 17:42:32,011 - src.utils - INFO - Output dimension during training: 3\n"
     ]
    },
    {
     "name": "stdout",
     "output_type": "stream",
     "text": [
      "Model loaded successfully!\n"
     ]
    },
    {
     "data": {
      "text/plain": [
       "TabularNN(\n",
       "  (model): Sequential(\n",
       "    (0): Linear(in_features=27, out_features=1024, bias=True)\n",
       "    (1): BatchNorm1d(1024, eps=1e-05, momentum=0.1, affine=True, track_running_stats=True)\n",
       "    (2): ReLU()\n",
       "    (3): Dropout(p=0.3, inplace=False)\n",
       "    (4): Linear(in_features=1024, out_features=524, bias=True)\n",
       "    (5): BatchNorm1d(524, eps=1e-05, momentum=0.1, affine=True, track_running_stats=True)\n",
       "    (6): ReLU()\n",
       "    (7): Dropout(p=0.3, inplace=False)\n",
       "    (8): Linear(in_features=524, out_features=128, bias=True)\n",
       "    (9): BatchNorm1d(128, eps=1e-05, momentum=0.1, affine=True, track_running_stats=True)\n",
       "    (10): ReLU()\n",
       "    (11): Dropout(p=0.3, inplace=False)\n",
       "    (12): Linear(in_features=128, out_features=64, bias=True)\n",
       "    (13): BatchNorm1d(64, eps=1e-05, momentum=0.1, affine=True, track_running_stats=True)\n",
       "    (14): ReLU()\n",
       "    (15): Dropout(p=0.3, inplace=False)\n",
       "    (16): Linear(in_features=64, out_features=3, bias=True)\n",
       "  )\n",
       ")"
      ]
     },
     "execution_count": 18,
     "metadata": {},
     "output_type": "execute_result"
    }
   ],
   "source": [
    "import pandas as pd\n",
    "import numpy as np\n",
    "from src.modeling import TabularNN\n",
    "from src.config import PATH_MODELS\n",
    "import torch\n",
    "\n",
    "# Define the path to the saved model\n",
    "MODEL_PATH = f\"{PATH_MODELS}/tabular_model.pth\"\n",
    "\n",
    "# Load the checkpoint to get the parameters\n",
    "checkpoint = torch.load(MODEL_PATH)\n",
    "input_dim = checkpoint['input_dim']\n",
    "hidden_dims = checkpoint['hidden_dims']\n",
    "output_dim = checkpoint['output_dim']\n",
    "target_mapping = checkpoint['target_mapping']\n",
    "\n",
    "# Create dummy data with the correct shape\n",
    "dummy_X = pd.DataFrame(np.zeros((3, input_dim)))\n",
    "dummy_y = pd.Series([0, 1, 2]) \n",
    "\n",
    "# Initialize the model using dummy data\n",
    "loaded_model = TabularNN(dummy_X, dummy_y, dummy_X, dummy_y, hidden_dims=hidden_dims)\n",
    "loaded_model.load_state_dict(checkpoint['model_state_dict'])\n",
    "loaded_model.eval()\n",
    "\n",
    "print(\"Model loaded successfully!\")\n",
    "\n",
    "# Получим предсказания для dummy_X\n",
    "loaded_model.predict(dummy_X)\n",
    "\n",
    "loaded_model"
   ]
  },
  {
   "cell_type": "code",
   "execution_count": 19,
   "metadata": {},
   "outputs": [
    {
     "name": "stdout",
     "output_type": "stream",
     "text": [
      "The autoreload extension is already loaded. To reload it, use:\n",
      "  %reload_ext autoreload\n"
     ]
    },
    {
     "name": "stdout",
     "output_type": "stream",
     "text": [
      "0:\tlearn: 1.0665870\ttest: 1.0666001\tbest: 1.0666001 (0)\ttotal: 412ms\tremaining: 6m 51s\n",
      "100:\tlearn: 0.5502277\ttest: 0.5516981\tbest: 0.5516981 (100)\ttotal: 34s\tremaining: 5m 2s\n",
      "200:\tlearn: 0.5351898\ttest: 0.5379727\tbest: 0.5379727 (200)\ttotal: 1m 7s\tremaining: 4m 27s\n",
      "300:\tlearn: 0.5281540\ttest: 0.5319916\tbest: 0.5319916 (300)\ttotal: 1m 41s\tremaining: 3m 54s\n",
      "400:\tlearn: 0.5230962\ttest: 0.5280030\tbest: 0.5280030 (400)\ttotal: 2m 14s\tremaining: 3m 20s\n",
      "500:\tlearn: 0.5185345\ttest: 0.5245093\tbest: 0.5245093 (500)\ttotal: 2m 47s\tremaining: 2m 46s\n",
      "600:\tlearn: 0.5147071\ttest: 0.5216839\tbest: 0.5216839 (600)\ttotal: 3m 20s\tremaining: 2m 12s\n",
      "700:\tlearn: 0.5113475\ttest: 0.5193132\tbest: 0.5193132 (700)\ttotal: 3m 52s\tremaining: 1m 39s\n",
      "800:\tlearn: 0.5084351\ttest: 0.5173442\tbest: 0.5173442 (800)\ttotal: 4m 26s\tremaining: 1m 6s\n",
      "900:\tlearn: 0.5057840\ttest: 0.5156805\tbest: 0.5156805 (900)\ttotal: 4m 59s\tremaining: 32.9s\n"
     ]
    },
    {
     "name": "stderr",
     "output_type": "stream",
     "text": [
      "2025-03-27 17:48:04,985 - src.utils - INFO - Сохраняем модель в /workspaces/street_tree/models/catboost_model.cbm\n"
     ]
    },
    {
     "name": "stdout",
     "output_type": "stream",
     "text": [
      "999:\tlearn: 0.5035322\ttest: 0.5143287\tbest: 0.5143287 (999)\ttotal: 5m 31s\tremaining: 0us\n",
      "\n",
      "bestTest = 0.5143287016\n",
      "bestIteration = 999\n",
      "\n"
     ]
    },
    {
     "name": "stderr",
     "output_type": "stream",
     "text": [
      "2025-03-27 17:48:05,756 - src.utils - INFO - CatBoost Accuracy: 0.8163, F1-Score: 0.7479, AUC-ROC: 0.7500\n",
      "2025-03-27 17:48:05,757 - src.utils - INFO - Confusion Matrix:\n",
      "[[  197   392  4238]\n",
      " [  102   976 16293]\n",
      " [   37   500 94656]]\n"
     ]
    }
   ],
   "source": [
    "%load_ext autoreload\n",
    "%autoreload 2\n",
    "from src.modeling_catboost import CatBoostModelTrain\n",
    "\n",
    "catboost_model = CatBoostModelTrain(model_dir=PATH_MODELS)\n",
    "catboost_model.train(X_train, y_train, X_val, y_val)\n"
   ]
  }
 ],
 "metadata": {
  "kernelspec": {
   "display_name": ".venv",
   "language": "python",
   "name": "python3"
  },
  "language_info": {
   "codemirror_mode": {
    "name": "ipython",
    "version": 3
   },
   "file_extension": ".py",
   "mimetype": "text/x-python",
   "name": "python",
   "nbconvert_exporter": "python",
   "pygments_lexer": "ipython3",
   "version": "3.12.1"
  }
 },
 "nbformat": 4,
 "nbformat_minor": 2
}
