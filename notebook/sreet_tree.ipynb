{
 "cells": [
  {
   "cell_type": "markdown",
   "metadata": {},
   "source": [
    "# DL-модель для классификации состояния дерева (Good/Fair/Poor) по данным из NY 2015 Street Tree Census."
   ]
  },
  {
   "cell_type": "markdown",
   "metadata": {},
   "source": [
    "## Импорт датасета 2015 Street Tree Census - Tree Data"
   ]
  },
  {
   "cell_type": "markdown",
   "metadata": {},
   "source": [
    "Описание датасета https://data.cityofnewyork.us/Environment/2015-Street-Tree-Census-Tree-Data/uvpi-gqnh/about_data"
   ]
  },
  {
   "cell_type": "code",
   "execution_count": 6,
   "metadata": {},
   "outputs": [
    {
     "name": "stdout",
     "output_type": "stream",
     "text": [
      "Файл загружен: ./ny-2015-street-tree-census-tree-data.zip\n",
      "Файлы распакованы\n",
      "Файл не найден по пути: ./ny-2015-street-tree-census-tree-data/2015_Street_Tree_Census_-_Tree_Data.csv\n"
     ]
    }
   ],
   "source": [
    "import os\n",
    "import zipfile\n",
    "import requests\n",
    "\n",
    "# URL для загрузки датасета\n",
    "url = \"https://www.kaggle.com/api/v1/datasets/download/new-york-city/ny-2015-street-tree-census-tree-data\"\n",
    "output_path = os.path.expanduser(\"./ny-2015-street-tree-census-tree-data.zip\")\n",
    "\n",
    "# Загрузка файла\n",
    "response = requests.get(url, stream=True)\n",
    "if response.status_code == 200:\n",
    "    with open(output_path, 'wb') as f:\n",
    "        for chunk in response.iter_content(chunk_size=128):\n",
    "            f.write(chunk)\n",
    "    print(f\"Файл загружен: {output_path}\")\n",
    "else:\n",
    "    print(f\"Ошибка при загрузке файла: {response.status_code}\")\n",
    "\n",
    "# Распаковка архива\n",
    "with zipfile.ZipFile(output_path, 'r') as zip_ref:\n",
    "    zip_ref.extractall(os.path.expanduser(\"./ny-2015-street-tree-census-tree-data\"))\n",
    "    print(\"Файлы распакованы\")\n",
    "\n",
    "# Указание пути к конкретному файлу\n",
    "file_path = os.path.expanduser(\"./ny-2015-street-tree-census-tree-data/2015_Street_Tree_Census_-_Tree_Data.csv\")\n",
    "\n",
    "# Проверка, существует ли файл по указанному пути\n",
    "if os.path.exists(file_path):\n",
    "    # Чтение данных в DataFrame\n",
    "    df = pd.read_csv(file_path)\n",
    "    # Просмотр первых строк датасета\n",
    "    print(df.head())\n",
    "else:\n",
    "    print(f\"Файл не найден по пути: {file_path}\")"
   ]
  },
  {
   "cell_type": "code",
   "execution_count": null,
   "metadata": {},
   "outputs": [],
   "source": []
  }
 ],
 "metadata": {
  "kernelspec": {
   "display_name": "Python 3",
   "language": "python",
   "name": "python3"
  },
  "language_info": {
   "codemirror_mode": {
    "name": "ipython",
    "version": 3
   },
   "file_extension": ".py",
   "mimetype": "text/x-python",
   "name": "python",
   "nbconvert_exporter": "python",
   "pygments_lexer": "ipython3",
   "version": "3.12.1"
  }
 },
 "nbformat": 4,
 "nbformat_minor": 2
}
