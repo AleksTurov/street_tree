{
 "cells": [
  {
   "cell_type": "markdown",
   "metadata": {},
   "source": [
    "# DL-модель для классификации состояния дерева (Good/Fair/Poor) по данным из NY 2015 Street Tree Census."
   ]
  },
  {
   "cell_type": "markdown",
   "metadata": {},
   "source": [
    "## Импорт библиотек"
   ]
  },
  {
   "cell_type": "code",
   "execution_count": 22,
   "metadata": {},
   "outputs": [],
   "source": [
    "import os\n",
    "import zipfile\n",
    "import requests\n",
    "import pandas as pd\n",
    "import folium\n",
    "from folium.plugins import HeatMap\n",
    "import geopandas as gpd\n",
    "from shapely.geometry import Point\n",
    "import numpy as np\n",
    "import pingouin as pg\n"
   ]
  },
  {
   "cell_type": "markdown",
   "metadata": {},
   "source": [
    "## Dowload dataset 2015 Street Tree Census - Tree Data"
   ]
  },
  {
   "cell_type": "markdown",
   "metadata": {},
   "source": [
    "Описание датасета https://data.cityofnewyork.us/Environment/2015-Street-Tree-Census-Tree-Data/uvpi-gqnh/about_data"
   ]
  },
  {
   "cell_type": "code",
   "execution_count": 2,
   "metadata": {},
   "outputs": [],
   "source": [
    "# Путь к директории с исходными данными \n",
    "path_raw = os.path.expanduser(\"../data/raw\")\n",
    "# URL для загрузки датасета\n",
    "url = \"https://www.kaggle.com/api/v1/datasets/download/new-york-city/ny-2015-street-tree-census-tree-data\"\n",
    "\n",
    "name_dataset = \"2015-street-tree-census-tree-data\" \n",
    "output_path = os.path.expanduser(f\"{path_raw}/{name_dataset}.zip\")\n"
   ]
  },
  {
   "cell_type": "code",
   "execution_count": 3,
   "metadata": {},
   "outputs": [
    {
     "name": "stdout",
     "output_type": "stream",
     "text": [
      "Файл уже существует: ../data/raw/2015-street-tree-census-tree-data.zip\n"
     ]
    },
    {
     "name": "stdout",
     "output_type": "stream",
     "text": [
      "Файлы распакованы\n"
     ]
    }
   ],
   "source": [
    "def download_file(url, output_path):\n",
    "    \"\"\" \n",
    "    Загрузка файла по URL и сохранение в output_path\n",
    "    \"\"\"\n",
    "    # Проверка наличия архива\n",
    "    if not os.path.exists(output_path):\n",
    "        # Загрузка файла\n",
    "        response = requests.get(url, stream=True)\n",
    "        if response.status_code == 200:\n",
    "            with open(output_path, 'wb') as f:\n",
    "                for chunk in response.iter_content(chunk_size=128):\n",
    "                    f.write(chunk)\n",
    "            print(f\"Файл загружен: {output_path}\")\n",
    "        else:\n",
    "            print(f\"Ошибка при загрузке файла: {response.status_code}\")\n",
    "    else:\n",
    "        print(f\"Файл уже существует: {output_path}\")\n",
    "\n",
    "    # Распаковка архива\n",
    "    with zipfile.ZipFile(output_path, 'r') as zip_ref:\n",
    "        zip_ref.extractall(path_raw)\n",
    "        print(\"Файлы распакованы\")\n",
    "\n",
    "download_file(url, output_path)"
   ]
  },
  {
   "cell_type": "code",
   "execution_count": 4,
   "metadata": {},
   "outputs": [
    {
     "data": {
      "text/html": [
       "<div>\n",
       "<style scoped>\n",
       "    .dataframe tbody tr th:only-of-type {\n",
       "        vertical-align: middle;\n",
       "    }\n",
       "\n",
       "    .dataframe tbody tr th {\n",
       "        vertical-align: top;\n",
       "    }\n",
       "\n",
       "    .dataframe thead th {\n",
       "        text-align: right;\n",
       "    }\n",
       "</style>\n",
       "<table border=\"1\" class=\"dataframe\">\n",
       "  <thead>\n",
       "    <tr style=\"text-align: right;\">\n",
       "      <th></th>\n",
       "      <th>tree_id</th>\n",
       "      <th>block_id</th>\n",
       "      <th>created_at</th>\n",
       "      <th>tree_dbh</th>\n",
       "      <th>stump_diam</th>\n",
       "      <th>curb_loc</th>\n",
       "      <th>status</th>\n",
       "      <th>health</th>\n",
       "      <th>spc_latin</th>\n",
       "      <th>spc_common</th>\n",
       "      <th>...</th>\n",
       "      <th>boro_ct</th>\n",
       "      <th>state</th>\n",
       "      <th>latitude</th>\n",
       "      <th>longitude</th>\n",
       "      <th>x_sp</th>\n",
       "      <th>y_sp</th>\n",
       "      <th>council district</th>\n",
       "      <th>census tract</th>\n",
       "      <th>bin</th>\n",
       "      <th>bbl</th>\n",
       "    </tr>\n",
       "  </thead>\n",
       "  <tbody>\n",
       "    <tr>\n",
       "      <th>0</th>\n",
       "      <td>180683</td>\n",
       "      <td>348711</td>\n",
       "      <td>2015-08-27T00:00:00.000</td>\n",
       "      <td>3</td>\n",
       "      <td>0</td>\n",
       "      <td>OnCurb</td>\n",
       "      <td>Alive</td>\n",
       "      <td>Fair</td>\n",
       "      <td>Acer rubrum</td>\n",
       "      <td>red maple</td>\n",
       "      <td>...</td>\n",
       "      <td>4073900</td>\n",
       "      <td>New York</td>\n",
       "      <td>40.723092</td>\n",
       "      <td>-73.844215</td>\n",
       "      <td>1027431.148</td>\n",
       "      <td>202756.7687</td>\n",
       "      <td>29.0</td>\n",
       "      <td>739.0</td>\n",
       "      <td>4052307.0</td>\n",
       "      <td>4.022210e+09</td>\n",
       "    </tr>\n",
       "    <tr>\n",
       "      <th>1</th>\n",
       "      <td>200540</td>\n",
       "      <td>315986</td>\n",
       "      <td>2015-09-03T00:00:00.000</td>\n",
       "      <td>21</td>\n",
       "      <td>0</td>\n",
       "      <td>OnCurb</td>\n",
       "      <td>Alive</td>\n",
       "      <td>Fair</td>\n",
       "      <td>Quercus palustris</td>\n",
       "      <td>pin oak</td>\n",
       "      <td>...</td>\n",
       "      <td>4097300</td>\n",
       "      <td>New York</td>\n",
       "      <td>40.794111</td>\n",
       "      <td>-73.818679</td>\n",
       "      <td>1034455.701</td>\n",
       "      <td>228644.8374</td>\n",
       "      <td>19.0</td>\n",
       "      <td>973.0</td>\n",
       "      <td>4101931.0</td>\n",
       "      <td>4.044750e+09</td>\n",
       "    </tr>\n",
       "    <tr>\n",
       "      <th>2</th>\n",
       "      <td>204026</td>\n",
       "      <td>218365</td>\n",
       "      <td>2015-09-05T00:00:00.000</td>\n",
       "      <td>3</td>\n",
       "      <td>0</td>\n",
       "      <td>OnCurb</td>\n",
       "      <td>Alive</td>\n",
       "      <td>Good</td>\n",
       "      <td>Gleditsia triacanthos var. inermis</td>\n",
       "      <td>honeylocust</td>\n",
       "      <td>...</td>\n",
       "      <td>3044900</td>\n",
       "      <td>New York</td>\n",
       "      <td>40.717581</td>\n",
       "      <td>-73.936608</td>\n",
       "      <td>1001822.831</td>\n",
       "      <td>200716.8913</td>\n",
       "      <td>34.0</td>\n",
       "      <td>449.0</td>\n",
       "      <td>3338310.0</td>\n",
       "      <td>3.028870e+09</td>\n",
       "    </tr>\n",
       "  </tbody>\n",
       "</table>\n",
       "<p>3 rows × 45 columns</p>\n",
       "</div>"
      ],
      "text/plain": [
       "   tree_id  block_id               created_at  tree_dbh  stump_diam curb_loc  \\\n",
       "0   180683    348711  2015-08-27T00:00:00.000         3           0   OnCurb   \n",
       "1   200540    315986  2015-09-03T00:00:00.000        21           0   OnCurb   \n",
       "2   204026    218365  2015-09-05T00:00:00.000         3           0   OnCurb   \n",
       "\n",
       "  status health                           spc_latin   spc_common  ...  \\\n",
       "0  Alive   Fair                         Acer rubrum    red maple  ...   \n",
       "1  Alive   Fair                   Quercus palustris      pin oak  ...   \n",
       "2  Alive   Good  Gleditsia triacanthos var. inermis  honeylocust  ...   \n",
       "\n",
       "   boro_ct     state   latitude  longitude         x_sp         y_sp  \\\n",
       "0  4073900  New York  40.723092 -73.844215  1027431.148  202756.7687   \n",
       "1  4097300  New York  40.794111 -73.818679  1034455.701  228644.8374   \n",
       "2  3044900  New York  40.717581 -73.936608  1001822.831  200716.8913   \n",
       "\n",
       "  council district census tract        bin           bbl  \n",
       "0             29.0        739.0  4052307.0  4.022210e+09  \n",
       "1             19.0        973.0  4101931.0  4.044750e+09  \n",
       "2             34.0        449.0  3338310.0  3.028870e+09  \n",
       "\n",
       "[3 rows x 45 columns]"
      ]
     },
     "execution_count": 4,
     "metadata": {},
     "output_type": "execute_result"
    }
   ],
   "source": [
    "df = pd.read_csv(f'{path_raw}/{name_dataset}.csv')\n",
    "df.head(3)"
   ]
  },
  {
   "cell_type": "markdown",
   "metadata": {},
   "source": [
    "## Анализ данных"
   ]
  },
  {
   "cell_type": "code",
   "execution_count": 5,
   "metadata": {},
   "outputs": [
    {
     "data": {
      "text/plain": [
       "Index(['tree_id', 'block_id', 'created_at', 'tree_dbh', 'stump_diam',\n",
       "       'curb_loc', 'status', 'health', 'spc_latin', 'spc_common', 'steward',\n",
       "       'guards', 'sidewalk', 'user_type', 'problems', 'root_stone',\n",
       "       'root_grate', 'root_other', 'trunk_wire', 'trnk_light', 'trnk_other',\n",
       "       'brch_light', 'brch_shoe', 'brch_other', 'address', 'postcode',\n",
       "       'zip_city', 'community_board', 'borocode', 'borough', 'cncldist',\n",
       "       'st_assem', 'st_senate', 'nta', 'nta_name', 'boro_ct', 'state',\n",
       "       'latitude', 'longitude', 'x_sp', 'y_sp', 'council_district',\n",
       "       'census_tract', 'bin', 'bbl'],\n",
       "      dtype='object')"
      ]
     },
     "execution_count": 5,
     "metadata": {},
     "output_type": "execute_result"
    }
   ],
   "source": [
    "df.columns = [col.lower().replace(' ', '_') for col in df.columns]\n",
    "df.columns"
   ]
  },
  {
   "cell_type": "code",
   "execution_count": 6,
   "metadata": {},
   "outputs": [
    {
     "name": "stdout",
     "output_type": "stream",
     "text": [
      "status  health\n",
      "Alive   Good      528850\n",
      "        Fair       96504\n",
      "        Poor       26818\n",
      "Name: count, dtype: int64\n",
      "status\n",
      "Stump    17654\n",
      "Dead     13961\n",
      "Name: count, dtype: int64\n",
      "Series([], Name: count, dtype: int64)\n"
     ]
    },
    {
     "data": {
      "text/plain": [
       "(652173, 45)"
      ]
     },
     "execution_count": 6,
     "metadata": {},
     "output_type": "execute_result"
    }
   ],
   "source": [
    "# Распределение таргета\n",
    "print(df[['status', 'health']].value_counts())\n",
    "print(df[df['status'] != 'Alive']['status'].value_counts())\n",
    "print(df[df['status'] != 'Alive']['health'].value_counts())\n",
    "# Только у живых деревьев есть health status\n",
    "df = df[df['status'] == 'Alive']\n",
    "df.shape"
   ]
  },
  {
   "cell_type": "code",
   "execution_count": 7,
   "metadata": {},
   "outputs": [
    {
     "data": {
      "text/plain": [
       "borough\n",
       "Queens           237974\n",
       "Brooklyn         169744\n",
       "Staten Island    101443\n",
       "Bronx             80585\n",
       "Manhattan         62427\n",
       "Name: count, dtype: int64"
      ]
     },
     "execution_count": 7,
     "metadata": {},
     "output_type": "execute_result"
    }
   ],
   "source": [
    "# По описанию датасета, в нем содержится информация о деревьях в Нью-Йорке\n",
    "# Найдем количество деревьев в каждом районе\n",
    "df.borough.value_counts()"
   ]
  },
  {
   "cell_type": "code",
   "execution_count": 8,
   "metadata": {},
   "outputs": [
    {
     "data": {
      "text/plain": [
       "steward\n",
       "1or2       143557\n",
       "3or4        19183\n",
       "4orMore      1610\n",
       "Name: count, dtype: int64"
      ]
     },
     "execution_count": 8,
     "metadata": {},
     "output_type": "execute_result"
    }
   ],
   "source": [
    "df.steward.value_counts().sort_values(ascending=False).head(10)"
   ]
  },
  {
   "cell_type": "code",
   "execution_count": 9,
   "metadata": {},
   "outputs": [
    {
     "data": {
      "text/plain": [
       "state\n",
       "New York    652173\n",
       "Name: count, dtype: int64"
      ]
     },
     "execution_count": 9,
     "metadata": {},
     "output_type": "execute_result"
    }
   ],
   "source": [
    "df.state.value_counts().sort_values(ascending=False).head(10)"
   ]
  },
  {
   "cell_type": "code",
   "execution_count": 10,
   "metadata": {},
   "outputs": [
    {
     "data": {
      "text/plain": [
       "stump_diam\n",
       "0    652173\n",
       "Name: count, dtype: int64"
      ]
     },
     "execution_count": 10,
     "metadata": {},
     "output_type": "execute_result"
    }
   ],
   "source": [
    "df.stump_diam.value_counts().sort_values(ascending=False).head(10)"
   ]
  },
  {
   "cell_type": "code",
   "execution_count": 11,
   "metadata": {},
   "outputs": [
    {
     "data": {
      "text/plain": [
       "nta_name\n",
       "Annadale-Huguenot-Prince's Bay-Eltingville        12530\n",
       "Great Kills                                       10267\n",
       "Bayside-Bayside Hills                              9386\n",
       "East New York                                      9188\n",
       "Rossville-Woodrow                                  8843\n",
       "New Springville-Bloomfield-Travis                  8142\n",
       "Charleston-Richmond Valley-Tottenville             7913\n",
       "Forest Hills                                       7330\n",
       "Whitestone                                         7253\n",
       "Georgetown-Marine Park-Bergen Beach-Mill Basin     7221\n",
       "Name: count, dtype: int64"
      ]
     },
     "execution_count": 11,
     "metadata": {},
     "output_type": "execute_result"
    }
   ],
   "source": [
    "df.nta_name.value_counts().sort_values(ascending=False).head(10)"
   ]
  },
  {
   "cell_type": "code",
   "execution_count": 12,
   "metadata": {},
   "outputs": [],
   "source": [
    "# Для задачи классификации состояния дерева (Good/Fair/Poor) некоторые столбцы могут быть не нужны, \n",
    "# так как они не влияют на состояние дерева или являются избыточными. \n",
    "# Вот список столбцов, которые можно исключить:\n",
    "# status - все деревья живые\n",
    "# state - все значения одинаковые (\"New York\")\n",
    "# tree_id - уникальный идентификатор дерева\n",
    "# created_at - дата создания записи\n",
    "# stump_diam - диаметр пня. Все деревья живые, поэтому пень не имеет значения для состояния дерева и он везде ноль.\n",
    "# borocode: Код района, не влияет на состояние. есть отдельный столбец borough\n",
    "# x_sp: Координата X, не влияет на состояние.\n",
    "# y_sp: Координата Y, не влияет на состояние.\n",
    "# nta_name: есть отдельный столбец nta \n",
    "# council_district: район совета, не влияет на состояние\n",
    "# census_tract: номер участка, не влияет на состояние\n",
    "# bin: номер корзины, не влияет на состояние\n",
    "# bbl: номер блока, не влияет на состояние\n",
    "# nta_name - район, не влияет на состояние\n",
    "\n"
   ]
  },
  {
   "cell_type": "code",
   "execution_count": 13,
   "metadata": {},
   "outputs": [
    {
     "data": {
      "text/plain": [
       "(652173, 31)"
      ]
     },
     "execution_count": 13,
     "metadata": {},
     "output_type": "execute_result"
    }
   ],
   "source": [
    "df_drop_columns = ['status', 'state', 'tree_id', 'created_at', 'stump_diam', 'address', \n",
    "                   'borocode', 'x_sp', 'y_sp', 'council_district', 'census_tract', 'nta_name',\n",
    "                   'bin', 'bbl']\n",
    "df = df.drop(columns=df_drop_columns)\n",
    "df.shape\n"
   ]
  },
  {
   "cell_type": "code",
   "execution_count": 14,
   "metadata": {},
   "outputs": [
    {
     "data": {
      "text/plain": [
       "guards        572307\n",
       "steward       487823\n",
       "problems      426329\n",
       "spc_latin          5\n",
       "spc_common         5\n",
       "health             1\n",
       "sidewalk           1\n",
       "tree_dbh           0\n",
       "block_id           0\n",
       "curb_loc           0\n",
       "dtype: int64"
      ]
     },
     "execution_count": 14,
     "metadata": {},
     "output_type": "execute_result"
    }
   ],
   "source": [
    "df.isna().sum().sort_values(ascending=False).head(10)"
   ]
  },
  {
   "cell_type": "code",
   "execution_count": 15,
   "metadata": {},
   "outputs": [
    {
     "data": {
      "text/plain": [
       "array([[<Axes: title={'center': 'block_id'}>,\n",
       "        <Axes: title={'center': 'tree_dbh'}>,\n",
       "        <Axes: title={'center': 'postcode'}>],\n",
       "       [<Axes: title={'center': 'community_board'}>,\n",
       "        <Axes: title={'center': 'cncldist'}>,\n",
       "        <Axes: title={'center': 'st_assem'}>],\n",
       "       [<Axes: title={'center': 'st_senate'}>,\n",
       "        <Axes: title={'center': 'boro_ct'}>,\n",
       "        <Axes: title={'center': 'latitude'}>],\n",
       "       [<Axes: title={'center': 'longitude'}>, <Axes: >, <Axes: >]],\n",
       "      dtype=object)"
      ]
     },
     "execution_count": 15,
     "metadata": {},
     "output_type": "execute_result"
    },
    {
     "data": {
      "image/png": "[encoded data removed]",
      "text/plain": [
       "<Figure size 2000x1000 with 12 Axes>"
      ]
     },
     "metadata": {},
     "output_type": "display_data"
    }
   ],
   "source": [
    "df.hist(bins=60, figsize=(20,10))\n"
   ]
  },
  {
   "cell_type": "markdown",
   "metadata": {},
   "source": [
    "## Преоброзование данных"
   ]
  },
  {
   "cell_type": "code",
   "execution_count": 20,
   "metadata": {},
   "outputs": [
    {
     "data": {
      "text/plain": [
       "block_id      0\n",
       "tree_dbh      0\n",
       "curb_loc      0\n",
       "health        0\n",
       "spc_latin     0\n",
       "spc_common    0\n",
       "steward       0\n",
       "guards        0\n",
       "sidewalk      0\n",
       "user_type     0\n",
       "dtype: int64"
      ]
     },
     "execution_count": 20,
     "metadata": {},
     "output_type": "execute_result"
    }
   ],
   "source": [
    "def df_fillna(df):\n",
    "    df['spc_latin'].fillna('No observation',inplace=True)\n",
    "    df['spc_common'].fillna('No observation',inplace=True)\n",
    "    df['sidewalk'].fillna('NoDamage',inplace=True)\n",
    "    df['problems'].fillna('NoProblem',inplace=True)\n",
    "    df['steward'].fillna('None',inplace=True)\n",
    "    df['guards'].fillna('None',inplace=True)\n",
    "    return df\n",
    "df = df_fillna(df)\n",
    "df.isna().sum().sort_values(ascending=False).head(10)\n",
    "\n"
   ]
  },
  {
   "cell_type": "markdown",
   "metadata": {},
   "source": [
    "## Расмотрим корреляцию"
   ]
  },
  {
   "cell_type": "code",
   "execution_count": 23,
   "metadata": {},
   "outputs": [],
   "source": [
    "def convert_categorical_to_numeric(df, categorical_columns):\n",
    "    \"\"\"\n",
    "    Преобразует категориальные и текстовые признаки в числовые с использованием one-hot encoding.\n",
    "    \"\"\"\n",
    "    df_numeric = pd.get_dummies(df, columns=categorical_columns)\n",
    "    return df_numeric\n",
    "\n",
    "def cramers_v(x, y):\n",
    "    \"\"\"\n",
    "    Вычисляет корреляцию Крамера V между двумя категориальными признаками.\n",
    "    \"\"\"\n",
    "    confusion_matrix = pd.crosstab(x, y)\n",
    "    chi2 = pg.chi2_independence(confusion_matrix).loc[0, 'chi2']\n",
    "    n = confusion_matrix.sum().sum()\n",
    "    phi2 = chi2 / n\n",
    "    r, k = confusion_matrix.shape\n",
    "    phi2corr = max(0, phi2 - ((k-1)*(r-1))/(n-1))\n",
    "    rcorr = r - ((r-1)**2)/(n-1)\n",
    "    kcorr = k - ((k-1)**2)/(n-1)\n",
    "    return np.sqrt(phi2corr / min((kcorr-1), (rcorr-1)))\n",
    "\n",
    "def calculate_correlations(df, categorical_columns):\n",
    "    \"\"\"\n",
    "    Вычисляет корреляции между числовыми признаками с использованием метода Спирмена\n",
    "    и между категориальными признаками с использованием метода Крамера V.\n",
    "    \"\"\"\n",
    "    # Преобразование категориальных признаков в числовые\n",
    "    df_numeric = convert_categorical_to_numeric(df, categorical_columns)\n",
    "    \n",
    "    # Вычисление корреляции между числовыми признаками с использованием метода Спирмена\n",
    "    corr_spearman = df_numeric.corr(method='spearman')\n",
    "    \n",
    "    # Вычисление корреляции между категориальными признаками с использованием метода Крамера V\n",
    "    categorical_corr = {}\n",
    "    for col1 in categorical_columns:\n",
    "        for col2 in categorical_columns:\n",
    "            if col1 != col2:\n",
    "                categorical_corr[(col1, col2)] = cramers_v(df[col1], df[col2])\n",
    "    \n",
    "    return corr_spearman, categorical_corr\n",
    "\n"
   ]
  },
  {
   "cell_type": "code",
   "execution_count": 24,
   "metadata": {},
   "outputs": [
    {
     "data": {
      "text/plain": [
       "Index(['block_id', 'tree_dbh', 'curb_loc', 'health', 'spc_latin', 'spc_common',\n",
       "       'steward', 'guards', 'sidewalk', 'user_type', 'problems', 'root_stone',\n",
       "       'root_grate', 'root_other', 'trunk_wire', 'trnk_light', 'trnk_other',\n",
       "       'brch_light', 'brch_shoe', 'brch_other', 'postcode', 'zip_city',\n",
       "       'community_board', 'borough', 'cncldist', 'st_assem', 'st_senate',\n",
       "       'nta', 'boro_ct', 'latitude', 'longitude'],\n",
       "      dtype='object')"
      ]
     },
     "execution_count": 24,
     "metadata": {},
     "output_type": "execute_result"
    }
   ],
   "source": [
    "df.columns"
   ]
  },
  {
   "cell_type": "code",
   "execution_count": 26,
   "metadata": {},
   "outputs": [
    {
     "data": {
      "text/plain": [
       "Index(['curb_loc', 'health', 'spc_latin', 'spc_common', 'steward', 'guards',\n",
       "       'sidewalk', 'user_type', 'problems', 'root_stone', 'root_grate',\n",
       "       'root_other', 'trunk_wire', 'trnk_light', 'trnk_other', 'brch_light',\n",
       "       'brch_shoe', 'brch_other', 'zip_city', 'borough', 'nta'],\n",
       "      dtype='object')"
      ]
     },
     "execution_count": 26,
     "metadata": {},
     "output_type": "execute_result"
    }
   ],
   "source": [
    "df.select_dtypes(include='object').columns"
   ]
  },
  {
   "cell_type": "code",
   "execution_count": null,
   "metadata": {},
   "outputs": [],
   "source": [
    "# Пример использования\n",
    "categorical_columns = [\n",
    "    'curb_loc', 'health', 'spc_latin', 'spc_common', 'steward', 'guards', \n",
    "    'sidewalk', 'user_type', 'problems', 'root_stone', 'root_grate', \n",
    "    'root_other', 'trunk_wire', 'trnk_light', 'trnk_other', 'brch_light', \n",
    "    'brch_shoe', 'brch_other', 'zip_city', 'borough', 'nta'\n",
    "]\n",
    "\n",
    "# Загрузка данных (замените на путь к вашему файлу)\n",
    "# df = pd.read_csv('path/to/nyc_2015_street_tree_census.csv')\n",
    "\n",
    "# Вычисление корреляций\n",
    "corr_spearman, categorical_corr = calculate_correlations(df, categorical_columns)\n",
    "\n",
    "# Вывод корреляционной матрицы для числовых признаков\n",
    "print(corr_spearman)\n",
    "\n",
    "# Вывод корреляции для категориальных признаков\n",
    "print(categorical_corr)"
   ]
  }
 ],
 "metadata": {
  "kernelspec": {
   "display_name": "Python 3",
   "language": "python",
   "name": "python3"
  },
  "language_info": {
   "codemirror_mode": {
    "name": "ipython",
    "version": 3
   },
   "file_extension": ".py",
   "mimetype": "text/x-python",
   "name": "python",
   "nbconvert_exporter": "python",
   "pygments_lexer": "ipython3",
   "version": "3.12.1"
  }
 },
 "nbformat": 4,
 "nbformat_minor": 2
}
