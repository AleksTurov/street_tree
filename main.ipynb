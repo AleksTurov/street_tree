{
 "cells": [
  {
   "cell_type": "code",
   "execution_count": 1,
   "metadata": {},
   "outputs": [
    {
     "name": "stdout",
     "output_type": "stream",
     "text": [
      "/workspaces/street_tree\n"
     ]
    }
   ],
   "source": [
    "import os, sys\n",
    "\n",
    "PROJECT_DIR = os.path.abspath(os.path.join(os.getcwd(), '.'))\n",
    "print(PROJECT_DIR)\n",
    "sys.path.append(PROJECT_DIR)"
   ]
  },
  {
   "cell_type": "code",
   "execution_count": 2,
   "metadata": {},
   "outputs": [
    {
     "name": "stderr",
     "output_type": "stream",
     "text": [
      "2025-03-23 11:23:26,064 - src.utils - INFO - Logger is ready\n",
      "2025-03-23 11:23:26,065 - src.utils - INFO - This is a test log message.\n",
      "2025-03-23 11:23:26,680 - src.utils - INFO - PROJECT_DIR: /workspaces/street_tree\n",
      "2025-03-23 11:23:26,681 - src.utils - INFO - PATH_LOGS: /workspaces/street_tree/logs\n",
      "2025-03-23 11:23:26,682 - src.utils - INFO - PATH_DATA: /workspaces/street_tree/data\n",
      "2025-03-23 11:23:26,683 - src.utils - INFO - PATH_RAW: /workspaces/street_tree/data/raw\n",
      "2025-03-23 11:23:26,683 - src.utils - INFO - PATH_PROCESSED: /workspaces/street_tree/data/processed\n",
      "2025-03-23 11:23:26,684 - src.utils - INFO - PATH_MODELS: /workspaces/street_tree/models\n",
      "2025-03-23 11:23:26,685 - src.utils - INFO - PATH_REPORTS: /workspaces/street_tree/reports\n",
      "2025-03-23 11:23:26,685 - src.utils - INFO - PATH_DOCS: /workspaces/street_tree/docs\n",
      "2025-03-23 11:23:26,686 - src.utils - INFO - PATH_SRC: /workspaces/street_tree/src\n",
      "2025-03-23 11:23:26,687 - src.utils - INFO - output_path: /workspaces/street_tree/data/raw/2015-street-tree-census-tree-data.zip\n"
     ]
    }
   ],
   "source": [
    "import joblib\n",
    "import torch\n",
    "import pandas as pd\n",
    "from fastapi import FastAPI, UploadFile, File\n",
    "from pydantic import BaseModel\n",
    "from src.modeling import TabularNN\n",
    "from src.config import PATH_MODELS, PATH_PROCESSED"
   ]
  },
  {
   "cell_type": "code",
   "execution_count": 3,
   "metadata": {},
   "outputs": [],
   "source": [
    "app = FastAPI()"
   ]
  },
  {
   "cell_type": "code",
   "execution_count": 4,
   "metadata": {},
   "outputs": [],
   "source": [
    "# Пути к моделям и энкодерам\n",
    "MODEL_PATH = f\"{PATH_MODELS}/tabular_model.pth\"\n",
    "SCALER_PATH = f\"{PATH_MODELS}/scaler.pkl\"\n",
    "ENCODERS_PATH = f\"{PATH_MODELS}/label_encoders.pkl\"\n"
   ]
  },
  {
   "cell_type": "code",
   "execution_count": 5,
   "metadata": {},
   "outputs": [
    {
     "data": {
      "text/plain": [
       "{0: 'Poor', 1: 'Fair', 2: 'Good'}"
      ]
     },
     "execution_count": 5,
     "metadata": {},
     "output_type": "execute_result"
    }
   ],
   "source": [
    "TARGET_ENCODER_PATH = f\"{PATH_MODELS}/label_encoders_target.pkl\"\n",
    "target_mapping = joblib.load(TARGET_ENCODER_PATH)\n",
    "inverse_target_mapping = {v: k for k, v in target_mapping.items()}\n",
    "inverse_target_mapping"
   ]
  },
  {
   "cell_type": "code",
   "execution_count": 1,
   "metadata": {},
   "outputs": [
    {
     "ename": "NameError",
     "evalue": "name 'PATH_MODELS' is not defined",
     "output_type": "error",
     "traceback": [
      "\u001b[31m---------------------------------------------------------------------------\u001b[39m",
      "\u001b[31mNameError\u001b[39m                                 Traceback (most recent call last)",
      "\u001b[36mCell\u001b[39m\u001b[36m \u001b[39m\u001b[32mIn[1]\u001b[39m\u001b[32m, line 2\u001b[39m\n\u001b[32m      1\u001b[39m \u001b[38;5;66;03m# Пути к моделям и энкодерам\u001b[39;00m\n\u001b[32m----> \u001b[39m\u001b[32m2\u001b[39m MODEL_PATH = \u001b[33mf\u001b[39m\u001b[33m\"\u001b[39m\u001b[38;5;132;01m{\u001b[39;00m\u001b[43mPATH_MODELS\u001b[49m\u001b[38;5;132;01m}\u001b[39;00m\u001b[33m/tabular_model.pth\u001b[39m\u001b[33m\"\u001b[39m\n\u001b[32m      3\u001b[39m SCALER_PATH = \u001b[33mf\u001b[39m\u001b[33m\"\u001b[39m\u001b[38;5;132;01m{\u001b[39;00mPATH_MODELS\u001b[38;5;132;01m}\u001b[39;00m\u001b[33m/scaler.pkl\u001b[39m\u001b[33m\"\u001b[39m\n\u001b[32m      4\u001b[39m ENCODERS_PATH = \u001b[33mf\u001b[39m\u001b[33m\"\u001b[39m\u001b[38;5;132;01m{\u001b[39;00mPATH_MODELS\u001b[38;5;132;01m}\u001b[39;00m\u001b[33m/label_encoders.pkl\u001b[39m\u001b[33m\"\u001b[39m\n",
      "\u001b[31mNameError\u001b[39m: name 'PATH_MODELS' is not defined"
     ]
    }
   ],
   "source": [
    "# Пути к моделям и энкодерам\n",
    "MODEL_PATH = f\"{PATH_MODELS}/tabular_model.pth\"\n",
    "SCALER_PATH = f\"{PATH_MODELS}/scaler.pkl\"\n",
    "ENCODERS_PATH = f\"{PATH_MODELS}/label_encoders.pkl\"\n",
    "\n",
    "# Dummy data for loading the model\n",
    "dummy_X = pd.DataFrame(np.zeros((1, 27)))  # Replace 27 with your actual input dimension\n",
    "dummy_y = pd.Series([0])\n",
    "\n",
    "# Загрузка моделей и энкодеров\n",
    "model = TabularNN.load_model(MODEL_PATH, dummy_X, dummy_y, dummy_X, dummy_y)\n",
    "\n",
    "TARGET_ENCODER_PATH = f\"{PATH_MODELS}/label_encoders_target.pkl\"\n",
    "target_mapping = joblib.load(TARGET_ENCODER_PATH)\n",
    "inverse_target_mapping = {v: k for k, v in target_mapping.items()}\n",
    "inverse_target_mapping"
   ]
  },
  {
   "cell_type": "code",
   "execution_count": null,
   "metadata": {},
   "outputs": [
    {
     "data": {
      "text/plain": [
       "{0: 'Poor', 1: 'Fair', 2: 'Good'}"
      ]
     },
     "execution_count": 6,
     "metadata": {},
     "output_type": "execute_result"
    }
   ],
   "source": [
    "# Обратное отображение для целевого признака\n",
    "scaler = joblib.load(SCALER_PATH)\n",
    "label_encoders = joblib.load(ENCODERS_PATH)\n",
    "target_mapping = joblib.load(TARGET_ENCODER_PATH)\n",
    "inverse_target_mapping = {v: k for k, v in target_mapping.items()}\n",
    "inverse_target_mapping"
   ]
  },
  {
   "cell_type": "code",
   "execution_count": null,
   "metadata": {},
   "outputs": [
    {
     "data": {
      "text/plain": [
       "Index(['tree_id', 'block_id', 'created_at', 'tree_dbh', 'stump_diam',\n",
       "       'curb_loc', 'status', 'spc_latin', 'spc_common', 'steward', 'guards',\n",
       "       'sidewalk', 'user_type', 'problems', 'root_stone', 'root_grate',\n",
       "       'root_other', 'trunk_wire', 'trnk_light', 'trnk_other', 'brch_light',\n",
       "       'brch_shoe', 'brch_other', 'address', 'postcode', 'zip_city',\n",
       "       'community board', 'borocode', 'borough', 'cncldist', 'st_assem',\n",
       "       'st_senate', 'nta', 'nta_name', 'boro_ct', 'state', 'latitude',\n",
       "       'longitude', 'x_sp', 'y_sp', 'council district', 'census tract', 'bin',\n",
       "       'bbl', 'health'],\n",
       "      dtype='object')"
      ]
     },
     "execution_count": 7,
     "metadata": {},
     "output_type": "execute_result"
    }
   ],
   "source": [
    "df = pd.read_csv(f\"{PATH_PROCESSED}/test.csv\")\n",
    "df.columns"
   ]
  },
  {
   "cell_type": "code",
   "execution_count": null,
   "metadata": {},
   "outputs": [
    {
     "name": "stdout",
     "output_type": "stream",
     "text": [
      "<class 'pandas.core.frame.DataFrame'>\n",
      "RangeIndex: 65218 entries, 0 to 65217\n",
      "Data columns (total 45 columns):\n",
      " #   Column            Non-Null Count  Dtype  \n",
      "---  ------            --------------  -----  \n",
      " 0   tree_id           65218 non-null  int64  \n",
      " 1   block_id          65218 non-null  int64  \n",
      " 2   created_at        65218 non-null  object \n",
      " 3   tree_dbh          65218 non-null  int64  \n",
      " 4   stump_diam        65218 non-null  int64  \n",
      " 5   curb_loc          65218 non-null  object \n",
      " 6   status            65218 non-null  object \n",
      " 7   spc_latin         65218 non-null  object \n",
      " 8   spc_common        65218 non-null  object \n",
      " 9   steward           16421 non-null  object \n",
      " 10  guards            7957 non-null   object \n",
      " 11  sidewalk          65218 non-null  object \n",
      " 12  user_type         65218 non-null  object \n",
      " 13  problems          22542 non-null  object \n",
      " 14  root_stone        65218 non-null  object \n",
      " 15  root_grate        65218 non-null  object \n",
      " 16  root_other        65218 non-null  object \n",
      " 17  trunk_wire        65218 non-null  object \n",
      " 18  trnk_light        65218 non-null  object \n",
      " 19  trnk_other        65218 non-null  object \n",
      " 20  brch_light        65218 non-null  object \n",
      " 21  brch_shoe         65218 non-null  object \n",
      " 22  brch_other        65218 non-null  object \n",
      " 23  address           65218 non-null  object \n",
      " 24  postcode          65218 non-null  int64  \n",
      " 25  zip_city          65218 non-null  object \n",
      " 26  community board   65218 non-null  int64  \n",
      " 27  borocode          65218 non-null  int64  \n",
      " 28  borough           65218 non-null  object \n",
      " 29  cncldist          65218 non-null  int64  \n",
      " 30  st_assem          65218 non-null  int64  \n",
      " 31  st_senate         65218 non-null  int64  \n",
      " 32  nta               65218 non-null  object \n",
      " 33  nta_name          65218 non-null  object \n",
      " 34  boro_ct           65218 non-null  int64  \n",
      " 35  state             65218 non-null  object \n",
      " 36  latitude          65218 non-null  float64\n",
      " 37  longitude         65218 non-null  float64\n",
      " 38  x_sp              65218 non-null  float64\n",
      " 39  y_sp              65218 non-null  float64\n",
      " 40  council district  64629 non-null  float64\n",
      " 41  census tract      64629 non-null  float64\n",
      " 42  bin               64359 non-null  float64\n",
      " 43  bbl               64359 non-null  float64\n",
      " 44  health            65218 non-null  object \n",
      "dtypes: float64(8), int64(11), object(26)\n",
      "memory usage: 22.4+ MB\n"
     ]
    }
   ],
   "source": [
    "df.info()"
   ]
  },
  {
   "cell_type": "code",
   "execution_count": null,
   "metadata": {},
   "outputs": [
    {
     "ename": "NameError",
     "evalue": "name 'df' is not defined",
     "output_type": "error",
     "traceback": [
      "\u001b[31m---------------------------------------------------------------------------\u001b[39m",
      "\u001b[31mNameError\u001b[39m                                 Traceback (most recent call last)",
      "\u001b[36mCell\u001b[39m\u001b[36m \u001b[39m\u001b[32mIn[6]\u001b[39m\u001b[32m, line 1\u001b[39m\n\u001b[32m----> \u001b[39m\u001b[32m1\u001b[39m \u001b[43mdf\u001b[49m\n",
      "\u001b[31mNameError\u001b[39m: name 'df' is not defined"
     ]
    }
   ],
   "source": [
    "df"
   ]
  },
  {
   "cell_type": "code",
   "execution_count": null,
   "metadata": {},
   "outputs": [],
   "source": [
    "# Список колонок для удаления\n",
    "DROP_COLUMNS = ['status', 'state', 'tree_id', 'created_at', 'stump_diam', 'address', 'spc_common', 'borocode',\n",
    "                'x_sp', 'y_sp', 'council_district', 'census_tract', 'nta_name', 'bin', 'zip_city', 'community_board', 'bbl']\n",
    "\n",
    "class InputData(BaseModel):\n",
    "    tree_id: int"
   ]
  }
 ],
 "metadata": {
  "kernelspec": {
   "display_name": ".venv",
   "language": "python",
   "name": "python3"
  },
  "language_info": {
   "codemirror_mode": {
    "name": "ipython",
    "version": 3
   },
   "file_extension": ".py",
   "mimetype": "text/x-python",
   "name": "python",
   "nbconvert_exporter": "python",
   "pygments_lexer": "ipython3",
   "version": "3.12.1"
  }
 },
 "nbformat": 4,
 "nbformat_minor": 2
}
