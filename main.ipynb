{
 "cells": [
  {
   "cell_type": "code",
   "execution_count": 1,
   "metadata": {},
   "outputs": [
    {
     "name": "stdout",
     "output_type": "stream",
     "text": [
      "/workspaces/street_tree\n"
     ]
    }
   ],
   "source": [
    "import os, sys\n",
    "\n",
    "PROJECT_DIR = os.path.abspath(os.path.join(os.getcwd(), '.'))\n",
    "print(PROJECT_DIR)\n",
    "sys.path.append(PROJECT_DIR)"
   ]
  },
  {
   "cell_type": "code",
   "execution_count": 2,
   "metadata": {},
   "outputs": [
    {
     "name": "stderr",
     "output_type": "stream",
     "text": [
      "2025-03-23 14:46:25,551 - src.utils - INFO - Logger is ready\n",
      "2025-03-23 14:46:25,554 - src.utils - INFO - This is a test log message.\n",
      "2025-03-23 14:46:26,436 - src.utils - INFO - PROJECT_DIR: /workspaces/street_tree\n",
      "2025-03-23 14:46:26,437 - src.utils - INFO - PATH_LOGS: /workspaces/street_tree/logs\n",
      "2025-03-23 14:46:26,438 - src.utils - INFO - PATH_DATA: /workspaces/street_tree/data\n",
      "2025-03-23 14:46:26,439 - src.utils - INFO - PATH_RAW: /workspaces/street_tree/data/raw\n",
      "2025-03-23 14:46:26,439 - src.utils - INFO - PATH_PROCESSED: /workspaces/street_tree/data/processed\n",
      "2025-03-23 14:46:26,440 - src.utils - INFO - PATH_MODELS: /workspaces/street_tree/models\n",
      "2025-03-23 14:46:26,441 - src.utils - INFO - PATH_REPORTS: /workspaces/street_tree/reports\n",
      "2025-03-23 14:46:26,441 - src.utils - INFO - PATH_DOCS: /workspaces/street_tree/docs\n",
      "2025-03-23 14:46:26,442 - src.utils - INFO - PATH_SRC: /workspaces/street_tree/src\n",
      "2025-03-23 14:46:26,443 - src.utils - INFO - output_path: /workspaces/street_tree/data/raw/2015-street-tree-census-tree-data.zip\n"
     ]
    }
   ],
   "source": [
    "import joblib\n",
    "import torch\n",
    "import pandas as pd\n",
    "import numpy as np\n",
    "from fastapi import FastAPI, UploadFile, File\n",
    "from pydantic import BaseModel\n",
    "from src.modeling import TabularNN\n",
    "from src.config import PATH_MODELS, PATH_PROCESSED"
   ]
  },
  {
   "cell_type": "code",
   "execution_count": 3,
   "metadata": {},
   "outputs": [],
   "source": [
    "app = FastAPI()"
   ]
  },
  {
   "cell_type": "code",
   "execution_count": 4,
   "metadata": {},
   "outputs": [],
   "source": [
    "# Пути к моделям и энкодерам\n",
    "MODEL_PATH = f\"{PATH_MODELS}/tabular_model.pth\"\n",
    "SCALER_PATH = f\"{PATH_MODELS}/scaler.pkl\"\n",
    "ENCODERS_PATH = f\"{PATH_MODELS}/label_encoders.pkl\"\n"
   ]
  },
  {
   "cell_type": "code",
   "execution_count": 5,
   "metadata": {},
   "outputs": [
    {
     "data": {
      "text/plain": [
       "{0: 'Poor', 1: 'Fair', 2: 'Good'}"
      ]
     },
     "execution_count": 5,
     "metadata": {},
     "output_type": "execute_result"
    }
   ],
   "source": [
    "TARGET_ENCODER_PATH = f\"{PATH_MODELS}/label_encoders_target.pkl\"\n",
    "target_mapping = joblib.load(TARGET_ENCODER_PATH)\n",
    "inverse_target_mapping = {v: k for k, v in target_mapping.items()}\n",
    "inverse_target_mapping"
   ]
  },
  {
   "cell_type": "code",
   "execution_count": 6,
   "metadata": {},
   "outputs": [],
   "source": [
    "# Пути к моделям и энкодерам\n",
    "MODEL_PATH = f\"{PATH_MODELS}/tabular_model.pth\"\n",
    "SCALER_PATH = f\"{PATH_MODELS}/scaler.pkl\"\n",
    "ENCODERS_PATH = f\"{PATH_MODELS}/label_encoders.pkl\""
   ]
  },
  {
   "cell_type": "code",
   "execution_count": 7,
   "metadata": {},
   "outputs": [
    {
     "name": "stderr",
     "output_type": "stream",
     "text": [
      "2025-03-23 14:46:26,513 - src.utils - INFO - Unique classes during training: [0 1 2]\n",
      "2025-03-23 14:46:26,514 - src.utils - INFO - Output dimension during training: 3\n"
     ]
    },
    {
     "name": "stdout",
     "output_type": "stream",
     "text": [
      "Model loaded successfully!\n"
     ]
    },
    {
     "data": {
      "text/plain": [
       "TabularNN(\n",
       "  (model): Sequential(\n",
       "    (0): Linear(in_features=27, out_features=128, bias=True)\n",
       "    (1): BatchNorm1d(128, eps=1e-05, momentum=0.1, affine=True, track_running_stats=True)\n",
       "    (2): ReLU()\n",
       "    (3): Dropout(p=0.3, inplace=False)\n",
       "    (4): Linear(in_features=128, out_features=64, bias=True)\n",
       "    (5): BatchNorm1d(64, eps=1e-05, momentum=0.1, affine=True, track_running_stats=True)\n",
       "    (6): ReLU()\n",
       "    (7): Dropout(p=0.3, inplace=False)\n",
       "    (8): Linear(in_features=64, out_features=3, bias=True)\n",
       "  )\n",
       ")"
      ]
     },
     "execution_count": 7,
     "metadata": {},
     "output_type": "execute_result"
    }
   ],
   "source": [
    "# Load the checkpoint to get the parameters\n",
    "checkpoint = torch.load(MODEL_PATH)\n",
    "input_dim = checkpoint['input_dim']\n",
    "hidden_dims = checkpoint['hidden_dims']\n",
    "output_dim = checkpoint['output_dim']\n",
    "target_mapping = checkpoint['target_mapping']\n",
    "\n",
    "# Create dummy data with the correct shape\n",
    "dummy_X = pd.DataFrame(np.zeros((3, input_dim)))\n",
    "dummy_y = pd.Series([0, 1, 2]) \n",
    "\n",
    "# Initialize the model using dummy data\n",
    "loaded_model = TabularNN(dummy_X, dummy_y, dummy_X, dummy_y, hidden_dims=hidden_dims)\n",
    "loaded_model.load_state_dict(checkpoint['model_state_dict'])\n",
    "loaded_model.eval()\n",
    "\n",
    "print(\"Model loaded successfully!\")\n",
    "\n",
    "\n",
    "loaded_model"
   ]
  },
  {
   "cell_type": "code",
   "execution_count": 8,
   "metadata": {},
   "outputs": [
    {
     "data": {
      "text/plain": [
       "{0: 'Poor', 1: 'Fair', 2: 'Good'}"
      ]
     },
     "execution_count": 8,
     "metadata": {},
     "output_type": "execute_result"
    }
   ],
   "source": [
    "# Обратное отображение для целевого признака\n",
    "scaler = joblib.load(SCALER_PATH)\n",
    "label_encoders = joblib.load(ENCODERS_PATH)\n",
    "target_mapping = joblib.load(TARGET_ENCODER_PATH)\n",
    "inverse_target_mapping = {v: k for k, v in target_mapping.items()}\n",
    "inverse_target_mapping"
   ]
  },
  {
   "cell_type": "code",
   "execution_count": 9,
   "metadata": {},
   "outputs": [
    {
     "data": {
      "text/plain": [
       "{'spc_latin': LabelEncoder(),\n",
       " 'steward': LabelEncoder(),\n",
       " 'guards': LabelEncoder(),\n",
       " 'user_type': LabelEncoder(),\n",
       " 'borough': LabelEncoder(),\n",
       " 'nta': LabelEncoder()}"
      ]
     },
     "execution_count": 9,
     "metadata": {},
     "output_type": "execute_result"
    }
   ],
   "source": [
    "label_encoders"
   ]
  },
  {
   "cell_type": "code",
   "execution_count": 10,
   "metadata": {},
   "outputs": [],
   "source": [
    "import pandas as pd\n",
    "from src.model import TreeData\n",
    "from src.config import PATH_PROCESSED\n",
    "import json\n",
    "\n",
    "\n",
    "# Пример использования:\n",
    "df = pd.read_csv(f\"{PATH_PROCESSED}/test.csv\")\n",
    "df = df.drop('health', axis=1)\n",
    "df.columns = [col.lower().replace(' ', '_') for col in df.columns]\n",
    "data_json = df.to_dict(orient='records')\n",
    "json_data = json.dumps(data_json)\n",
    "\n",
    "tree_data_list = TreeData.from_dataframe(json_data)"
   ]
  },
  {
   "cell_type": "code",
   "execution_count": 11,
   "metadata": {},
   "outputs": [
    {
     "name": "stderr",
     "output_type": "stream",
     "text": [
      "/tmp/ipykernel_61238/1157747548.py:6: PydanticDeprecatedSince20: The `dict` method is deprecated; use `model_dump` instead. Deprecated in Pydantic V2.0 to be removed in V3.0. See Pydantic V2 Migration Guide at https://errors.pydantic.dev/2.10/migration/\n",
      "  data.append(tree_data.dict())\n"
     ]
    },
    {
     "data": {
      "text/html": [
       "<div>\n",
       "<style scoped>\n",
       "    .dataframe tbody tr th:only-of-type {\n",
       "        vertical-align: middle;\n",
       "    }\n",
       "\n",
       "    .dataframe tbody tr th {\n",
       "        vertical-align: top;\n",
       "    }\n",
       "\n",
       "    .dataframe thead th {\n",
       "        text-align: right;\n",
       "    }\n",
       "</style>\n",
       "<table border=\"1\" class=\"dataframe\">\n",
       "  <thead>\n",
       "    <tr style=\"text-align: right;\">\n",
       "      <th></th>\n",
       "      <th>tree_id</th>\n",
       "      <th>block_id</th>\n",
       "      <th>tree_dbh</th>\n",
       "      <th>curb_loc</th>\n",
       "      <th>spc_latin</th>\n",
       "      <th>steward</th>\n",
       "      <th>guards</th>\n",
       "      <th>sidewalk</th>\n",
       "      <th>user_type</th>\n",
       "      <th>problems</th>\n",
       "      <th>...</th>\n",
       "      <th>brch_other</th>\n",
       "      <th>postcode</th>\n",
       "      <th>borough</th>\n",
       "      <th>cncldist</th>\n",
       "      <th>st_assem</th>\n",
       "      <th>st_senate</th>\n",
       "      <th>nta</th>\n",
       "      <th>boro_ct</th>\n",
       "      <th>latitude</th>\n",
       "      <th>longitude</th>\n",
       "    </tr>\n",
       "    <tr>\n",
       "      <th>tree_id</th>\n",
       "      <th></th>\n",
       "      <th></th>\n",
       "      <th></th>\n",
       "      <th></th>\n",
       "      <th></th>\n",
       "      <th></th>\n",
       "      <th></th>\n",
       "      <th></th>\n",
       "      <th></th>\n",
       "      <th></th>\n",
       "      <th></th>\n",
       "      <th></th>\n",
       "      <th></th>\n",
       "      <th></th>\n",
       "      <th></th>\n",
       "      <th></th>\n",
       "      <th></th>\n",
       "      <th></th>\n",
       "      <th></th>\n",
       "      <th></th>\n",
       "      <th></th>\n",
       "    </tr>\n",
       "  </thead>\n",
       "  <tbody>\n",
       "    <tr>\n",
       "      <th>536325</th>\n",
       "      <td>536325</td>\n",
       "      <td>415591</td>\n",
       "      <td>56</td>\n",
       "      <td>0</td>\n",
       "      <td>Fraxinus</td>\n",
       "      <td>None</td>\n",
       "      <td>Unsure</td>\n",
       "      <td>0</td>\n",
       "      <td>NYC Parks Staff</td>\n",
       "      <td>NoProblem</td>\n",
       "      <td>...</td>\n",
       "      <td>0</td>\n",
       "      <td>10306</td>\n",
       "      <td>Staten Island</td>\n",
       "      <td>50</td>\n",
       "      <td>62</td>\n",
       "      <td>24</td>\n",
       "      <td>SI24</td>\n",
       "      <td>5027900</td>\n",
       "      <td>40.571808</td>\n",
       "      <td>-74.144252</td>\n",
       "    </tr>\n",
       "    <tr>\n",
       "      <th>247341</th>\n",
       "      <td>247341</td>\n",
       "      <td>335158</td>\n",
       "      <td>16</td>\n",
       "      <td>1</td>\n",
       "      <td>Acer platanoides</td>\n",
       "      <td>None</td>\n",
       "      <td>Unsure</td>\n",
       "      <td>0</td>\n",
       "      <td>NYC Parks Staff</td>\n",
       "      <td>RootOther,TrunkOther,BranchOther</td>\n",
       "      <td>...</td>\n",
       "      <td>1</td>\n",
       "      <td>11426</td>\n",
       "      <td>Queens</td>\n",
       "      <td>23</td>\n",
       "      <td>33</td>\n",
       "      <td>11</td>\n",
       "      <td>QN43</td>\n",
       "      <td>4161700</td>\n",
       "      <td>40.728383</td>\n",
       "      <td>-73.710717</td>\n",
       "    </tr>\n",
       "    <tr>\n",
       "      <th>427681</th>\n",
       "      <td>427681</td>\n",
       "      <td>202590</td>\n",
       "      <td>2</td>\n",
       "      <td>1</td>\n",
       "      <td>Amelanchier</td>\n",
       "      <td>None</td>\n",
       "      <td>Unsure</td>\n",
       "      <td>0</td>\n",
       "      <td>NYC Parks Staff</td>\n",
       "      <td>NoProblem</td>\n",
       "      <td>...</td>\n",
       "      <td>0</td>\n",
       "      <td>11208</td>\n",
       "      <td>Brooklyn</td>\n",
       "      <td>37</td>\n",
       "      <td>54</td>\n",
       "      <td>18</td>\n",
       "      <td>BK83</td>\n",
       "      <td>3118800</td>\n",
       "      <td>40.680291</td>\n",
       "      <td>-73.865729</td>\n",
       "    </tr>\n",
       "    <tr>\n",
       "      <th>442929</th>\n",
       "      <td>442929</td>\n",
       "      <td>501795</td>\n",
       "      <td>15</td>\n",
       "      <td>1</td>\n",
       "      <td>Gleditsia triacanthos var. inermis</td>\n",
       "      <td>None</td>\n",
       "      <td>Unsure</td>\n",
       "      <td>1</td>\n",
       "      <td>TreesCount Staff</td>\n",
       "      <td>Stones</td>\n",
       "      <td>...</td>\n",
       "      <td>0</td>\n",
       "      <td>10459</td>\n",
       "      <td>Bronx</td>\n",
       "      <td>17</td>\n",
       "      <td>85</td>\n",
       "      <td>32</td>\n",
       "      <td>BX27</td>\n",
       "      <td>2012701</td>\n",
       "      <td>40.826623</td>\n",
       "      <td>-73.893234</td>\n",
       "    </tr>\n",
       "    <tr>\n",
       "      <th>696579</th>\n",
       "      <td>696579</td>\n",
       "      <td>306543</td>\n",
       "      <td>32</td>\n",
       "      <td>1</td>\n",
       "      <td>Quercus palustris</td>\n",
       "      <td>None</td>\n",
       "      <td>Unsure</td>\n",
       "      <td>1</td>\n",
       "      <td>Volunteer</td>\n",
       "      <td>Stones</td>\n",
       "      <td>...</td>\n",
       "      <td>0</td>\n",
       "      <td>11367</td>\n",
       "      <td>Queens</td>\n",
       "      <td>24</td>\n",
       "      <td>27</td>\n",
       "      <td>16</td>\n",
       "      <td>QN37</td>\n",
       "      <td>4080900</td>\n",
       "      <td>40.732411</td>\n",
       "      <td>-73.817595</td>\n",
       "    </tr>\n",
       "  </tbody>\n",
       "</table>\n",
       "<p>5 rows × 28 columns</p>\n",
       "</div>"
      ],
      "text/plain": [
       "         tree_id  block_id  tree_dbh  curb_loc  \\\n",
       "tree_id                                          \n",
       "536325    536325    415591        56         0   \n",
       "247341    247341    335158        16         1   \n",
       "427681    427681    202590         2         1   \n",
       "442929    442929    501795        15         1   \n",
       "696579    696579    306543        32         1   \n",
       "\n",
       "                                  spc_latin steward  guards  sidewalk  \\\n",
       "tree_id                                                                 \n",
       "536325                             Fraxinus    None  Unsure         0   \n",
       "247341                     Acer platanoides    None  Unsure         0   \n",
       "427681                          Amelanchier    None  Unsure         0   \n",
       "442929   Gleditsia triacanthos var. inermis    None  Unsure         1   \n",
       "696579                    Quercus palustris    None  Unsure         1   \n",
       "\n",
       "                user_type                          problems  ...  brch_other  \\\n",
       "tree_id                                                      ...               \n",
       "536325    NYC Parks Staff                         NoProblem  ...           0   \n",
       "247341    NYC Parks Staff  RootOther,TrunkOther,BranchOther  ...           1   \n",
       "427681    NYC Parks Staff                         NoProblem  ...           0   \n",
       "442929   TreesCount Staff                            Stones  ...           0   \n",
       "696579          Volunteer                            Stones  ...           0   \n",
       "\n",
       "         postcode        borough  cncldist  st_assem  st_senate   nta  \\\n",
       "tree_id                                                                 \n",
       "536325      10306  Staten Island        50        62         24  SI24   \n",
       "247341      11426         Queens        23        33         11  QN43   \n",
       "427681      11208       Brooklyn        37        54         18  BK83   \n",
       "442929      10459          Bronx        17        85         32  BX27   \n",
       "696579      11367         Queens        24        27         16  QN37   \n",
       "\n",
       "         boro_ct   latitude  longitude  \n",
       "tree_id                                 \n",
       "536325   5027900  40.571808 -74.144252  \n",
       "247341   4161700  40.728383 -73.710717  \n",
       "427681   3118800  40.680291 -73.865729  \n",
       "442929   2012701  40.826623 -73.893234  \n",
       "696579   4080900  40.732411 -73.817595  \n",
       "\n",
       "[5 rows x 28 columns]"
      ]
     },
     "execution_count": 11,
     "metadata": {},
     "output_type": "execute_result"
    }
   ],
   "source": [
    "# Extract tree_id and data from TreeData objects\n",
    "data = []\n",
    "tree_ids = []\n",
    "for tree_data in tree_data_list:\n",
    "    tree_ids.append(tree_data.tree_id)\n",
    "    data.append(tree_data.dict())\n",
    "\n",
    "# Create DataFrame from data\n",
    "df_reconstructed = pd.DataFrame(data, index=tree_ids)\n",
    "\n",
    "# Set tree_id as index\n",
    "df_reconstructed.index.name = 'tree_id'\n",
    "\n",
    "df_reconstructed.head()"
   ]
  },
  {
   "cell_type": "code",
   "execution_count": 12,
   "metadata": {},
   "outputs": [
    {
     "name": "stderr",
     "output_type": "stream",
     "text": [
      "2025-03-23 14:46:32,771 - src.utils - INFO - {'stones', 'branchlights', 'sneakers', 'wiresrope', 'trunklights', 'noproblem', 'branchother', 'trunkother', 'rootother', 'metalgrates'} - уникальные проблемы\n"
     ]
    },
    {
     "name": "stderr",
     "output_type": "stream",
     "text": [
      "2025-03-23 14:46:32,909 - src.utils - INFO - Категориальные признаки преобразованы с использованием загруженных LabelEncoders\n"
     ]
    },
    {
     "name": "stdout",
     "output_type": "stream",
     "text": [
      "Scaler loaded from scaler.pkl\n"
     ]
    }
   ],
   "source": [
    "from src.preprocessing import load_and_encode_categorical, split_problems\n",
    "\n",
    "data = split_problems(df_reconstructed, created_columns=False)\n",
    "\n",
    "\n",
    "data = load_and_encode_categorical(data, list(set(label_encoders.keys())), PATH_MODELS)\n",
    "data.drop('tree_id', axis=1, inplace=True)\n",
    "# Выгрузим нормальзованные данные\n",
    "from sklearn.preprocessing import StandardScaler\n",
    "\n",
    "scaler = StandardScaler()\n",
    "\n",
    "scaler = joblib.load(f'{PATH_MODELS}/scaler.pkl')\n",
    "print(\"Scaler loaded from scaler.pkl\")\n",
    "\n",
    "data = scaler.transform(data)\n",
    "\n"
   ]
  },
  {
   "cell_type": "code",
   "execution_count": 13,
   "metadata": {},
   "outputs": [
    {
     "data": {
      "text/plain": [
       "['Good', 'Poor', 'Good', 'Good', 'Good']"
      ]
     },
     "execution_count": 13,
     "metadata": {},
     "output_type": "execute_result"
    }
   ],
   "source": [
    "predictions = loaded_model.predict(data)\n",
    "class_labels = [inverse_target_mapping[label] for label in predictions]\n",
    "class_labels[:5]"
   ]
  },
  {
   "cell_type": "code",
   "execution_count": 14,
   "metadata": {},
   "outputs": [
    {
     "name": "stdout",
     "output_type": "stream",
     "text": [
      "      health  tree_id\n",
      "0       Good   536325\n",
      "1       Poor   247341\n",
      "2       Good   427681\n",
      "3       Good   442929\n",
      "4       Good   696579\n",
      "...      ...      ...\n",
      "65213   Good   169025\n",
      "65214   Fair   236081\n",
      "65215   Good   203194\n",
      "65216   Good    89168\n",
      "65217   Good   592963\n",
      "\n",
      "[65218 rows x 2 columns]\n"
     ]
    }
   ],
   "source": [
    "# Убедимся, что длина предсказаний совпадает с количеством строк в DataFrame\n",
    "if len(predictions) == len(data) and len(class_labels) == len(data):\n",
    "    # Добавим предсказания и метки классов в DataFrame\n",
    "    df_reconstructed['health'] = class_labels\n",
    "    df_reconstructed.reset_index(inplace=True)\n",
    "\n",
    "    print(df_reconstructed[['health', 'tree_id']] )\n",
    "else:\n",
    "    print(\"Ошибка: длина предсказаний или меток классов не совпадает с длиной DataFrame.\")"
   ]
  }
 ],
 "metadata": {
  "kernelspec": {
   "display_name": ".venv",
   "language": "python",
   "name": "python3"
  },
  "language_info": {
   "codemirror_mode": {
    "name": "ipython",
    "version": 3
   },
   "file_extension": ".py",
   "mimetype": "text/x-python",
   "name": "python",
   "nbconvert_exporter": "python",
   "pygments_lexer": "ipython3",
   "version": "3.12.1"
  }
 },
 "nbformat": 4,
 "nbformat_minor": 2
}
